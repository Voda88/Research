{
 "cells": [
  {
   "cell_type": "markdown",
   "metadata": {},
   "source": [
    "# Analytical model for spherical sludge growth in Al-Fe system"
   ]
  },
  {
   "cell_type": "markdown",
   "metadata": {},
   "source": [
    "## References:\n",
    "\n",
    "1. An Analytical Solidification Model for Solute Redistribution during of Planar, Columnar, or Equiaxed Morphology L. Nastac and D.M. Stefanescu: Metall. Trans. A, 1993, vol. 24A, pp. 2107-18\n",
    "\n",
    "2. Computational Modeling of NbC/Laves Formation In INCONEL 718 Equiaxed Castings L. Nastac and D.M. Stefanescu: Metall. Mater. Trans. A, 1997, vol. 28A, pp. 1582-1587"
   ]
  },
  {
   "cell_type": "markdown",
   "metadata": {},
   "source": [
    "# Introduction:\n",
    "\n",
    "## Goal: \n",
    "\n",
    "Application of Nastac-Stefanescu model for morphology of sludge ($ \\beta $ aluminum) particles\n",
    "\n",
    "## Assumptions:\n",
    "\n",
    "<ul>\n",
    "    <li>Instantaneous nucleation</li>\n",
    "    <li>Sludge growth only in liquid</li>\n",
    "    <li>negligible interference between growing\n",
    "sludge</li>\n",
    "    <li>volume diffusion limited growth of sludge, and\n",
    "binary diffusion couple.</li>\n",
    "    \n",
    "</ul>\n",
    "\n",
    "## Schematic:\n",
    "\n",
    "<img src=\"https://dev-plebbit.s3.amazonaws.com/uploads/topic/picture/22/nucleus.png\" /img>\n",
    "\n",
    "<strong> Figure 1. Schematic of volume element (from ref.1 ) </strong>"
   ]
  },
  {
   "cell_type": "markdown",
   "metadata": {},
   "source": [
    "# Calculation strategy:"
   ]
  },
  {
   "cell_type": "markdown",
   "metadata": {},
   "source": [
    "<ol>\n",
    "    <li> Heat transfer: 1D control volume </li>\n",
    "    <li> modeling of the solute redistribution of iron </li>\n",
    "    <li> Nucleation and growth of sludge </li>\n",
    "</ol>"
   ]
  },
  {
   "cell_type": "markdown",
   "metadata": {},
   "source": [
    "# Implementation:\n",
    "\n",
    "## Physical data:"
   ]
  },
  {
   "cell_type": "code",
   "execution_count": null,
   "metadata": {
    "collapsed": true
   },
   "outputs": [],
   "source": [
    "#Aluminum properties:\n",
    "\n",
    "# Solid diffusion:\n",
    "d_s_al=0\n",
    "# Liquid diffusion:\n",
    "d_l_al=0\n",
    "# Density at solidus:\n",
    "rho_al=0\n",
    "# partition coefficient:\n",
    "k_al=0\n",
    "# Eutectic concentration:\n",
    "c_eut=0\n",
    "#Latent heat:\n",
    "\n",
    "# Gibbs thomson coefficient:\n",
    "gamma=0\n",
    "# Density \n"
   ]
  },
  {
   "cell_type": "markdown",
   "metadata": {},
   "source": [
    "## 1D Heat transfer:"
   ]
  },
  {
   "cell_type": "code",
   "execution_count": null,
   "metadata": {
    "collapsed": true
   },
   "outputs": [],
   "source": []
  }
 ],
 "metadata": {
  "anaconda-cloud": {},
  "kernelspec": {
   "display_name": "Python [Root]",
   "language": "python",
   "name": "Python [Root]"
  },
  "language_info": {
   "codemirror_mode": {
    "name": "ipython",
    "version": 3
   },
   "file_extension": ".py",
   "mimetype": "text/x-python",
   "name": "python",
   "nbconvert_exporter": "python",
   "pygments_lexer": "ipython3",
   "version": "3.5.2"
  }
 },
 "nbformat": 4,
 "nbformat_minor": 0
}
