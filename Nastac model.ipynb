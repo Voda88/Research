{
 "cells": [
  {
   "cell_type": "code",
   "execution_count": 3,
   "metadata": {
    "collapsed": false
   },
   "outputs": [
    {
     "data": {
      "text/html": [
       "\n",
       "    <div class=\"bk-root\">\n",
       "        <a href=\"http://bokeh.pydata.org\" target=\"_blank\" class=\"bk-logo bk-logo-small bk-logo-notebook\"></a>\n",
       "        <span id=\"ef27c298-8a38-4093-ab39-74e4eec0c26c\">Loading BokehJS ...</span>\n",
       "    </div>"
      ]
     },
     "metadata": {},
     "output_type": "display_data"
    },
    {
     "data": {
      "application/javascript": [
       "\n",
       "(function(global) {\n",
       "  function now() {\n",
       "    return new Date();\n",
       "  }\n",
       "\n",
       "  var force = \"1\";\n",
       "\n",
       "  if (typeof (window._bokeh_onload_callbacks) === \"undefined\" || force !== \"\") {\n",
       "    window._bokeh_onload_callbacks = [];\n",
       "    window._bokeh_is_loading = undefined;\n",
       "  }\n",
       "\n",
       "\n",
       "  \n",
       "  if (typeof (window._bokeh_timeout) === \"undefined\" || force !== \"\") {\n",
       "    window._bokeh_timeout = Date.now() + 5000;\n",
       "    window._bokeh_failed_load = false;\n",
       "  }\n",
       "\n",
       "  var NB_LOAD_WARNING = {'data': {'text/html':\n",
       "     \"<div style='background-color: #fdd'>\\n\"+\n",
       "     \"<p>\\n\"+\n",
       "     \"BokehJS does not appear to have successfully loaded. If loading BokehJS from CDN, this \\n\"+\n",
       "     \"may be due to a slow or bad network connection. Possible fixes:\\n\"+\n",
       "     \"</p>\\n\"+\n",
       "     \"<ul>\\n\"+\n",
       "     \"<li>re-rerun `output_notebook()` to attempt to load from CDN again, or</li>\\n\"+\n",
       "     \"<li>use INLINE resources instead, as so:</li>\\n\"+\n",
       "     \"</ul>\\n\"+\n",
       "     \"<code>\\n\"+\n",
       "     \"from bokeh.resources import INLINE\\n\"+\n",
       "     \"output_notebook(resources=INLINE)\\n\"+\n",
       "     \"</code>\\n\"+\n",
       "     \"</div>\"}};\n",
       "\n",
       "  function display_loaded() {\n",
       "    if (window.Bokeh !== undefined) {\n",
       "      Bokeh.$(\"#ef27c298-8a38-4093-ab39-74e4eec0c26c\").text(\"BokehJS successfully loaded.\");\n",
       "    } else if (Date.now() < window._bokeh_timeout) {\n",
       "      setTimeout(display_loaded, 100)\n",
       "    }\n",
       "  }\n",
       "\n",
       "  function run_callbacks() {\n",
       "    window._bokeh_onload_callbacks.forEach(function(callback) { callback() });\n",
       "    delete window._bokeh_onload_callbacks\n",
       "    console.info(\"Bokeh: all callbacks have finished\");\n",
       "  }\n",
       "\n",
       "  function load_libs(js_urls, callback) {\n",
       "    window._bokeh_onload_callbacks.push(callback);\n",
       "    if (window._bokeh_is_loading > 0) {\n",
       "      console.log(\"Bokeh: BokehJS is being loaded, scheduling callback at\", now());\n",
       "      return null;\n",
       "    }\n",
       "    if (js_urls == null || js_urls.length === 0) {\n",
       "      run_callbacks();\n",
       "      return null;\n",
       "    }\n",
       "    console.log(\"Bokeh: BokehJS not loaded, scheduling load and callback at\", now());\n",
       "    window._bokeh_is_loading = js_urls.length;\n",
       "    for (var i = 0; i < js_urls.length; i++) {\n",
       "      var url = js_urls[i];\n",
       "      var s = document.createElement('script');\n",
       "      s.src = url;\n",
       "      s.async = false;\n",
       "      s.onreadystatechange = s.onload = function() {\n",
       "        window._bokeh_is_loading--;\n",
       "        if (window._bokeh_is_loading === 0) {\n",
       "          console.log(\"Bokeh: all BokehJS libraries loaded\");\n",
       "          run_callbacks()\n",
       "        }\n",
       "      };\n",
       "      s.onerror = function() {\n",
       "        console.warn(\"failed to load library \" + url);\n",
       "      };\n",
       "      console.log(\"Bokeh: injecting script tag for BokehJS library: \", url);\n",
       "      document.getElementsByTagName(\"head\")[0].appendChild(s);\n",
       "    }\n",
       "  };var element = document.getElementById(\"ef27c298-8a38-4093-ab39-74e4eec0c26c\");\n",
       "  if (element == null) {\n",
       "    console.log(\"Bokeh: ERROR: autoload.js configured with elementid 'ef27c298-8a38-4093-ab39-74e4eec0c26c' but no matching script tag was found. \")\n",
       "    return false;\n",
       "  }\n",
       "\n",
       "  var js_urls = ['https://cdn.pydata.org/bokeh/release/bokeh-0.12.2.min.js', 'https://cdn.pydata.org/bokeh/release/bokeh-widgets-0.12.2.min.js', 'https://cdn.pydata.org/bokeh/release/bokeh-compiler-0.12.2.min.js'];\n",
       "\n",
       "  var inline_js = [\n",
       "    function(Bokeh) {\n",
       "      Bokeh.set_log_level(\"info\");\n",
       "    },\n",
       "    \n",
       "    function(Bokeh) {\n",
       "      \n",
       "      Bokeh.$(\"#ef27c298-8a38-4093-ab39-74e4eec0c26c\").text(\"BokehJS is loading...\");\n",
       "    },\n",
       "    function(Bokeh) {\n",
       "      console.log(\"Bokeh: injecting CSS: https://cdn.pydata.org/bokeh/release/bokeh-0.12.2.min.css\");\n",
       "      Bokeh.embed.inject_css(\"https://cdn.pydata.org/bokeh/release/bokeh-0.12.2.min.css\");\n",
       "      console.log(\"Bokeh: injecting CSS: https://cdn.pydata.org/bokeh/release/bokeh-widgets-0.12.2.min.css\");\n",
       "      Bokeh.embed.inject_css(\"https://cdn.pydata.org/bokeh/release/bokeh-widgets-0.12.2.min.css\");\n",
       "    }\n",
       "  ];\n",
       "\n",
       "  function run_inline_js() {\n",
       "    \n",
       "    if ((window.Bokeh !== undefined) || (force === \"1\")) {\n",
       "      for (var i = 0; i < inline_js.length; i++) {\n",
       "        inline_js[i](window.Bokeh);\n",
       "      }if (force === \"1\") {\n",
       "        display_loaded();\n",
       "      }} else if (Date.now() < window._bokeh_timeout) {\n",
       "      setTimeout(run_inline_js, 100);\n",
       "    } else if (!window._bokeh_failed_load) {\n",
       "      console.log(\"Bokeh: BokehJS failed to load within specified timeout.\");\n",
       "      window._bokeh_failed_load = true;\n",
       "    } else if (!force) {\n",
       "      var cell = $(\"#ef27c298-8a38-4093-ab39-74e4eec0c26c\").parents('.cell').data().cell;\n",
       "      cell.output_area.append_execute_result(NB_LOAD_WARNING)\n",
       "    }\n",
       "\n",
       "  }\n",
       "\n",
       "  if (window._bokeh_is_loading === 0) {\n",
       "    console.log(\"Bokeh: BokehJS loaded, going straight to plotting\");\n",
       "    run_inline_js();\n",
       "  } else {\n",
       "    load_libs(js_urls, function() {\n",
       "      console.log(\"Bokeh: BokehJS plotting callback run at\", now());\n",
       "      run_inline_js();\n",
       "    });\n",
       "  }\n",
       "}(this));"
      ]
     },
     "metadata": {},
     "output_type": "display_data"
    }
   ],
   "source": [
    "import numpy as np\n",
    "import bokeh as bk\n",
    "from bokeh.io import push_notebook\n",
    "import bokeh.plotting as bkp\n",
    "import bokeh.models as bkm\n",
    "from bokeh.io import push_notebook\n",
    "from ipywidgets import interact\n",
    "import ipywidgets as widgets\n",
    "bkp.output_notebook()"
   ]
  },
  {
   "cell_type": "markdown",
   "metadata": {},
   "source": [
    "# Analytical model for spherical sludge growth in Al-Fe system"
   ]
  },
  {
   "cell_type": "markdown",
   "metadata": {},
   "source": [
    "## References:\n",
    "\n",
    "1. An Analytical Solidification Model for Solute Redistribution during of Planar, Columnar, or Equiaxed Morphology L. Nastac and D.M. Stefanescu: Metall. Trans. A, 1993, vol. 24A, pp. 2107-18\n",
    "\n",
    "2. Computational Modeling of NbC/Laves Formation In INCONEL 718 Equiaxed Castings L. Nastac and D.M. Stefanescu: Metall. Mater. Trans. A, 1997, vol. 28A, pp. 1582-1587"
   ]
  },
  {
   "cell_type": "markdown",
   "metadata": {},
   "source": [
    "# Introduction:\n",
    "\n",
    "## Goal: \n",
    "\n",
    "Application of Nastac-Stefanescu model for morphology of sludge ($ \\beta $ aluminum) particles\n",
    "\n",
    "## Assumptions:\n",
    "\n",
    "<ul>\n",
    "    <li>Instantaneous nucleation</li>\n",
    "    <li>Sludge growth only in liquid</li>\n",
    "    <li>negligible interference between growing\n",
    "sludge</li>\n",
    "    <li>volume diffusion limited growth of sludge.</li>\n",
    "    <li>Constant growth velocity</li>\n",
    "    \n",
    "</ul>\n",
    "\n",
    "## Schematic:\n",
    "\n",
    "<img src=\"https://dev-plebbit.s3.amazonaws.com/uploads/topic/picture/22/nucleus.png\" /img>\n",
    "\n",
    "<strong> Figure 1. Schematic of volume element (from ref.1 ) </strong>"
   ]
  },
  {
   "cell_type": "markdown",
   "metadata": {},
   "source": [
    "# Calculation strategy:"
   ]
  },
  {
   "cell_type": "markdown",
   "metadata": {},
   "source": [
    "<ol>\n",
    "    <li> Determine the material properties of Al </li>\n",
    "    <li> Determine the material properties of Fe in Al </li>\n",
    "    <li> Heat transfer: Nova </li>\n",
    "    <li> Determine final solidification time </li>\n",
    "    <li> Experimentally determine final sludge particle radius as function of cooling rate </li>\n",
    "    <li> calculate interface growth velocity: </li>\n",
    "    <li> $$ V_{\\beta} = \\frac{\\Omega_{Fe}}{\\Phi_{\\beta}} \\frac{D_L}{R_D-R_f} $$ </li>\n",
    "    <li> $$ \\Phi_{\\beta} = \\frac{4 \\pi R_{\\beta}}{A_s} $$ </li>\n",
    "    <li> $$ R_D = \\frac{3}{4\\pi} \\Bigg( \\frac{v_l}{N_{\\beta}} \\Bigg)^{1/3} $$ </li>\n",
    "    <li> $$ \\Omega_{Fe} = \\frac{C_L^* - C_0}{C_L^*-C_S^*} $$ </li>\n",
    "    <li> Calculate interface radius: </li>\n",
    "    <li> $$ R^* = V_{\\beta}t $$ </li>\n",
    "    <li> calculate f raction of solid: </li>\n",
    "    <li> $$ f_s=(R^*/Rf)^3 $$</li>\n",
    "    <li> Calculate interface liquid iron concentration as function of fraction of solid: </li>\n",
    "    <li> $$ C_L^*= \\frac{C_0\\big( kI_S +I_L -\\frac{1}{3} \\big) + Q }{kI_S + I_L - \\frac{1}{3} + \\frac{1-k f_S}{3}} $$</li>\n",
    "    <li> $$ Q= \\frac{v_{\\beta}}{v_{\\Omega}}\\frac{\\rho_{\\beta}}{\\rho_{eu}} pct \\; Fe_\\beta  $$ </li>\n",
    "    <li> $$ I_S = \\frac{2f_S}{\\pi^2} \\sum_{n=1}^{\\infty} \\frac{1}{n^2} \\Bigg[-\\big( \\frac{n \\pi}{f_s^{1/3}} \\big) \\frac{D_St}{R^2_f} \\Bigg]  $$ </li>\n",
    "    <li> $$ I_L = 2f_s^{2/3}(1-f_s^{1/3}) \\sum_{n=1}^{\\infty} \\frac{1}{\\alpha^2_n} exp \\Bigg[ -\\Big( \\frac{\\alpha_n}{1/f_s^{1/3}} \\Big)^2 \\frac{D_L t}{R^2_f} \\Bigg] $$ </li>\n",
    "    <li> $$ \\alpha_n R_f  \\cot {\\alpha_n} = R_f - R^* $$ </li>\n",
    "    <li> Calculate sludge content (wt%) as function of fraction of solid </li>\n",
    "</ol>"
   ]
  },
  {
   "cell_type": "markdown",
   "metadata": {},
   "source": [
    "# Implementation:\n",
    "\n",
    "## Experimental sludge size:"
   ]
  },
  {
   "cell_type": "markdown",
   "metadata": {
    "collapsed": true
   },
   "source": [
    "<img src=\"https://dev-plebbit.s3.amazonaws.com/uploads/topic/picture/24/sludge.png\" />"
   ]
  },
  {
   "cell_type": "markdown",
   "metadata": {},
   "source": [
    "## Cooling rate:"
   ]
  },
  {
   "cell_type": "code",
   "execution_count": 7,
   "metadata": {
    "collapsed": false
   },
   "outputs": [
    {
     "name": "stdout",
     "output_type": "stream",
     "text": [
      "[  1.2   1.7   2.8  10.   25. ]\n"
     ]
    }
   ],
   "source": [
    "#Cooling rate, K/S\n",
    "cooling_rate=np.array([1.2,1.7,2.8,10,25])\n",
    "print(cooling_rate)"
   ]
  },
  {
   "cell_type": "markdown",
   "metadata": {},
   "source": [
    "## Rf:"
   ]
  },
  {
   "cell_type": "code",
   "execution_count": 9,
   "metadata": {
    "collapsed": false
   },
   "outputs": [
    {
     "name": "stdout",
     "output_type": "stream",
     "text": [
      "[  1.94935887e-05   1.70293864e-05   1.54919334e-05   1.53297097e-05\n",
      "   1.56524758e-05]\n"
     ]
    }
   ],
   "source": [
    "#Sludge area, um^2\n",
    "sludge_area=np.array([380,290,240,235,245])\n",
    "#Sludge area, m^2\n",
    "sludge_area=sludge_area*10**(-12)\n",
    "#Sludge radius, m\n",
    "sludge_radius=np.sqrt(sludge_area)\n",
    "print(sludge_radius)"
   ]
  },
  {
   "cell_type": "markdown",
   "metadata": {},
   "source": [
    "## Iteration:"
   ]
  },
  {
   "cell_type": "code",
   "execution_count": 24,
   "metadata": {
    "collapsed": false
   },
   "outputs": [
    {
     "name": "stdout",
     "output_type": "stream",
     "text": [
      "[ 10.127   0.      0.      0.      0.      0.      0.      0.      0.      0.\n",
      "   0.      0.      0.      0.      0.      0.      0.      0.      0.      0.   ]\n"
     ]
    }
   ],
   "source": [
    "cr=cooling_rate[0]\n",
    "R_f=sludge_radius[0]\n",
    "t_f=20\n",
    "C_0=10.127\n",
    "k=0.1539\n",
    "N_beta=5\n",
    "v_l=3/4*np.pi*R_f**3\n",
    "D_L=2.69*10**(-9)\n",
    "delta_t=1\n",
    "pct_Fe_beta=18.15\n",
    "rho_beta=2300\n",
    "rho_eut=2300\n",
    "\n",
    "R_D=(3/(4*np.pi))*(v_l/N_beta)**(1/3)\n",
    "\n",
    "\n",
    "def sphere_volume(R):\n",
    "    return (3/4*np.pi*R**3)\n",
    "\n",
    "def sol_sup_sat(C_l):\n",
    "    return (C_l-C_0)/(C_l-C_l/k)\n",
    "    \n",
    "def phi(R_beta,A_beta):\n",
    "    return (4*np.pi*R_beta/A_beta)\n",
    "\n",
    "def V_calc(C_l,R_beta,A_beta):\n",
    "    return sol_sup_sat(C_l)/phi(R_beta,A_beta)*D_L/(R_D-R_beta)\n",
    "\n",
    "def Q(R_beta):\n",
    "    return sphere_colume(R_beta)/v_l*(rho_beta/rho_eut)\n",
    "\n",
    "def I_S():\n",
    "\n",
    "C_l=np.zeros(t_f)\n",
    "V_beta=np.zeros(t_f)\n",
    "R_beta=np.zeros(t_f)\n",
    "A_beta=np.zeros(t_f)\n",
    "f_s=np.zeros(t_f)\n",
    "\n",
    "C_l[0]=C_0\n",
    "\n",
    "\n",
    "V_beta[0]=V_calc(C_l[0],R_beta[0],A_beta[0])\n",
    "\n",
    "R_beta[1]=R_beta[0]+V_beta[0]*delta_t\n",
    "f_s[1]=(R_beta[1]/R_f)**3\n",
    "\n",
    "\n",
    "\n",
    "\n",
    "\n",
    "\n",
    "    \n",
    "\n",
    "for i in range(0,t_f,1):\n",
    "    break\n",
    "    \n",
    "print(C_l_star)\n",
    "    "
   ]
  },
  {
   "cell_type": "code",
   "execution_count": null,
   "metadata": {
    "collapsed": true
   },
   "outputs": [],
   "source": []
  }
 ],
 "metadata": {
  "anaconda-cloud": {},
  "kernelspec": {
   "display_name": "Python [Root]",
   "language": "python",
   "name": "Python [Root]"
  },
  "language_info": {
   "codemirror_mode": {
    "name": "ipython",
    "version": 3
   },
   "file_extension": ".py",
   "mimetype": "text/x-python",
   "name": "python",
   "nbconvert_exporter": "python",
   "pygments_lexer": "ipython3",
   "version": "3.5.2"
  }
 },
 "nbformat": 4,
 "nbformat_minor": 0
}
