{
 "cells": [
  {
   "cell_type": "code",
   "execution_count": 3,
   "metadata": {
    "collapsed": false
   },
   "outputs": [
    {
     "data": {
      "text/html": [
       "\n",
       "    <div class=\"bk-root\">\n",
       "        <a href=\"http://bokeh.pydata.org\" target=\"_blank\" class=\"bk-logo bk-logo-small bk-logo-notebook\"></a>\n",
       "        <span id=\"3b2f0648-0baa-4ac0-9f50-09a2b92cbbf0\">Loading BokehJS ...</span>\n",
       "    </div>"
      ]
     },
     "metadata": {},
     "output_type": "display_data"
    },
    {
     "data": {
      "application/javascript": [
       "\n",
       "(function(global) {\n",
       "  function now() {\n",
       "    return new Date();\n",
       "  }\n",
       "\n",
       "  var force = \"1\";\n",
       "\n",
       "  if (typeof (window._bokeh_onload_callbacks) === \"undefined\" || force !== \"\") {\n",
       "    window._bokeh_onload_callbacks = [];\n",
       "    window._bokeh_is_loading = undefined;\n",
       "  }\n",
       "\n",
       "\n",
       "  \n",
       "  if (typeof (window._bokeh_timeout) === \"undefined\" || force !== \"\") {\n",
       "    window._bokeh_timeout = Date.now() + 5000;\n",
       "    window._bokeh_failed_load = false;\n",
       "  }\n",
       "\n",
       "  var NB_LOAD_WARNING = {'data': {'text/html':\n",
       "     \"<div style='background-color: #fdd'>\\n\"+\n",
       "     \"<p>\\n\"+\n",
       "     \"BokehJS does not appear to have successfully loaded. If loading BokehJS from CDN, this \\n\"+\n",
       "     \"may be due to a slow or bad network connection. Possible fixes:\\n\"+\n",
       "     \"</p>\\n\"+\n",
       "     \"<ul>\\n\"+\n",
       "     \"<li>re-rerun `output_notebook()` to attempt to load from CDN again, or</li>\\n\"+\n",
       "     \"<li>use INLINE resources instead, as so:</li>\\n\"+\n",
       "     \"</ul>\\n\"+\n",
       "     \"<code>\\n\"+\n",
       "     \"from bokeh.resources import INLINE\\n\"+\n",
       "     \"output_notebook(resources=INLINE)\\n\"+\n",
       "     \"</code>\\n\"+\n",
       "     \"</div>\"}};\n",
       "\n",
       "  function display_loaded() {\n",
       "    if (window.Bokeh !== undefined) {\n",
       "      Bokeh.$(\"#3b2f0648-0baa-4ac0-9f50-09a2b92cbbf0\").text(\"BokehJS successfully loaded.\");\n",
       "    } else if (Date.now() < window._bokeh_timeout) {\n",
       "      setTimeout(display_loaded, 100)\n",
       "    }\n",
       "  }\n",
       "\n",
       "  function run_callbacks() {\n",
       "    window._bokeh_onload_callbacks.forEach(function(callback) { callback() });\n",
       "    delete window._bokeh_onload_callbacks\n",
       "    console.info(\"Bokeh: all callbacks have finished\");\n",
       "  }\n",
       "\n",
       "  function load_libs(js_urls, callback) {\n",
       "    window._bokeh_onload_callbacks.push(callback);\n",
       "    if (window._bokeh_is_loading > 0) {\n",
       "      console.log(\"Bokeh: BokehJS is being loaded, scheduling callback at\", now());\n",
       "      return null;\n",
       "    }\n",
       "    if (js_urls == null || js_urls.length === 0) {\n",
       "      run_callbacks();\n",
       "      return null;\n",
       "    }\n",
       "    console.log(\"Bokeh: BokehJS not loaded, scheduling load and callback at\", now());\n",
       "    window._bokeh_is_loading = js_urls.length;\n",
       "    for (var i = 0; i < js_urls.length; i++) {\n",
       "      var url = js_urls[i];\n",
       "      var s = document.createElement('script');\n",
       "      s.src = url;\n",
       "      s.async = false;\n",
       "      s.onreadystatechange = s.onload = function() {\n",
       "        window._bokeh_is_loading--;\n",
       "        if (window._bokeh_is_loading === 0) {\n",
       "          console.log(\"Bokeh: all BokehJS libraries loaded\");\n",
       "          run_callbacks()\n",
       "        }\n",
       "      };\n",
       "      s.onerror = function() {\n",
       "        console.warn(\"failed to load library \" + url);\n",
       "      };\n",
       "      console.log(\"Bokeh: injecting script tag for BokehJS library: \", url);\n",
       "      document.getElementsByTagName(\"head\")[0].appendChild(s);\n",
       "    }\n",
       "  };var element = document.getElementById(\"3b2f0648-0baa-4ac0-9f50-09a2b92cbbf0\");\n",
       "  if (element == null) {\n",
       "    console.log(\"Bokeh: ERROR: autoload.js configured with elementid '3b2f0648-0baa-4ac0-9f50-09a2b92cbbf0' but no matching script tag was found. \")\n",
       "    return false;\n",
       "  }\n",
       "\n",
       "  var js_urls = ['https://cdn.pydata.org/bokeh/release/bokeh-0.12.2.min.js', 'https://cdn.pydata.org/bokeh/release/bokeh-widgets-0.12.2.min.js', 'https://cdn.pydata.org/bokeh/release/bokeh-compiler-0.12.2.min.js'];\n",
       "\n",
       "  var inline_js = [\n",
       "    function(Bokeh) {\n",
       "      Bokeh.set_log_level(\"info\");\n",
       "    },\n",
       "    \n",
       "    function(Bokeh) {\n",
       "      \n",
       "      Bokeh.$(\"#3b2f0648-0baa-4ac0-9f50-09a2b92cbbf0\").text(\"BokehJS is loading...\");\n",
       "    },\n",
       "    function(Bokeh) {\n",
       "      console.log(\"Bokeh: injecting CSS: https://cdn.pydata.org/bokeh/release/bokeh-0.12.2.min.css\");\n",
       "      Bokeh.embed.inject_css(\"https://cdn.pydata.org/bokeh/release/bokeh-0.12.2.min.css\");\n",
       "      console.log(\"Bokeh: injecting CSS: https://cdn.pydata.org/bokeh/release/bokeh-widgets-0.12.2.min.css\");\n",
       "      Bokeh.embed.inject_css(\"https://cdn.pydata.org/bokeh/release/bokeh-widgets-0.12.2.min.css\");\n",
       "    }\n",
       "  ];\n",
       "\n",
       "  function run_inline_js() {\n",
       "    \n",
       "    if ((window.Bokeh !== undefined) || (force === \"1\")) {\n",
       "      for (var i = 0; i < inline_js.length; i++) {\n",
       "        inline_js[i](window.Bokeh);\n",
       "      }if (force === \"1\") {\n",
       "        display_loaded();\n",
       "      }} else if (Date.now() < window._bokeh_timeout) {\n",
       "      setTimeout(run_inline_js, 100);\n",
       "    } else if (!window._bokeh_failed_load) {\n",
       "      console.log(\"Bokeh: BokehJS failed to load within specified timeout.\");\n",
       "      window._bokeh_failed_load = true;\n",
       "    } else if (!force) {\n",
       "      var cell = $(\"#3b2f0648-0baa-4ac0-9f50-09a2b92cbbf0\").parents('.cell').data().cell;\n",
       "      cell.output_area.append_execute_result(NB_LOAD_WARNING)\n",
       "    }\n",
       "\n",
       "  }\n",
       "\n",
       "  if (window._bokeh_is_loading === 0) {\n",
       "    console.log(\"Bokeh: BokehJS loaded, going straight to plotting\");\n",
       "    run_inline_js();\n",
       "  } else {\n",
       "    load_libs(js_urls, function() {\n",
       "      console.log(\"Bokeh: BokehJS plotting callback run at\", now());\n",
       "      run_inline_js();\n",
       "    });\n",
       "  }\n",
       "}(this));"
      ]
     },
     "metadata": {},
     "output_type": "display_data"
    }
   ],
   "source": [
    "import numpy as np\n",
    "import bokeh as bk\n",
    "from bokeh.io import push_notebook\n",
    "import bokeh.plotting as bkp\n",
    "import bokeh.models as bkm\n",
    "from bokeh.io import push_notebook\n",
    "from ipywidgets import interact\n",
    "import ipywidgets as widgets\n",
    "bkp.output_notebook()"
   ]
  },
  {
   "cell_type": "markdown",
   "metadata": {},
   "source": [
    "# Analytical model for spherical sludge growth in Al-Fe system"
   ]
  },
  {
   "cell_type": "markdown",
   "metadata": {},
   "source": [
    "## References:\n",
    "\n",
    "1. An Analytical Solidification Model for Solute Redistribution during of Planar, Columnar, or Equiaxed Morphology L. Nastac and D.M. Stefanescu: Metall. Trans. A, 1993, vol. 24A, pp. 2107-18\n",
    "\n",
    "2. Computational Modeling of NbC/Laves Formation In INCONEL 718 Equiaxed Castings L. Nastac and D.M. Stefanescu: Metall. Mater. Trans. A, 1997, vol. 28A, pp. 1582-1587"
   ]
  },
  {
   "cell_type": "markdown",
   "metadata": {},
   "source": [
    "# Introduction:\n",
    "\n",
    "## Goal: \n",
    "\n",
    "Application of Nastac-Stefanescu model for morphology of sludge ($ \\beta $ aluminum) particles\n",
    "\n",
    "## Assumptions:\n",
    "\n",
    "<ul>\n",
    "    <li>Instantaneous nucleation</li>\n",
    "    <li>Sludge growth only in liquid</li>\n",
    "    <li>negligible interference between growing\n",
    "sludge</li>\n",
    "    <li>volume diffusion limited growth of sludge.</li>\n",
    "    <li>Constant growth velocity</li>\n",
    "    \n",
    "</ul>\n",
    "\n",
    "## Schematic:\n",
    "\n",
    "<img src=\"https://dev-plebbit.s3.amazonaws.com/uploads/topic/picture/22/nucleus.png\" /img>\n",
    "\n",
    "<strong> Figure 1. Schematic of volume element (from ref.1 ) </strong>"
   ]
  },
  {
   "cell_type": "markdown",
   "metadata": {},
   "source": [
    "# Calculation strategy:"
   ]
  },
  {
   "cell_type": "markdown",
   "metadata": {},
   "source": [
    "<ol>\n",
    "    <li> Determine the material properties of Al </li>\n",
    "    <li> Determine the material properties of Fe in Al </li>\n",
    "    <li> Heat transfer: Nova </li>\n",
    "    <li> Determine final solidification time </li>\n",
    "    <li> Experimentally determine final sludge particle radius as function of cooling rate </li>\n",
    "    <li> calculate interface growth velocity: </li>\n",
    "    <li> $$ V_{\\beta} = \\frac{\\Omega_{Fe}}{\\Phi_{\\beta}} \\frac{D_L}{R_D-R_f} $$ </li>\n",
    "    <li> $$ \\Phi_{\\beta} = \\frac{4 \\pi R_{\\beta}}{A_s} $$ </li>\n",
    "    <li> $$ R_D = \\frac{3}{4\\pi} \\Bigg( \\frac{v_l}{N_{\\beta}} \\Bigg)^{1/3} $$ </li>\n",
    "    <li> $$ \\Omega_{Fe} = \\frac{C_L^* - C_0}{C_L^*-C_S^*} $$ </li>\n",
    "    <li> Calculate interface radius: </li>\n",
    "    <li> $$ R^* = V_{\\beta}t $$ </li>\n",
    "    <li> calculate f raction of solid: </li>\n",
    "    <li> $$ f_s=(R^*/Rf)^3 $$</li>\n",
    "    <li> Calculate interface liquid iron concentration as function of fraction of solid: </li>\n",
    "    <li> $$ C_L^*= \\frac{C_0\\big( kI_S +I_L -\\frac{1}{3} \\big) + Q }{kI_S + I_L - \\frac{1}{3} + \\frac{1-k f_S}{3}} $$</li>\n",
    "    <li> $$ Q= \\frac{v_{\\beta}}{v_{\\Omega}}\\frac{\\rho_{\\beta}}{\\rho_{eu}} pct \\; Fe_\\beta  $$ </li>\n",
    "    <li> $$ I_S = \\frac{2f_S}{\\pi^2} \\sum_{n=1}^{\\infty} \\frac{1}{n^2} \\Bigg[-\\big( \\frac{n \\pi}{f_s^{1/3}} \\big) \\frac{D_St}{R^2_f} \\Bigg]  $$ </li>\n",
    "    <li> $$ I_L = 2f_s^{2/3}(1-f_s^{1/3}) \\sum_{n=1}^{\\infty} \\frac{1}{\\alpha^2_n} exp \\Bigg[ -\\Big( \\frac{\\alpha_n}{1/f_s^{1/3}} \\Big)^2 \\frac{D_L t}{R^2_f} \\Bigg] $$ </li>\n",
    "    <li> $$ \\alpha_n R_f  \\cot {\\alpha_n} = R_f - R^* $$ </li>\n",
    "    <li> $$ \\langle C^L \\rangle =  $$ </li>\n",
    "    <li> Calculate sludge content (wt%) as function of fraction of solid </li>\n",
    "</ol>"
   ]
  },
  {
   "cell_type": "markdown",
   "metadata": {},
   "source": [
    "# Implementation:\n",
    "\n",
    "## Experimental sludge size:"
   ]
  },
  {
   "cell_type": "markdown",
   "metadata": {
    "collapsed": true
   },
   "source": [
    "<img src=\"https://dev-plebbit.s3.amazonaws.com/uploads/topic/picture/24/sludge.png\" />"
   ]
  },
  {
   "cell_type": "markdown",
   "metadata": {},
   "source": [
    "# Heat transfer model (0D):"
   ]
  },
  {
   "cell_type": "markdown",
   "metadata": {},
   "source": [
    "    1. A 383 as Al-Si system with Si-equivalent \n",
    "    2. Use constant heat flow:"
   ]
  },
  {
   "cell_type": "markdown",
   "metadata": {},
   "source": [
    "Heat flow:"
   ]
  },
  {
   "cell_type": "markdown",
   "metadata": {},
   "source": [
    "$$ \\dot{Q} = \\rho \\Delta H_f \\; \\frac{d f_s}{d t} - \\rho c  \\frac{dT}{dt} $$"
   ]
  },
  {
   "cell_type": "markdown",
   "metadata": {},
   "source": [
    "$$ T^{new} = T^{old} - \\frac{\\dot{Q}}{\\rho c} \\Delta t + \\frac{\\Delta H_f}{c} \\Delta f_s^{new} $$"
   ]
  },
  {
   "cell_type": "markdown",
   "metadata": {},
   "source": [
    "For N spherical dendrites in volume element:"
   ]
  },
  {
   "cell_type": "markdown",
   "metadata": {},
   "source": [
    "$$ \\frac{\\partial f_s}{\\partial t} = \\frac{\\partial}{\\partial t} \\Big( N \\frac{4}{3} \\pi r^3 \\Big) = 4 \\pi r^2 N\\frac{\\partial r}{\\partial t}  $$"
   ]
  },
  {
   "cell_type": "markdown",
   "metadata": {},
   "source": [
    "$$ \\frac{\\partial r}{\\partial t} = V_S $$"
   ]
  },
  {
   "cell_type": "markdown",
   "metadata": {},
   "source": [
    "Therefore:"
   ]
  },
  {
   "cell_type": "markdown",
   "metadata": {},
   "source": [
    "$$ r_s^{new} = r_s^{old} + V_s^{new} \\Delta t $$"
   ]
  },
  {
   "cell_type": "markdown",
   "metadata": {},
   "source": [
    "$$ \\Delta f_s^{new} =  4 \\pi (r_s^{new})^2 N V_S^{new} \\Delta t $$"
   ]
  },
  {
   "cell_type": "markdown",
   "metadata": {},
   "source": [
    "$$ f_s^{new} = f_s^{old} + \\Delta f_s^{new} $$"
   ]
  },
  {
   "cell_type": "markdown",
   "metadata": {},
   "source": [
    "Solidification velocity, assuming solutal dendrite:"
   ]
  },
  {
   "cell_type": "markdown",
   "metadata": {},
   "source": [
    "$$ V_S^{new} = \\mu \\Delta T^2 = \\frac{D_L}{2\\cdot \\pi^2 \\Gamma m(k-1) \\langle C_L^{new} \\rangle} \\big(\\Delta T^{new} \\big)^2 $$"
   ]
  },
  {
   "cell_type": "markdown",
   "metadata": {},
   "source": [
    "Scheil for liquid concentration:"
   ]
  },
  {
   "cell_type": "markdown",
   "metadata": {},
   "source": [
    "$$ \\langle C_L^{new} \\rangle = C_0 (1-f_S^{old})^{k-1} $$"
   ]
  },
  {
   "cell_type": "markdown",
   "metadata": {},
   "source": [
    "Undercooling:"
   ]
  },
  {
   "cell_type": "markdown",
   "metadata": {},
   "source": [
    "$$ \\Delta T = \\Delta T_C + \\Delta T_T = m(C_0 - C_L) + T^* - T_{bulk} = T_f + mC_0 - T_{bulk} = T_f + m\\langle C_L^{new} \\rangle - T_{bulk} $$"
   ]
  },
  {
   "cell_type": "markdown",
   "metadata": {},
   "source": [
    "Data taken from Nova database:\n",
    "\n",
    "<table>\n",
    "    <tr>\n",
    "        <th>Material property</th>\n",
    "        <td>$ \\rho_s $</td>\n",
    "        <td> $ c_s $ </td>\n",
    "        <td> $ k_s $ </td>\n",
    "        <td> $ \\Delta H_{FP} $ </td>\n",
    "        <td> $ \\Delta H_{FE} $ </td>\n",
    "        <td> $  T_L $ </td>\n",
    "        <td> $  T_S $ </td>\n",
    "        <td> $ \\Delta T_0 $ </td>\n",
    "        <td> $ T_E $ </td>\n",
    "        <td> $ C_0 $ </td>\n",
    "        <td> $ m $ </td>\n",
    "        <td> $ k $ </td>\n",
    "        <td> $ \\Gamma $ </td>\n",
    "        <td> $ D_L $ </td>\n",
    "        <td> $ C_E $ </td>\n",
    "    </tr>\n",
    "    <tr>\n",
    "        <th>value</th>\n",
    "        <td> 2485 </td>\n",
    "        <td> 964.3 </td>\n",
    "        <td> 96 </td>\n",
    "        <td> 340 000 </td>\n",
    "        <td> 508 497 </td>\n",
    "        <td> 867 K </td>\n",
    "        <td> 812 K </td>\n",
    "        <td> 55 K </td>\n",
    "        <td> 803 K </td>\n",
    "        <td> 10.1 </td>\n",
    "        <td> -14.56 </td>\n",
    "        <td> 0.1539 </td>\n",
    "        <td>  1.96e-07  </td>\n",
    "        <td> 5.4e-09 </td>\n",
    "        <td> 14.5 </td>\n",
    "    </tr>\n",
    "</table>"
   ]
  },
  {
   "cell_type": "code",
   "execution_count": 536,
   "metadata": {
    "collapsed": false,
    "scrolled": false
   },
   "outputs": [
    {
     "name": "stdout",
     "output_type": "stream",
     "text": [
      "738\n"
     ]
    }
   ],
   "source": [
    "#general\n",
    "q=2*10**(8)\n",
    "temp_init=903.15\n",
    "delta_t=0.01\n",
    "\n",
    "#primary\n",
    "Gamma=1.96*10**(-7)\n",
    "C_0=10\n",
    "D_L=5.4*10**(-9)\n",
    "k=0.1539\n",
    "N=100\n",
    "rho=2485\n",
    "c=964.3\n",
    "delta_H_f=3.4*10**5\n",
    "T_L = 867\n",
    "m=-14\n",
    "C_E=14.5\n",
    "T_E=803\n",
    "\n",
    "#eutectic\n",
    "mu_eut_alpha = 2.9*10**(-6)\n",
    "mu_eut_beta = 5.8*10**(-5)\n",
    "delta_H_f_eut = 508497\n",
    "\n",
    "\n",
    "def C_L(fs_old,C_L_old):\n",
    "    if C_L_old < C_E:\n",
    "        return C_0*(1-fs_old)**(k-1)\n",
    "    else:\n",
    "        return C_L_old\n",
    "\n",
    "def Delta_T(C_L_new,T_old):\n",
    "    if C_L_new < C_E:\n",
    "        if T_L+m*(C_L_new-C_0)-T_old >= 0:\n",
    "            return T_L+m*(C_L_new-C_0)-T_old\n",
    "        else:\n",
    "            return 0\n",
    "    else:\n",
    "        return T_E-T_old\n",
    "        \n",
    "def V_S(C_L_new,Delta_T_new):\n",
    "    if C_L_new < C_E:\n",
    "        return D_L/(2*np.pi**2*Gamma*m*(k-1)*C_L_new)*(Delta_T_new)**2\n",
    "    else:\n",
    "        return mu_eut_alpha*(Delta_T_new)**2\n",
    "                \n",
    "def R(r_old,V_S_new):\n",
    "    return r_old+V_S_new*delta_t\n",
    "                \n",
    "def Delta_fs(r_new,V_S_new):\n",
    "    return 4*np.pi*r_new**(2)*V_S_new*delta_t*N\n",
    "    \n",
    "def T(T_old,Delta_fs_new,C_L_new):\n",
    "    if C_L_new < C_E:\n",
    "        return T_old-q/(rho*c)*delta_t+delta_H_f/c*Delta_fs_new\n",
    "    else:\n",
    "        return T_old-q/(rho*c)*delta_t+delta_H_f_eut/c*Delta_fs_new\n",
    "\n",
    "def fs(fs_old,Delta_fs_new):\n",
    "    return fs_old+Delta_fs_new\n",
    "\n",
    "max_steps=1000\n",
    "\n",
    "time=np.linspace(0,delta_t*max_steps,max_steps)\n",
    "fs_arr=np.zeros(max_steps)\n",
    "\n",
    "T_arr=np.zeros(max_steps)\n",
    "T_arr[0]=temp_init\n",
    "\n",
    "r_arr=np.zeros(max_steps)\n",
    "r_arr[0]=10**(-7)\n",
    "\n",
    "C_L_arr=np.zeros(max_steps)\n",
    "C_L_arr[0]=C_0\n",
    "\n",
    "V_S_arr=np.zeros(max_steps)\n",
    "V_S_arr[0]=0\n",
    "                \n",
    "Delta_T_arr=np.zeros(max_steps)\n",
    "                \n",
    "Delta_fs_arr=np.zeros(max_steps)\n",
    "\n",
    "n=0\n",
    "\n",
    "for i in range(1,len(time)):\n",
    "    C_L_arr[i] = C_L(fs_arr[i-1],C_L_arr[i-1])\n",
    "    Delta_T_arr[i] = Delta_T(C_L_arr[i],T_arr[i-1])\n",
    "    V_S_arr[i] = V_S(C_L_arr[i],Delta_T_arr[i])\n",
    "    r_arr[i] = R(r_arr[i-1], V_S_arr[i])\n",
    "    Delta_fs_arr[i] = Delta_fs(r_arr[i],V_S_arr[i]) \n",
    "    fs_arr[i] = fs(fs_arr[i-1],Delta_fs_arr[i])\n",
    "    T_arr[i]= T(T_arr[i-1],Delta_fs_arr[i],C_L_arr[i])\n",
    "    if fs_arr[i] >= 1:\n",
    "        n=i\n",
    "        break\n",
    "        \n",
    "print(n)"
   ]
  },
  {
   "cell_type": "code",
   "execution_count": 540,
   "metadata": {
    "collapsed": false,
    "scrolled": true
   },
   "outputs": [
    {
     "data": {
      "text/html": [
       "\n",
       "\n",
       "    <div class=\"bk-root\">\n",
       "        <div class=\"plotdiv\" id=\"5f28e959-f142-41c0-9019-99dc23c4722a\"></div>\n",
       "    </div>\n",
       "<script type=\"text/javascript\">\n",
       "  \n",
       "  (function(global) {\n",
       "    function now() {\n",
       "      return new Date();\n",
       "    }\n",
       "  \n",
       "    var force = \"\";\n",
       "  \n",
       "    if (typeof (window._bokeh_onload_callbacks) === \"undefined\" || force !== \"\") {\n",
       "      window._bokeh_onload_callbacks = [];\n",
       "      window._bokeh_is_loading = undefined;\n",
       "    }\n",
       "  \n",
       "  \n",
       "    \n",
       "    if (typeof (window._bokeh_timeout) === \"undefined\" || force !== \"\") {\n",
       "      window._bokeh_timeout = Date.now() + 0;\n",
       "      window._bokeh_failed_load = false;\n",
       "    }\n",
       "  \n",
       "    var NB_LOAD_WARNING = {'data': {'text/html':\n",
       "       \"<div style='background-color: #fdd'>\\n\"+\n",
       "       \"<p>\\n\"+\n",
       "       \"BokehJS does not appear to have successfully loaded. If loading BokehJS from CDN, this \\n\"+\n",
       "       \"may be due to a slow or bad network connection. Possible fixes:\\n\"+\n",
       "       \"</p>\\n\"+\n",
       "       \"<ul>\\n\"+\n",
       "       \"<li>re-rerun `output_notebook()` to attempt to load from CDN again, or</li>\\n\"+\n",
       "       \"<li>use INLINE resources instead, as so:</li>\\n\"+\n",
       "       \"</ul>\\n\"+\n",
       "       \"<code>\\n\"+\n",
       "       \"from bokeh.resources import INLINE\\n\"+\n",
       "       \"output_notebook(resources=INLINE)\\n\"+\n",
       "       \"</code>\\n\"+\n",
       "       \"</div>\"}};\n",
       "  \n",
       "    function display_loaded() {\n",
       "      if (window.Bokeh !== undefined) {\n",
       "        Bokeh.$(\"#5f28e959-f142-41c0-9019-99dc23c4722a\").text(\"BokehJS successfully loaded.\");\n",
       "      } else if (Date.now() < window._bokeh_timeout) {\n",
       "        setTimeout(display_loaded, 100)\n",
       "      }\n",
       "    }\n",
       "  \n",
       "    function run_callbacks() {\n",
       "      window._bokeh_onload_callbacks.forEach(function(callback) { callback() });\n",
       "      delete window._bokeh_onload_callbacks\n",
       "      console.info(\"Bokeh: all callbacks have finished\");\n",
       "    }\n",
       "  \n",
       "    function load_libs(js_urls, callback) {\n",
       "      window._bokeh_onload_callbacks.push(callback);\n",
       "      if (window._bokeh_is_loading > 0) {\n",
       "        console.log(\"Bokeh: BokehJS is being loaded, scheduling callback at\", now());\n",
       "        return null;\n",
       "      }\n",
       "      if (js_urls == null || js_urls.length === 0) {\n",
       "        run_callbacks();\n",
       "        return null;\n",
       "      }\n",
       "      console.log(\"Bokeh: BokehJS not loaded, scheduling load and callback at\", now());\n",
       "      window._bokeh_is_loading = js_urls.length;\n",
       "      for (var i = 0; i < js_urls.length; i++) {\n",
       "        var url = js_urls[i];\n",
       "        var s = document.createElement('script');\n",
       "        s.src = url;\n",
       "        s.async = false;\n",
       "        s.onreadystatechange = s.onload = function() {\n",
       "          window._bokeh_is_loading--;\n",
       "          if (window._bokeh_is_loading === 0) {\n",
       "            console.log(\"Bokeh: all BokehJS libraries loaded\");\n",
       "            run_callbacks()\n",
       "          }\n",
       "        };\n",
       "        s.onerror = function() {\n",
       "          console.warn(\"failed to load library \" + url);\n",
       "        };\n",
       "        console.log(\"Bokeh: injecting script tag for BokehJS library: \", url);\n",
       "        document.getElementsByTagName(\"head\")[0].appendChild(s);\n",
       "      }\n",
       "    };var element = document.getElementById(\"5f28e959-f142-41c0-9019-99dc23c4722a\");\n",
       "    if (element == null) {\n",
       "      console.log(\"Bokeh: ERROR: autoload.js configured with elementid '5f28e959-f142-41c0-9019-99dc23c4722a' but no matching script tag was found. \")\n",
       "      return false;\n",
       "    }\n",
       "  \n",
       "    var js_urls = [];\n",
       "  \n",
       "    var inline_js = [\n",
       "      function(Bokeh) {\n",
       "        Bokeh.$(function() {\n",
       "            var docs_json = {\"e4ddbcbe-3706-4db7-aae1-00758fdb90fe\":{\"roots\":{\"references\":[{\"attributes\":{\"plot\":{\"id\":\"2392fdf6-fe55-4a06-aa45-599705317127\",\"subtype\":\"Figure\",\"type\":\"Plot\"}},\"id\":\"6dec23f1-6aba-4845-963e-2c7c49b56031\",\"type\":\"HelpTool\"},{\"attributes\":{\"plot\":null,\"text\":\"Evolution of T during dendrite growth\"},\"id\":\"81f19a64-1956-4300-a536-33dd8dc48907\",\"type\":\"Title\"},{\"attributes\":{\"line_color\":{\"value\":\"red\"},\"x\":{\"field\":\"x\"},\"y\":{\"field\":\"y\"}},\"id\":\"3644b65e-e12d-4a2e-8bfc-f29db58e5bbb\",\"type\":\"Line\"},{\"attributes\":{\"plot\":{\"id\":\"2392fdf6-fe55-4a06-aa45-599705317127\",\"subtype\":\"Figure\",\"type\":\"Plot\"}},\"id\":\"3bfe4de8-91bc-4d60-92b5-ab568afa03d2\",\"type\":\"WheelZoomTool\"},{\"attributes\":{\"plot\":{\"id\":\"2392fdf6-fe55-4a06-aa45-599705317127\",\"subtype\":\"Figure\",\"type\":\"Plot\"}},\"id\":\"b26ea5c0-7d09-46f5-bc9d-3be4fc3316d3\",\"type\":\"SaveTool\"},{\"attributes\":{},\"id\":\"2b98fb70-a3c0-4370-a625-20162a7f7b18\",\"type\":\"ToolEvents\"},{\"attributes\":{\"below\":[{\"id\":\"510657d7-c679-4209-b6b3-7f4a736c6eb7\",\"type\":\"LinearAxis\"}],\"left\":[{\"id\":\"160bb4a5-5ec9-4494-833f-7a55ae23cfbf\",\"type\":\"LinearAxis\"}],\"renderers\":[{\"id\":\"510657d7-c679-4209-b6b3-7f4a736c6eb7\",\"type\":\"LinearAxis\"},{\"id\":\"f5c11628-dccb-4934-ae0e-a9ecac114a41\",\"type\":\"Grid\"},{\"id\":\"160bb4a5-5ec9-4494-833f-7a55ae23cfbf\",\"type\":\"LinearAxis\"},{\"id\":\"7c6225d3-397a-412d-8d67-b5d443328dc5\",\"type\":\"Grid\"},{\"id\":\"0c038e2a-9313-426d-b38f-ecf6e108cb33\",\"type\":\"BoxAnnotation\"},{\"id\":\"5ff4f200-bd1c-463c-bcc8-da46db46eba5\",\"type\":\"Legend\"},{\"id\":\"9286f328-b46f-4e4f-8763-d36b0a5d6272\",\"type\":\"GlyphRenderer\"}],\"title\":{\"id\":\"81f19a64-1956-4300-a536-33dd8dc48907\",\"type\":\"Title\"},\"tool_events\":{\"id\":\"2b98fb70-a3c0-4370-a625-20162a7f7b18\",\"type\":\"ToolEvents\"},\"toolbar\":{\"id\":\"cd169d5b-cabe-45d7-811e-1733e9b1266e\",\"type\":\"Toolbar\"},\"x_range\":{\"id\":\"bca3e96a-9568-429c-abf6-0eec3d5e88c3\",\"type\":\"DataRange1d\"},\"y_range\":{\"id\":\"b921616b-5214-4b63-8449-d0523fbc8a43\",\"type\":\"DataRange1d\"}},\"id\":\"2392fdf6-fe55-4a06-aa45-599705317127\",\"subtype\":\"Figure\",\"type\":\"Plot\"},{\"attributes\":{\"active_drag\":\"auto\",\"active_scroll\":\"auto\",\"active_tap\":\"auto\",\"tools\":[{\"id\":\"c17d37b9-6db3-492f-8dc0-14aa72eb2428\",\"type\":\"PanTool\"},{\"id\":\"3bfe4de8-91bc-4d60-92b5-ab568afa03d2\",\"type\":\"WheelZoomTool\"},{\"id\":\"d4cb2dfe-1c5f-4feb-ac7e-a35a1c6b6519\",\"type\":\"BoxZoomTool\"},{\"id\":\"b26ea5c0-7d09-46f5-bc9d-3be4fc3316d3\",\"type\":\"SaveTool\"},{\"id\":\"0ddef849-8672-4b06-8ff4-35b39a2d18fe\",\"type\":\"ResetTool\"},{\"id\":\"6dec23f1-6aba-4845-963e-2c7c49b56031\",\"type\":\"HelpTool\"}]},\"id\":\"cd169d5b-cabe-45d7-811e-1733e9b1266e\",\"type\":\"Toolbar\"},{\"attributes\":{\"bottom_units\":\"screen\",\"fill_alpha\":{\"value\":0.5},\"fill_color\":{\"value\":\"lightgrey\"},\"left_units\":\"screen\",\"level\":\"overlay\",\"line_alpha\":{\"value\":1.0},\"line_color\":{\"value\":\"black\"},\"line_dash\":[4,4],\"line_width\":{\"value\":2},\"plot\":null,\"render_mode\":\"css\",\"right_units\":\"screen\",\"top_units\":\"screen\"},\"id\":\"0c038e2a-9313-426d-b38f-ecf6e108cb33\",\"type\":\"BoxAnnotation\"},{\"attributes\":{},\"id\":\"13ce3d93-2865-480c-bfe0-5d8bafac82dc\",\"type\":\"BasicTickFormatter\"},{\"attributes\":{},\"id\":\"e3d1d97e-fc08-4907-ba93-51bf4a149707\",\"type\":\"BasicTicker\"},{\"attributes\":{\"line_alpha\":{\"value\":0.1},\"line_color\":{\"value\":\"#1f77b4\"},\"x\":{\"field\":\"x\"},\"y\":{\"field\":\"y\"}},\"id\":\"29aa3a9f-fae9-4eb0-a18a-3880bc629991\",\"type\":\"Line\"},{\"attributes\":{\"overlay\":{\"id\":\"0c038e2a-9313-426d-b38f-ecf6e108cb33\",\"type\":\"BoxAnnotation\"},\"plot\":{\"id\":\"2392fdf6-fe55-4a06-aa45-599705317127\",\"subtype\":\"Figure\",\"type\":\"Plot\"}},\"id\":\"d4cb2dfe-1c5f-4feb-ac7e-a35a1c6b6519\",\"type\":\"BoxZoomTool\"},{\"attributes\":{\"axis_label\":\"Time,s\",\"formatter\":{\"id\":\"e5b922ac-99c9-40ef-a050-e12e1324b324\",\"type\":\"BasicTickFormatter\"},\"plot\":{\"id\":\"2392fdf6-fe55-4a06-aa45-599705317127\",\"subtype\":\"Figure\",\"type\":\"Plot\"},\"ticker\":{\"id\":\"e3d1d97e-fc08-4907-ba93-51bf4a149707\",\"type\":\"BasicTicker\"}},\"id\":\"510657d7-c679-4209-b6b3-7f4a736c6eb7\",\"type\":\"LinearAxis\"},{\"attributes\":{\"plot\":{\"id\":\"2392fdf6-fe55-4a06-aa45-599705317127\",\"subtype\":\"Figure\",\"type\":\"Plot\"}},\"id\":\"c17d37b9-6db3-492f-8dc0-14aa72eb2428\",\"type\":\"PanTool\"},{\"attributes\":{\"plot\":{\"id\":\"2392fdf6-fe55-4a06-aa45-599705317127\",\"subtype\":\"Figure\",\"type\":\"Plot\"}},\"id\":\"0ddef849-8672-4b06-8ff4-35b39a2d18fe\",\"type\":\"ResetTool\"},{\"attributes\":{\"data_source\":{\"id\":\"f776a56a-2445-4259-8f74-a3ed5ada44ef\",\"type\":\"ColumnDataSource\"},\"glyph\":{\"id\":\"3644b65e-e12d-4a2e-8bfc-f29db58e5bbb\",\"type\":\"Line\"},\"hover_glyph\":null,\"nonselection_glyph\":{\"id\":\"29aa3a9f-fae9-4eb0-a18a-3880bc629991\",\"type\":\"Line\"},\"selection_glyph\":null},\"id\":\"9286f328-b46f-4e4f-8763-d36b0a5d6272\",\"type\":\"GlyphRenderer\"},{\"attributes\":{},\"id\":\"e5b922ac-99c9-40ef-a050-e12e1324b324\",\"type\":\"BasicTickFormatter\"},{\"attributes\":{\"legends\":[[\"Temperature\",[{\"id\":\"9286f328-b46f-4e4f-8763-d36b0a5d6272\",\"type\":\"GlyphRenderer\"}]]],\"plot\":{\"id\":\"2392fdf6-fe55-4a06-aa45-599705317127\",\"subtype\":\"Figure\",\"type\":\"Plot\"}},\"id\":\"5ff4f200-bd1c-463c-bcc8-da46db46eba5\",\"type\":\"Legend\"},{\"attributes\":{\"plot\":{\"id\":\"2392fdf6-fe55-4a06-aa45-599705317127\",\"subtype\":\"Figure\",\"type\":\"Plot\"},\"ticker\":{\"id\":\"e3d1d97e-fc08-4907-ba93-51bf4a149707\",\"type\":\"BasicTicker\"}},\"id\":\"f5c11628-dccb-4934-ae0e-a9ecac114a41\",\"type\":\"Grid\"},{\"attributes\":{\"callback\":null},\"id\":\"b921616b-5214-4b63-8449-d0523fbc8a43\",\"type\":\"DataRange1d\"},{\"attributes\":{},\"id\":\"c26106bf-0827-45f1-aa63-750dda400b40\",\"type\":\"BasicTicker\"},{\"attributes\":{\"dimension\":1,\"plot\":{\"id\":\"2392fdf6-fe55-4a06-aa45-599705317127\",\"subtype\":\"Figure\",\"type\":\"Plot\"},\"ticker\":{\"id\":\"c26106bf-0827-45f1-aa63-750dda400b40\",\"type\":\"BasicTicker\"}},\"id\":\"7c6225d3-397a-412d-8d67-b5d443328dc5\",\"type\":\"Grid\"},{\"attributes\":{\"callback\":null,\"column_names\":[\"y\",\"x\"],\"data\":{\"x\":[0.0,0.01001001001001001,0.02002002002002002,0.03003003003003003,0.04004004004004004,0.050050050050050046,0.06006006006006006,0.07007007007007007,0.08008008008008008,0.09009009009009009,0.10010010010010009,0.11011011011011011,0.12012012012012012,0.13013013013013014,0.14014014014014015,0.15015015015015015,0.16016016016016016,0.17017017017017017,0.18018018018018017,0.19019019019019018,0.20020020020020018,0.21021021021021022,0.22022022022022023,0.23023023023023023,0.24024024024024024,0.2502502502502503,0.2602602602602603,0.2702702702702703,0.2802802802802803,0.2902902902902903,0.3003003003003003,0.3103103103103103,0.3203203203203203,0.3303303303303303,0.34034034034034033,0.35035035035035034,0.36036036036036034,0.37037037037037035,0.38038038038038036,0.39039039039039036,0.40040040040040037,0.41041041041041043,0.42042042042042044,0.43043043043043044,0.44044044044044045,0.45045045045045046,0.46046046046046046,0.47047047047047047,0.4804804804804805,0.4904904904904905,0.5005005005005005,0.5105105105105106,0.5205205205205206,0.5305305305305306,0.5405405405405406,0.5505505505505506,0.5605605605605606,0.5705705705705706,0.5805805805805806,0.5905905905905906,0.6006006006006006,0.6106106106106106,0.6206206206206206,0.6306306306306306,0.6406406406406406,0.6506506506506506,0.6606606606606606,0.6706706706706707,0.6806806806806807,0.6906906906906907,0.7007007007007007,0.7107107107107107,0.7207207207207207,0.7307307307307307,0.7407407407407407,0.7507507507507507,0.7607607607607607,0.7707707707707707,0.7807807807807807,0.7907907907907907,0.8008008008008007,0.8108108108108109,0.8208208208208209,0.8308308308308309,0.8408408408408409,0.8508508508508509,0.8608608608608609,0.8708708708708709,0.8808808808808809,0.8908908908908909,0.9009009009009009,0.9109109109109109,0.9209209209209209,0.9309309309309309,0.9409409409409409,0.950950950950951,0.960960960960961,0.970970970970971,0.980980980980981,0.990990990990991,1.001001001001001,1.011011011011011,1.021021021021021,1.031031031031031,1.0410410410410411,1.0510510510510511,1.0610610610610611,1.0710710710710711,1.0810810810810811,1.0910910910910911,1.1011011011011012,1.1111111111111112,1.1211211211211212,1.1311311311311312,1.1411411411411412,1.1511511511511512,1.1611611611611612,1.1711711711711712,1.1811811811811812,1.1911911911911912,1.2012012012012012,1.2112112112112112,1.2212212212212212,1.2312312312312312,1.2412412412412412,1.2512512512512513,1.2612612612612613,1.2712712712712713,1.2812812812812813,1.2912912912912913,1.3013013013013013,1.3113113113113113,1.3213213213213213,1.3313313313313313,1.3413413413413413,1.3513513513513513,1.3613613613613613,1.3713713713713713,1.3813813813813813,1.3913913913913913,1.4014014014014013,1.4114114114114114,1.4214214214214214,1.4314314314314314,1.4414414414414414,1.4514514514514514,1.4614614614614614,1.4714714714714714,1.4814814814814814,1.4914914914914914,1.5015015015015014,1.5115115115115114,1.5215215215215214,1.5315315315315314,1.5415415415415414,1.5515515515515514,1.5615615615615615,1.5715715715715715,1.5815815815815815,1.5915915915915915,1.6016016016016015,1.6116116116116117,1.6216216216216217,1.6316316316316317,1.6416416416416417,1.6516516516516517,1.6616616616616617,1.6716716716716717,1.6816816816816818,1.6916916916916918,1.7017017017017018,1.7117117117117118,1.7217217217217218,1.7317317317317318,1.7417417417417418,1.7517517517517518,1.7617617617617618,1.7717717717717718,1.7817817817817818,1.7917917917917918,1.8018018018018018,1.8118118118118118,1.8218218218218218,1.8318318318318318,1.8418418418418419,1.8518518518518519,1.8618618618618619,1.8718718718718719,1.8818818818818819,1.8918918918918919,1.901901901901902,1.911911911911912,1.921921921921922,1.931931931931932,1.941941941941942,1.951951951951952,1.961961961961962,1.971971971971972,1.981981981981982,1.991991991991992,2.002002002002002,2.012012012012012,2.022022022022022,2.032032032032032,2.042042042042042,2.052052052052052,2.062062062062062,2.0720720720720722,2.0820820820820822,2.0920920920920922,2.1021021021021022,2.1121121121121122,2.1221221221221223,2.1321321321321323,2.1421421421421423,2.1521521521521523,2.1621621621621623,2.1721721721721723,2.1821821821821823,2.1921921921921923,2.2022022022022023,2.2122122122122123,2.2222222222222223,2.2322322322322323,2.2422422422422423,2.2522522522522523,2.2622622622622623,2.2722722722722724,2.2822822822822824,2.2922922922922924,2.3023023023023024,2.3123123123123124,2.3223223223223224,2.3323323323323324,2.3423423423423424,2.3523523523523524,2.3623623623623624,2.3723723723723724,2.3823823823823824,2.3923923923923924,2.4024024024024024,2.4124124124124124,2.4224224224224224,2.4324324324324325,2.4424424424424425,2.4524524524524525,2.4624624624624625,2.4724724724724725,2.4824824824824825,2.4924924924924925,2.5025025025025025,2.5125125125125125,2.5225225225225225,2.5325325325325325,2.5425425425425425,2.5525525525525525,2.5625625625625625,2.5725725725725725,2.5825825825825826,2.5925925925925926,2.6026026026026026,2.6126126126126126,2.6226226226226226,2.6326326326326326,2.6426426426426426,2.6526526526526526,2.6626626626626626,2.6726726726726726,2.6826826826826826,2.6926926926926926,2.7027027027027026,2.7127127127127126,2.7227227227227226,2.7327327327327327,2.7427427427427427,2.7527527527527527,2.7627627627627627,2.7727727727727727,2.7827827827827827,2.7927927927927927,2.8028028028028027,2.8128128128128127,2.8228228228228227,2.8328328328328327,2.8428428428428427,2.8528528528528527,2.8628628628628627,2.8728728728728727,2.8828828828828827,2.8928928928928928,2.9029029029029028,2.9129129129129128,2.9229229229229228,2.932932932932933,2.942942942942943,2.952952952952953,2.962962962962963,2.972972972972973,2.982982982982983,2.992992992992993,3.003003003003003,3.013013013013013,3.023023023023023,3.033033033033033,3.043043043043043,3.053053053053053,3.063063063063063,3.073073073073073,3.083083083083083,3.093093093093093,3.103103103103103,3.113113113113113,3.123123123123123,3.133133133133133,3.143143143143143,3.153153153153153,3.163163163163163,3.173173173173173,3.183183183183183,3.193193193193193,3.203203203203203,3.2132132132132134,3.2232232232232234,3.2332332332332334,3.2432432432432434,3.2532532532532534,3.2632632632632634,3.2732732732732734,3.2832832832832834,3.2932932932932935,3.3033033033033035,3.3133133133133135,3.3233233233233235,3.3333333333333335,3.3433433433433435,3.3533533533533535,3.3633633633633635,3.3733733733733735,3.3833833833833835,3.3933933933933935,3.4034034034034035,3.4134134134134135,3.4234234234234235,3.4334334334334335,3.4434434434434436,3.4534534534534536,3.4634634634634636,3.4734734734734736,3.4834834834834836,3.4934934934934936,3.5035035035035036,3.5135135135135136,3.5235235235235236,3.5335335335335336,3.5435435435435436,3.5535535535535536,3.5635635635635636,3.5735735735735736,3.5835835835835836,3.5935935935935936,3.6036036036036037,3.6136136136136137,3.6236236236236237,3.6336336336336337,3.6436436436436437,3.6536536536536537,3.6636636636636637,3.6736736736736737,3.6836836836836837,3.6936936936936937,3.7037037037037037,3.7137137137137137,3.7237237237237237,3.7337337337337337,3.7437437437437437,3.7537537537537538,3.7637637637637638,3.7737737737737738,3.7837837837837838,3.793793793793794,3.803803803803804,3.813813813813814,3.823823823823824,3.833833833833834,3.843843843843844,3.853853853853854,3.863863863863864,3.873873873873874,3.883883883883884,3.893893893893894,3.903903903903904,3.913913913913914,3.923923923923924,3.933933933933934,3.943943943943944,3.953953953953954,3.963963963963964,3.973973973973974,3.983983983983984,3.993993993993994,4.004004004004004,4.014014014014014,4.024024024024024,4.034034034034034,4.044044044044044,4.054054054054054,4.064064064064064,4.074074074074074,4.084084084084084,4.094094094094094,4.104104104104104,4.114114114114114,4.124124124124124,4.134134134134134,4.1441441441441444,4.1541541541541545,4.1641641641641645,4.1741741741741745,4.1841841841841845,4.1941941941941945,4.2042042042042045,4.2142142142142145,4.2242242242242245,4.2342342342342345,4.2442442442442445,4.2542542542542545,4.2642642642642645,4.2742742742742745,4.2842842842842845,4.2942942942942945,4.3043043043043046,4.314314314314315,4.324324324324325,4.334334334334335,4.344344344344345,4.354354354354355,4.364364364364365,4.374374374374375,4.384384384384385,4.394394394394395,4.404404404404405,4.414414414414415,4.424424424424425,4.434434434434435,4.444444444444445,4.454454454454455,4.464464464464465,4.474474474474475,4.484484484484485,4.494494494494495,4.504504504504505,4.514514514514515,4.524524524524525,4.534534534534535,4.544544544544545,4.554554554554555,4.564564564564565,4.574574574574575,4.584584584584585,4.594594594594595,4.604604604604605,4.614614614614615,4.624624624624625,4.634634634634635,4.644644644644645,4.654654654654655,4.664664664664665,4.674674674674675,4.684684684684685,4.694694694694695,4.704704704704705,4.714714714714715,4.724724724724725,4.734734734734735,4.744744744744745,4.754754754754755,4.764764764764765,4.774774774774775,4.784784784784785,4.794794794794795,4.804804804804805,4.814814814814815,4.824824824824825,4.834834834834835,4.844844844844845,4.854854854854855,4.864864864864865,4.874874874874875,4.884884884884885,4.894894894894895,4.904904904904905,4.914914914914915,4.924924924924925,4.934934934934935,4.944944944944945,4.954954954954955,4.964964964964965,4.974974974974975,4.984984984984985,4.994994994994995,5.005005005005005,5.015015015015015,5.025025025025025,5.035035035035035,5.045045045045045,5.055055055055055,5.065065065065065,5.075075075075075,5.085085085085085,5.095095095095095,5.105105105105105,5.115115115115115,5.125125125125125,5.135135135135135,5.145145145145145,5.155155155155155,5.165165165165165,5.175175175175175,5.185185185185185,5.195195195195195,5.205205205205205,5.215215215215215,5.225225225225225,5.235235235235235,5.245245245245245,5.255255255255255,5.265265265265265,5.275275275275275,5.285285285285285,5.295295295295295,5.305305305305305,5.315315315315315,5.325325325325325,5.335335335335335,5.345345345345345,5.355355355355355,5.365365365365365,5.375375375375375,5.385385385385385,5.395395395395395,5.405405405405405,5.415415415415415,5.425425425425425,5.435435435435435,5.445445445445445,5.455455455455455,5.465465465465465,5.475475475475475,5.485485485485485,5.495495495495495,5.505505505505505,5.515515515515515,5.525525525525525,5.535535535535535,5.545545545545545,5.555555555555555,5.565565565565565,5.575575575575575,5.585585585585585,5.595595595595595,5.605605605605605,5.615615615615615,5.625625625625625,5.635635635635635,5.645645645645645,5.655655655655655,5.665665665665665,5.675675675675675,5.685685685685685,5.6956956956956954,5.7057057057057055,5.7157157157157155,5.7257257257257255,5.7357357357357355,5.7457457457457455,5.7557557557557555,5.7657657657657655,5.7757757757757755,5.7857857857857855,5.7957957957957955,5.8058058058058055,5.8158158158158155,5.8258258258258255,5.8358358358358355,5.8458458458458455,5.8558558558558556,5.865865865865866,5.875875875875876,5.885885885885886,5.895895895895896,5.905905905905906,5.915915915915916,5.925925925925926,5.935935935935936,5.945945945945946,5.955955955955956,5.965965965965966,5.975975975975976,5.985985985985986,5.995995995995996,6.006006006006006,6.016016016016016,6.026026026026026,6.036036036036036,6.046046046046046,6.056056056056056,6.066066066066066,6.076076076076076,6.086086086086086,6.096096096096096,6.106106106106106,6.116116116116116,6.126126126126126,6.136136136136136,6.146146146146146,6.156156156156156,6.166166166166166,6.176176176176176,6.186186186186186,6.196196196196196,6.206206206206206,6.216216216216216,6.226226226226226,6.236236236236236,6.246246246246246,6.256256256256256,6.266266266266266,6.276276276276276,6.286286286286286,6.296296296296296,6.306306306306306,6.316316316316316,6.326326326326326,6.336336336336336,6.346346346346346,6.356356356356356,6.366366366366366,6.376376376376376,6.386386386386386,6.396396396396396,6.406406406406406,6.416416416416417,6.426426426426427,6.436436436436437,6.446446446446447,6.456456456456457,6.466466466466467,6.476476476476477,6.486486486486487,6.496496496496497,6.506506506506507,6.516516516516517,6.526526526526527,6.536536536536537,6.546546546546547,6.556556556556557,6.566566566566567,6.576576576576577,6.586586586586587,6.596596596596597,6.606606606606607,6.616616616616617,6.626626626626627,6.636636636636637,6.646646646646647,6.656656656656657,6.666666666666667,6.676676676676677,6.686686686686687,6.696696696696697,6.706706706706707,6.716716716716717,6.726726726726727,6.736736736736737,6.746746746746747,6.756756756756757,6.766766766766767,6.776776776776777,6.786786786786787,6.796796796796797,6.806806806806807,6.816816816816817,6.826826826826827,6.836836836836837,6.846846846846847,6.856856856856857,6.866866866866867,6.876876876876877,6.886886886886887,6.896896896896897,6.906906906906907,6.916916916916917,6.926926926926927,6.936936936936937,6.946946946946947,6.956956956956957,6.966966966966967,6.976976976976977,6.986986986986987,6.996996996996997,7.007007007007007,7.017017017017017,7.027027027027027,7.037037037037037,7.047047047047047,7.057057057057057,7.067067067067067,7.077077077077077,7.087087087087087,7.097097097097097,7.107107107107107,7.117117117117117,7.127127127127127,7.137137137137137,7.147147147147147,7.157157157157157,7.167167167167167,7.177177177177177,7.187187187187187,7.197197197197197,7.207207207207207,7.217217217217217,7.227227227227227,7.237237237237237,7.247247247247247,7.257257257257257,7.267267267267267,7.277277277277277,7.287287287287287,7.297297297297297,7.307307307307307,7.317317317317317,7.327327327327327,7.337337337337337,7.347347347347347,7.357357357357357,7.367367367367367,7.377377377377377],\"y\":[903.15,902.3153749104604,901.4807498209208,900.6461247313812,899.8114996418416,898.976874552302,898.1422494627624,897.3076243732228,896.4729992836832,895.6383741941436,894.803749104604,893.9691240150644,893.1344989255248,892.2998738359852,891.4652487464456,890.630623656906,889.7959985673664,888.9613734778268,888.1267483882872,887.2921232987476,886.457498209208,885.6228731196684,884.7882480301288,883.9536229405892,883.1189978510496,882.28437276151,881.4497476719704,880.6151225824308,879.7804974928912,878.9458724033516,878.111247313812,877.2766222242724,876.4419971347328,875.6073720451932,874.7727469556536,873.938121866114,873.1034967765744,872.2688716870348,871.4342465974952,870.5996215079556,869.764996418416,868.9303713288764,868.0957462393368,867.2611211497972,866.4264960602576,865.591870970718,864.7572458811784,863.922620791639,863.0879957021016,862.253370612574,861.4187455230847,860.5841204337146,859.7494953446624,858.9148702563626,858.0802451696846,857.2456200862482,856.4109950089012,855.5763699424152,854.7417448944664,853.9071198769815,853.0724949079437,852.2378700137659,851.4032452323577,850.5686206170261,849.7339962413719,848.8993722053594,848.0647486427607,847.230125730194,846.3955036980009,845.5608828432296,844.7262635450164,843.8916462826824,843.0570316568911,842.22242041424,841.3878134756859,840.5532119692386,839.7186172673831,838.8840310297268,838.0494552513989,837.2148923177639,836.380345066046,835.5458168544956,834.7113116397677,833.8768340632159,833.0423895468456,832.2079843997058,831.3736259355389,830.5393226025432,829.7050841261404,828.8709216656813,828.0368479860515,827.2028776451798,826.3690271984805,825.5353154212906,824.7017635503926,823.8683955457299,823.0352383734463,822.2023223113854,821.3696812781936,820.5373531871645,819.705380325945,818.8738097631992,818.0426937832794,817.2120903499002,816.3820635997284,815.5526843667063,814.724030737797,813.8961886406895,813.0692524638143,812.2433257087964,811.4185216752114,810.5949641772013,809.7727882911463,808.9521411331759,808.1331826648279,807.3160865246223,806.5010408827084,805.6882493150551,804.8779316928891,804.0703250822353,803.265684647482,802.464284551866,801.6664188466672,800.8724023397081,800.0825714324806,799.2972849138793,798.5169246971204,797.7418964849794,796.9726303470161,796.2095811909986,795.4532291093147,794.7040795798201,793.9626634993543,793.2295370271185,792.5052812143069,791.7905013958944,791.08582632036,790.3919069934733,789.7094152131396,789.0390417737905,788.3814943209891,787.7374948398556,787.1077767646862,786.493081701759,785.8941557628344,785.3117455132442,784.7465935457008,784.1994336989592,783.6709859491243,783.1619510105468,782.6730046926984,782.2047920689054,781.757921522063,781.3329587411371,780.9304207500242,780.5507700568545,780.1944090167103,779.8616745036809,779.5528329888996,779.2680761194705,779.0075168888541,778.7711864822841,778.5590318711794,778.3709142184588,778.2066081424332,778.0658018709155,777.9480982998244,777.8530169524047,777.7799968168322,777.7284000220334,777.6975162946178,777.6865681244708,777.6947165532674,777.721067489355,777.764678444408,777.8245655821496,777.8997109673302,777.989069903955,778.0915782553143,778.2061596443845,778.3317324413086,778.4672164545103,778.6115392531175,778.7636420603329,778.9224851697431,779.0870528489226,779.2563577066911,779.4294445117358,779.605393460746,779.7833229035767,779.9623915411041,780.1418001183171,780.3207926407829,780.4986571469557,780.674726071932,780.8483762402911,781.0190285266898,781.1861472230455,781.349239150556,781.5078525536009,781.6615758108742,781.8100359970178,781.952897325681,782.0898595023972,782.2206560130529,782.3450523710671,782.462844343787,782.573856176063,782.6779388265446,782.77496822995,782.864843596443,782.9474857572941,783.0228355642239,783.0908523482307,783.1515124422722,783.2048077709138,783.2507445089537,783.2893418100822,783.3206306058186,783.3446524742787,783.3614585777533,783.3711086676044,783.3736701546092,783.3692172425804,783.3578301228658,783.3395942271641,783.3145995359791,783.2829399399731,783.244712651443,783.2000176631558,783.1489572518014,783.0916355233788,783.028157997896,782.9586312308492,782.8831624690382,782.8018593383744,782.7148295614439,782.6221807026972,782.5240199392429,782.4204538553382,782.3115882587718,782.1975280174458,782.0783769145644,781.9542375209392,781.8252110830172,781.6913974253306,781.5528948661565,781.4098001452586,781.2622083626628,781.110212927496,780.9539055159858,780.7933760377882,780.6287126098742,780.4600015372608,780.2873272999326,780.1107725453487,779.9304180859774,779.7463429013477,779.5586241441462,779.3673371499284,779.1725554500489,778.9743507874454,778.772793134947,778.5679507158022,778.3598900261479,778.1486758591681,777.9343713307101,777.7170379061487,777.4967354283059,777.2735221462536,777.0474547448409,776.8185883748022,776.5869766833181,776.3526718449109,776.1157245925699,775.8761842490104,775.6340987579822,775.3895147155494,775.1424774012744,774.8930308092439,774.6412176788818,774.3870795255026,774.1306566705598,773.8719882715543,773.6111123515682,773.3480658283955,773.0828845432457,772.8156032889975,772.5462558379872,772.2748749693128,772.0014924956447,771.7261392895314,771.448845309192,771.1696396237904,770.8885504381859,770.6056051171583,770.3208302091069,770.0342514692213,769.745893882128,769.455781684013,769.1639383842245,768.8703867863599,768.5751490088409,768.2782465049836,767.9797000825677,767.6795299229129,767.3777555994687,767.0743960959243,766.7694698238471,766.4629946398579,766.154987862349,765.8454662877554,765.5344462063869,765.2219434178293,764.9079732459231,764.59255055333,764.2756897556932,763.9574048354023,763.3843265406165,762.8192421778299,762.2621769255186,761.7131516150922,761.172182815367,760.6392829192164,760.1144602321837,759.5977190628478,759.0890598147421,758.5884790796305,758.095969731955,757.6115210242756,757.1351186835285,756.66674500794,756.2063789644367,755.7539962864017,755.3095695716341,754.8730683803734,754.4444593332611,754.023706209114,753.6107700423948,753.2056092202672,752.8081795791323,752.4184345005489,752.0363250064426,751.6617998535196,751.2948056268016,750.9352868322056,750.5831859880988,750.2384437157598,749.9009988286871,749.5707884206944,749.2477479527428,748.9318113384583,748.6229110282919,748.3209780922801,748.0259423013684,747.737732207264,747.4562752207875,747.1814976886956,746.9133249689513,746.6516815044192,746.396490894968,746.1476759679643,745.905158847145,745.6688610198551,745.4387034026457,745.2146064052238,744.9964899927492,744.7842737464791,744.5778769227576,744.3772185103525,744.1822172861441,743.9927918691695,743.8088607730302,743.6303424566707,743.4571553735385,743.2892180191359,743.1264489769768,742.9687669629615,742.8160908681845,742.6683398001919,742.5254331227048,742.3872904938269,742.2538319027544,742.124977705011,742.0006486562241,741.8807659444678,741.7652512211921,741.6540266307624,741.5470148386325,741.4441390581752,741.3453230761935,741.25049127714,741.1595686660675,741.0724808903375,740.9891542601132,740.9095157676619,740.833493105495,740.7610146833708,740.692009644189,740.626407878802,740.564140039771,740.5051375540959,740.4493326349423,740.3966582923972,740.3470483432775,740.30043742002,740.25676097868,740.2159553060637,740.1779575260246,740.1427056049456,740.1101383564387,740.0801954452836,740.0528173906341,740.027945568517,740.0055222136482,739.9854904205926,739.96779414429,739.9523781999744,739.9391882625079,739.9281708651541,739.9192733978151,739.9124441047519,739.9076320818142,739.904787273199,739.9038604677604,739.9048032948922,739.9075682200023,739.9121085396014,739.9183783760235,739.9263326717988,739.9359271836978,739.9471184764634,739.9598639162514,739.9741216637943,739.9898506673071,740.0070106551503,740.025562128267,740.0454663524088,740.0666853501665,740.0891818928192,740.1129194920164,740.1378623913072,740.1639755575283,740.1912246720657,740.2195761220008,740.2489969911535,740.2794550510332,740.3109187517099,740.3433572126145,740.3767402132798,740.4110381840317,740.4462221966386,740.4822639549315,740.519135785399,740.5568106277697,740.5952620255858,740.6344641167805,740.6743916242607,740.7150198465072,740.756324648195,740.7982824508422,740.8408702234925,740.8840654734377,740.9278462369841,740.9721910702699,741.0170790401361,741.0624897150574,741.1084031561359,741.1547999081627,741.2016609907499,741.2489678895381,741.2967025474808,741.3448473562102,741.3933851474867,741.442299184735,741.4915731546683,741.5411911590041,741.5911377062729,741.6413977037217,741.6919564493146,741.7427996238305,741.7939132830617,741.8452838501122,741.8968981077985,741.9487431911527,742.0008065800295,742.0530760918169,742.105539874253,742.1581863983465,742.2110044514036,742.2639831301609,742.3171118340239,742.3703802584112,742.4237783882053,742.4772964913087,742.5309251123056,742.5846550662286,742.6384774324312,742.6923835485632,742.7463650046515,742.8004136372831,742.8545215238915,742.9086809771449,742.9628845394349,743.0171249774675,743.0713952769518,743.1256886373887,743.1799984669576,743.2343183774985,743.2886421795924,743.3429638777347,743.3972776656037,743.4515779214215,743.5058592034069,743.560116245319,743.6143439520903,743.6685373955481,743.7226918102241,743.7768025892486,743.8308652803314,743.8848755818252,743.9388293388722,743.9927225396319,744.0465513115895,744.1003119179426,744.1540007540663,744.2076143440546,744.2611493373374,744.3146025053712,744.3679707384033,744.4212510423072,744.4744405354891,744.5275364458635,744.5805361078968,744.6334369597181,744.6862365402956,744.7389324866778,744.7915225312983,744.8440044993424,744.8963763061756,744.9486359548313,745.0007815335578,745.0528112134236,745.1047232459788,745.1565159609717,745.2081877641211,745.2597371349414,745.3111626246194,745.3624628539443,745.413636511286,745.4646823506241,745.5155991896247,745.5663859077647,745.6170414445023,745.6675647974929,745.7179550208497,745.7682112234473,745.8183325672688,745.8683182657934,745.9181675824258,745.9678798289649,746.0174543641122,746.0668905920173,746.1161879608622,746.165345961481,746.2143641260157,746.263242026607,746.3119792741196,746.3605755169,746.4090304395678,746.4573437618386,746.5055152373778,746.5535446526853,746.6014318260097,746.6491766062915,746.6967788721347,746.7442385308069,746.791555517265,746.8387297932087,746.885761346159,746.9326501885624,746.9793963569193,747.0259999109367,747.0724609327041,747.1187795258928,747.1649558149769,747.2109899444762,747.2568820782208,747.3026323986358,747.3482411060468,747.3937084180046,747.4390345686296,747.4842198079746,747.5292644014058,747.5741686290027,747.6189327849733,747.6635571770885,747.7080421261315,747.752387965364,747.7965950400078,747.8406637067417,747.8845943332134,747.928387297566,747.9720429879785,748.01556180222,748.0589441472173,748.102190438636,748.1453011004736,748.1882765646659,748.2311172707043,748.2738236652661,748.3163962018555,748.3588353404552,748.4011415471907,748.443315294003,748.4853570583329,748.5272673228145,748.5690465749798,748.6106953069706,748.6522140152615,748.6936032003911,748.7348633667013,748.7759950220868,748.8169986777506,748.8578748479691,748.898624049865,748.9392468031865,748.979743630095,749.0201150549597,749.0603616041589,749.1004838058882,749.1404821899755,749.180357287702,749.2201096316294,749.2597397554337,749.2992481937439,749.3386354819875,749.3779021562406,749.4170487530838,749.4560758094632,749.4949838625564,749.5337734496438,749.572445107984,749.6109993746942,749.6494367866353,749.687757880301,749.7259631917112,749.7640532563098,749.802028608866,749.8398897833796,749.8776373129905,749.9152717298914,749.9527935652438,749.9902033490982,750.0275016103169,750.0646888765,750.1017656739152,750.1387325274302,750.1755899604476,750.2123384948434,750.2489786509076,750.2855109472881,750.3219359009368,750.3582540270576,750.3944658390584,750.4305718485037,750.4665725650708,750.5024684965072,750.5382601485907,750.5739480250916,750.6095326277365,750.6450144561744,750.6803940079442,750.7156717784444,750.7508482609046,750.7859239463584,750.8208993236178,750.8557748792498,750.8905510975537,750.9252284605407,750.9598074479138,750.9942885370507,751.0286722029864,751.062958918398,751.0971491535902,751.1312433764828,751.1652420525984,751.1991456450518,751.2329546145401,751.2666694193342,751.3002905152713,751.3338183557473,751.3672533917122,751.4005960716642,751.4338468416458,751.4670061452412,751.5000744235726,751.5330521152998,751.5659396566182,751.598737481259,751.6314460204895,751.6640657031143,751.6965969554763,751.7290402014598,751.761395862493,751.7936643575513,751.8258461031609,751.857941513404,751.8899509999229,751.9218749719261,751.9537138361933,751.9854679970824,752.0171378565356,752.0487238140864,752.0802262668677,752.1116456096188,752.1429822346935,752.174236532069,752.2054088893543,752.2364996917993,752.2675093223038,752.2984381614275,752.3292865873995,752.3600549761283,752.3907437012123,752.4213531339501,752.451883643351,752.4823355961464,752.5127093568,752.5430052875198,752.573223748269,752.6033650967778,752.6334296885545,752.6634178768983,752.6933300129099,752.7231664455045,752.7529275214234,752.7826135852467]}},\"id\":\"f776a56a-2445-4259-8f74-a3ed5ada44ef\",\"type\":\"ColumnDataSource\"},{\"attributes\":{\"callback\":null},\"id\":\"bca3e96a-9568-429c-abf6-0eec3d5e88c3\",\"type\":\"DataRange1d\"},{\"attributes\":{\"axis_label\":\"Temperature, K\",\"formatter\":{\"id\":\"13ce3d93-2865-480c-bfe0-5d8bafac82dc\",\"type\":\"BasicTickFormatter\"},\"plot\":{\"id\":\"2392fdf6-fe55-4a06-aa45-599705317127\",\"subtype\":\"Figure\",\"type\":\"Plot\"},\"ticker\":{\"id\":\"c26106bf-0827-45f1-aa63-750dda400b40\",\"type\":\"BasicTicker\"}},\"id\":\"160bb4a5-5ec9-4494-833f-7a55ae23cfbf\",\"type\":\"LinearAxis\"}],\"root_ids\":[\"2392fdf6-fe55-4a06-aa45-599705317127\"]},\"title\":\"Bokeh Application\",\"version\":\"0.12.2\"}};\n",
       "            var render_items = [{\"docid\":\"e4ddbcbe-3706-4db7-aae1-00758fdb90fe\",\"elementid\":\"5f28e959-f142-41c0-9019-99dc23c4722a\",\"modelid\":\"2392fdf6-fe55-4a06-aa45-599705317127\"}];\n",
       "            \n",
       "            Bokeh.embed.embed_items(docs_json, render_items);\n",
       "        });\n",
       "      },\n",
       "      function(Bokeh) {\n",
       "      }\n",
       "    ];\n",
       "  \n",
       "    function run_inline_js() {\n",
       "      \n",
       "      if ((window.Bokeh !== undefined) || (force === \"1\")) {\n",
       "        for (var i = 0; i < inline_js.length; i++) {\n",
       "          inline_js[i](window.Bokeh);\n",
       "        }if (force === \"1\") {\n",
       "          display_loaded();\n",
       "        }} else if (Date.now() < window._bokeh_timeout) {\n",
       "        setTimeout(run_inline_js, 100);\n",
       "      } else if (!window._bokeh_failed_load) {\n",
       "        console.log(\"Bokeh: BokehJS failed to load within specified timeout.\");\n",
       "        window._bokeh_failed_load = true;\n",
       "      } else if (!force) {\n",
       "        var cell = $(\"#5f28e959-f142-41c0-9019-99dc23c4722a\").parents('.cell').data().cell;\n",
       "        cell.output_area.append_execute_result(NB_LOAD_WARNING)\n",
       "      }\n",
       "  \n",
       "    }\n",
       "  \n",
       "    if (window._bokeh_is_loading === 0) {\n",
       "      console.log(\"Bokeh: BokehJS loaded, going straight to plotting\");\n",
       "      run_inline_js();\n",
       "    } else {\n",
       "      load_libs(js_urls, function() {\n",
       "        console.log(\"Bokeh: BokehJS plotting callback run at\", now());\n",
       "        run_inline_js();\n",
       "      });\n",
       "    }\n",
       "  }(this));\n",
       "</script>"
      ]
     },
     "metadata": {},
     "output_type": "display_data"
    }
   ],
   "source": [
    "f=bkp.figure(title=\"Evolution of T during dendrite growth\", x_axis_label=\"Time,s\", y_axis_label=\"Temperature, K\")\n",
    "\n",
    "f.line(time[0:n],T_arr[0:n], color=\"red\", legend=\"Temperature\")\n",
    "\n",
    "bkp.show(f)"
   ]
  },
  {
   "cell_type": "code",
   "execution_count": 538,
   "metadata": {
    "collapsed": false,
    "scrolled": false
   },
   "outputs": [
    {
     "data": {
      "text/html": [
       "\n",
       "\n",
       "    <div class=\"bk-root\">\n",
       "        <div class=\"plotdiv\" id=\"3559a6e8-942e-40d0-acbc-fb391e441a27\"></div>\n",
       "    </div>\n",
       "<script type=\"text/javascript\">\n",
       "  \n",
       "  (function(global) {\n",
       "    function now() {\n",
       "      return new Date();\n",
       "    }\n",
       "  \n",
       "    var force = \"\";\n",
       "  \n",
       "    if (typeof (window._bokeh_onload_callbacks) === \"undefined\" || force !== \"\") {\n",
       "      window._bokeh_onload_callbacks = [];\n",
       "      window._bokeh_is_loading = undefined;\n",
       "    }\n",
       "  \n",
       "  \n",
       "    \n",
       "    if (typeof (window._bokeh_timeout) === \"undefined\" || force !== \"\") {\n",
       "      window._bokeh_timeout = Date.now() + 0;\n",
       "      window._bokeh_failed_load = false;\n",
       "    }\n",
       "  \n",
       "    var NB_LOAD_WARNING = {'data': {'text/html':\n",
       "       \"<div style='background-color: #fdd'>\\n\"+\n",
       "       \"<p>\\n\"+\n",
       "       \"BokehJS does not appear to have successfully loaded. If loading BokehJS from CDN, this \\n\"+\n",
       "       \"may be due to a slow or bad network connection. Possible fixes:\\n\"+\n",
       "       \"</p>\\n\"+\n",
       "       \"<ul>\\n\"+\n",
       "       \"<li>re-rerun `output_notebook()` to attempt to load from CDN again, or</li>\\n\"+\n",
       "       \"<li>use INLINE resources instead, as so:</li>\\n\"+\n",
       "       \"</ul>\\n\"+\n",
       "       \"<code>\\n\"+\n",
       "       \"from bokeh.resources import INLINE\\n\"+\n",
       "       \"output_notebook(resources=INLINE)\\n\"+\n",
       "       \"</code>\\n\"+\n",
       "       \"</div>\"}};\n",
       "  \n",
       "    function display_loaded() {\n",
       "      if (window.Bokeh !== undefined) {\n",
       "        Bokeh.$(\"#3559a6e8-942e-40d0-acbc-fb391e441a27\").text(\"BokehJS successfully loaded.\");\n",
       "      } else if (Date.now() < window._bokeh_timeout) {\n",
       "        setTimeout(display_loaded, 100)\n",
       "      }\n",
       "    }\n",
       "  \n",
       "    function run_callbacks() {\n",
       "      window._bokeh_onload_callbacks.forEach(function(callback) { callback() });\n",
       "      delete window._bokeh_onload_callbacks\n",
       "      console.info(\"Bokeh: all callbacks have finished\");\n",
       "    }\n",
       "  \n",
       "    function load_libs(js_urls, callback) {\n",
       "      window._bokeh_onload_callbacks.push(callback);\n",
       "      if (window._bokeh_is_loading > 0) {\n",
       "        console.log(\"Bokeh: BokehJS is being loaded, scheduling callback at\", now());\n",
       "        return null;\n",
       "      }\n",
       "      if (js_urls == null || js_urls.length === 0) {\n",
       "        run_callbacks();\n",
       "        return null;\n",
       "      }\n",
       "      console.log(\"Bokeh: BokehJS not loaded, scheduling load and callback at\", now());\n",
       "      window._bokeh_is_loading = js_urls.length;\n",
       "      for (var i = 0; i < js_urls.length; i++) {\n",
       "        var url = js_urls[i];\n",
       "        var s = document.createElement('script');\n",
       "        s.src = url;\n",
       "        s.async = false;\n",
       "        s.onreadystatechange = s.onload = function() {\n",
       "          window._bokeh_is_loading--;\n",
       "          if (window._bokeh_is_loading === 0) {\n",
       "            console.log(\"Bokeh: all BokehJS libraries loaded\");\n",
       "            run_callbacks()\n",
       "          }\n",
       "        };\n",
       "        s.onerror = function() {\n",
       "          console.warn(\"failed to load library \" + url);\n",
       "        };\n",
       "        console.log(\"Bokeh: injecting script tag for BokehJS library: \", url);\n",
       "        document.getElementsByTagName(\"head\")[0].appendChild(s);\n",
       "      }\n",
       "    };var element = document.getElementById(\"3559a6e8-942e-40d0-acbc-fb391e441a27\");\n",
       "    if (element == null) {\n",
       "      console.log(\"Bokeh: ERROR: autoload.js configured with elementid '3559a6e8-942e-40d0-acbc-fb391e441a27' but no matching script tag was found. \")\n",
       "      return false;\n",
       "    }\n",
       "  \n",
       "    var js_urls = [];\n",
       "  \n",
       "    var inline_js = [\n",
       "      function(Bokeh) {\n",
       "        Bokeh.$(function() {\n",
       "            var docs_json = {\"49b33431-2757-4a5b-a378-706b03a0a4bf\":{\"roots\":{\"references\":[{\"attributes\":{\"dimension\":1,\"plot\":{\"id\":\"15db995a-4818-4ecb-99ea-29c513a2cdfd\",\"subtype\":\"Figure\",\"type\":\"Plot\"},\"ticker\":{\"id\":\"23b99916-83e9-427f-b52a-ac41621b26d7\",\"type\":\"BasicTicker\"}},\"id\":\"ba901dd2-7fe6-409b-ac6a-078840cdf4b3\",\"type\":\"Grid\"},{\"attributes\":{},\"id\":\"23b99916-83e9-427f-b52a-ac41621b26d7\",\"type\":\"BasicTicker\"},{\"attributes\":{\"data_source\":{\"id\":\"56cdd75e-7320-403c-85d0-450bfb4d7080\",\"type\":\"ColumnDataSource\"},\"glyph\":{\"id\":\"677cf2e3-a924-4f01-b6b3-510f7202ebe6\",\"type\":\"Line\"},\"hover_glyph\":null,\"nonselection_glyph\":{\"id\":\"f19d6445-cd2e-4f2e-9547-37406e0af490\",\"type\":\"Line\"},\"selection_glyph\":null},\"id\":\"d0c280d5-9ce5-47f1-9d70-ad0979113061\",\"type\":\"GlyphRenderer\"},{\"attributes\":{\"plot\":{\"id\":\"15db995a-4818-4ecb-99ea-29c513a2cdfd\",\"subtype\":\"Figure\",\"type\":\"Plot\"}},\"id\":\"2f87ff1d-a40f-431c-b16d-f10ad0fd393b\",\"type\":\"SaveTool\"},{\"attributes\":{\"overlay\":{\"id\":\"cd09597d-fd74-414e-9c36-b35cfbcfb505\",\"type\":\"BoxAnnotation\"},\"plot\":{\"id\":\"15db995a-4818-4ecb-99ea-29c513a2cdfd\",\"subtype\":\"Figure\",\"type\":\"Plot\"}},\"id\":\"b08053b6-53c1-4e35-a623-af5b4f8e55a2\",\"type\":\"BoxZoomTool\"},{\"attributes\":{\"below\":[{\"id\":\"cb49f49a-7c0a-4895-bacb-9a5660e85793\",\"type\":\"LinearAxis\"}],\"left\":[{\"id\":\"34e0b75a-54ce-4c61-b12d-2cb73dd71d42\",\"type\":\"LinearAxis\"}],\"renderers\":[{\"id\":\"cb49f49a-7c0a-4895-bacb-9a5660e85793\",\"type\":\"LinearAxis\"},{\"id\":\"416f58f6-4314-4bd6-bdbd-5eccb69cedae\",\"type\":\"Grid\"},{\"id\":\"34e0b75a-54ce-4c61-b12d-2cb73dd71d42\",\"type\":\"LinearAxis\"},{\"id\":\"ba901dd2-7fe6-409b-ac6a-078840cdf4b3\",\"type\":\"Grid\"},{\"id\":\"cd09597d-fd74-414e-9c36-b35cfbcfb505\",\"type\":\"BoxAnnotation\"},{\"id\":\"073bdb71-c129-4c6b-b2cb-546d21a02dc5\",\"type\":\"Legend\"},{\"id\":\"d0c280d5-9ce5-47f1-9d70-ad0979113061\",\"type\":\"GlyphRenderer\"}],\"title\":{\"id\":\"ce221833-8dd4-4cc9-8125-cf3314aa53f0\",\"type\":\"Title\"},\"tool_events\":{\"id\":\"0d979b60-6ecb-4359-91ae-8dc2578d360f\",\"type\":\"ToolEvents\"},\"toolbar\":{\"id\":\"6b94bfd1-6461-44e8-987d-3c3830d5c892\",\"type\":\"Toolbar\"},\"x_range\":{\"id\":\"c72ad0ca-f969-49f4-8488-49bcbec3b229\",\"type\":\"DataRange1d\"},\"y_range\":{\"id\":\"da2e3177-64fe-492a-8835-b24b9404da54\",\"type\":\"DataRange1d\"}},\"id\":\"15db995a-4818-4ecb-99ea-29c513a2cdfd\",\"subtype\":\"Figure\",\"type\":\"Plot\"},{\"attributes\":{},\"id\":\"4b4ca224-6b00-4200-af45-a4d60e15b0af\",\"type\":\"BasicTicker\"},{\"attributes\":{\"plot\":{\"id\":\"15db995a-4818-4ecb-99ea-29c513a2cdfd\",\"subtype\":\"Figure\",\"type\":\"Plot\"}},\"id\":\"ee1d7d83-e2f8-45d2-b29e-afe326357ecf\",\"type\":\"PanTool\"},{\"attributes\":{\"callback\":null},\"id\":\"c72ad0ca-f969-49f4-8488-49bcbec3b229\",\"type\":\"DataRange1d\"},{\"attributes\":{\"plot\":{\"id\":\"15db995a-4818-4ecb-99ea-29c513a2cdfd\",\"subtype\":\"Figure\",\"type\":\"Plot\"}},\"id\":\"c83f7a52-1c07-4174-b774-1c832b9e9543\",\"type\":\"WheelZoomTool\"},{\"attributes\":{\"plot\":null,\"text\":\"Evolution of fs dendrite growth\"},\"id\":\"ce221833-8dd4-4cc9-8125-cf3314aa53f0\",\"type\":\"Title\"},{\"attributes\":{\"legends\":[[\"fraction of solid\",[{\"id\":\"d0c280d5-9ce5-47f1-9d70-ad0979113061\",\"type\":\"GlyphRenderer\"}]]],\"plot\":{\"id\":\"15db995a-4818-4ecb-99ea-29c513a2cdfd\",\"subtype\":\"Figure\",\"type\":\"Plot\"}},\"id\":\"073bdb71-c129-4c6b-b2cb-546d21a02dc5\",\"type\":\"Legend\"},{\"attributes\":{\"axis_label\":\"Time,s\",\"formatter\":{\"id\":\"363fa4a9-10a3-4154-9410-0686ee04a9e8\",\"type\":\"BasicTickFormatter\"},\"plot\":{\"id\":\"15db995a-4818-4ecb-99ea-29c513a2cdfd\",\"subtype\":\"Figure\",\"type\":\"Plot\"},\"ticker\":{\"id\":\"4b4ca224-6b00-4200-af45-a4d60e15b0af\",\"type\":\"BasicTicker\"}},\"id\":\"cb49f49a-7c0a-4895-bacb-9a5660e85793\",\"type\":\"LinearAxis\"},{\"attributes\":{\"line_color\":{\"value\":\"red\"},\"x\":{\"field\":\"x\"},\"y\":{\"field\":\"y\"}},\"id\":\"677cf2e3-a924-4f01-b6b3-510f7202ebe6\",\"type\":\"Line\"},{\"attributes\":{\"callback\":null,\"column_names\":[\"y\",\"x\"],\"data\":{\"x\":[0.0,0.01001001001001001,0.02002002002002002,0.03003003003003003,0.04004004004004004,0.050050050050050046,0.06006006006006006,0.07007007007007007,0.08008008008008008,0.09009009009009009,0.10010010010010009,0.11011011011011011,0.12012012012012012,0.13013013013013014,0.14014014014014015,0.15015015015015015,0.16016016016016016,0.17017017017017017,0.18018018018018017,0.19019019019019018,0.20020020020020018,0.21021021021021022,0.22022022022022023,0.23023023023023023,0.24024024024024024,0.2502502502502503,0.2602602602602603,0.2702702702702703,0.2802802802802803,0.2902902902902903,0.3003003003003003,0.3103103103103103,0.3203203203203203,0.3303303303303303,0.34034034034034033,0.35035035035035034,0.36036036036036034,0.37037037037037035,0.38038038038038036,0.39039039039039036,0.40040040040040037,0.41041041041041043,0.42042042042042044,0.43043043043043044,0.44044044044044045,0.45045045045045046,0.46046046046046046,0.47047047047047047,0.4804804804804805,0.4904904904904905,0.5005005005005005,0.5105105105105106,0.5205205205205206,0.5305305305305306,0.5405405405405406,0.5505505505505506,0.5605605605605606,0.5705705705705706,0.5805805805805806,0.5905905905905906,0.6006006006006006,0.6106106106106106,0.6206206206206206,0.6306306306306306,0.6406406406406406,0.6506506506506506,0.6606606606606606,0.6706706706706707,0.6806806806806807,0.6906906906906907,0.7007007007007007,0.7107107107107107,0.7207207207207207,0.7307307307307307,0.7407407407407407,0.7507507507507507,0.7607607607607607,0.7707707707707707,0.7807807807807807,0.7907907907907907,0.8008008008008007,0.8108108108108109,0.8208208208208209,0.8308308308308309,0.8408408408408409,0.8508508508508509,0.8608608608608609,0.8708708708708709,0.8808808808808809,0.8908908908908909,0.9009009009009009,0.9109109109109109,0.9209209209209209,0.9309309309309309,0.9409409409409409,0.950950950950951,0.960960960960961,0.970970970970971,0.980980980980981,0.990990990990991,1.001001001001001,1.011011011011011,1.021021021021021,1.031031031031031,1.0410410410410411,1.0510510510510511,1.0610610610610611,1.0710710710710711,1.0810810810810811,1.0910910910910911,1.1011011011011012,1.1111111111111112,1.1211211211211212,1.1311311311311312,1.1411411411411412,1.1511511511511512,1.1611611611611612,1.1711711711711712,1.1811811811811812,1.1911911911911912,1.2012012012012012,1.2112112112112112,1.2212212212212212,1.2312312312312312,1.2412412412412412,1.2512512512512513,1.2612612612612613,1.2712712712712713,1.2812812812812813,1.2912912912912913,1.3013013013013013,1.3113113113113113,1.3213213213213213,1.3313313313313313,1.3413413413413413,1.3513513513513513,1.3613613613613613,1.3713713713713713,1.3813813813813813,1.3913913913913913,1.4014014014014013,1.4114114114114114,1.4214214214214214,1.4314314314314314,1.4414414414414414,1.4514514514514514,1.4614614614614614,1.4714714714714714,1.4814814814814814,1.4914914914914914,1.5015015015015014,1.5115115115115114,1.5215215215215214,1.5315315315315314,1.5415415415415414,1.5515515515515514,1.5615615615615615,1.5715715715715715,1.5815815815815815,1.5915915915915915,1.6016016016016015,1.6116116116116117,1.6216216216216217,1.6316316316316317,1.6416416416416417,1.6516516516516517,1.6616616616616617,1.6716716716716717,1.6816816816816818,1.6916916916916918,1.7017017017017018,1.7117117117117118,1.7217217217217218,1.7317317317317318,1.7417417417417418,1.7517517517517518,1.7617617617617618,1.7717717717717718,1.7817817817817818,1.7917917917917918,1.8018018018018018,1.8118118118118118,1.8218218218218218,1.8318318318318318,1.8418418418418419,1.8518518518518519,1.8618618618618619,1.8718718718718719,1.8818818818818819,1.8918918918918919,1.901901901901902,1.911911911911912,1.921921921921922,1.931931931931932,1.941941941941942,1.951951951951952,1.961961961961962,1.971971971971972,1.981981981981982,1.991991991991992,2.002002002002002,2.012012012012012,2.022022022022022,2.032032032032032,2.042042042042042,2.052052052052052,2.062062062062062,2.0720720720720722,2.0820820820820822,2.0920920920920922,2.1021021021021022,2.1121121121121122,2.1221221221221223,2.1321321321321323,2.1421421421421423,2.1521521521521523,2.1621621621621623,2.1721721721721723,2.1821821821821823,2.1921921921921923,2.2022022022022023,2.2122122122122123,2.2222222222222223,2.2322322322322323,2.2422422422422423,2.2522522522522523,2.2622622622622623,2.2722722722722724,2.2822822822822824,2.2922922922922924,2.3023023023023024,2.3123123123123124,2.3223223223223224,2.3323323323323324,2.3423423423423424,2.3523523523523524,2.3623623623623624,2.3723723723723724,2.3823823823823824,2.3923923923923924,2.4024024024024024,2.4124124124124124,2.4224224224224224,2.4324324324324325,2.4424424424424425,2.4524524524524525,2.4624624624624625,2.4724724724724725,2.4824824824824825,2.4924924924924925,2.5025025025025025,2.5125125125125125,2.5225225225225225,2.5325325325325325,2.5425425425425425,2.5525525525525525,2.5625625625625625,2.5725725725725725,2.5825825825825826,2.5925925925925926,2.6026026026026026,2.6126126126126126,2.6226226226226226,2.6326326326326326,2.6426426426426426,2.6526526526526526,2.6626626626626626,2.6726726726726726,2.6826826826826826,2.6926926926926926,2.7027027027027026,2.7127127127127126,2.7227227227227226,2.7327327327327327,2.7427427427427427,2.7527527527527527,2.7627627627627627,2.7727727727727727,2.7827827827827827,2.7927927927927927,2.8028028028028027,2.8128128128128127,2.8228228228228227,2.8328328328328327,2.8428428428428427,2.8528528528528527,2.8628628628628627,2.8728728728728727,2.8828828828828827,2.8928928928928928,2.9029029029029028,2.9129129129129128,2.9229229229229228,2.932932932932933,2.942942942942943,2.952952952952953,2.962962962962963,2.972972972972973,2.982982982982983,2.992992992992993,3.003003003003003,3.013013013013013,3.023023023023023,3.033033033033033,3.043043043043043,3.053053053053053,3.063063063063063,3.073073073073073,3.083083083083083,3.093093093093093,3.103103103103103,3.113113113113113,3.123123123123123,3.133133133133133,3.143143143143143,3.153153153153153,3.163163163163163,3.173173173173173,3.183183183183183,3.193193193193193,3.203203203203203,3.2132132132132134,3.2232232232232234,3.2332332332332334,3.2432432432432434,3.2532532532532534,3.2632632632632634,3.2732732732732734,3.2832832832832834,3.2932932932932935,3.3033033033033035,3.3133133133133135,3.3233233233233235,3.3333333333333335,3.3433433433433435,3.3533533533533535,3.3633633633633635,3.3733733733733735,3.3833833833833835,3.3933933933933935,3.4034034034034035,3.4134134134134135,3.4234234234234235,3.4334334334334335,3.4434434434434436,3.4534534534534536,3.4634634634634636,3.4734734734734736,3.4834834834834836,3.4934934934934936,3.5035035035035036,3.5135135135135136,3.5235235235235236,3.5335335335335336,3.5435435435435436,3.5535535535535536,3.5635635635635636,3.5735735735735736,3.5835835835835836,3.5935935935935936,3.6036036036036037,3.6136136136136137,3.6236236236236237,3.6336336336336337,3.6436436436436437,3.6536536536536537,3.6636636636636637,3.6736736736736737,3.6836836836836837,3.6936936936936937,3.7037037037037037,3.7137137137137137,3.7237237237237237,3.7337337337337337,3.7437437437437437,3.7537537537537538,3.7637637637637638,3.7737737737737738,3.7837837837837838,3.793793793793794,3.803803803803804,3.813813813813814,3.823823823823824,3.833833833833834,3.843843843843844,3.853853853853854,3.863863863863864,3.873873873873874,3.883883883883884,3.893893893893894,3.903903903903904,3.913913913913914,3.923923923923924,3.933933933933934,3.943943943943944,3.953953953953954,3.963963963963964,3.973973973973974,3.983983983983984,3.993993993993994,4.004004004004004,4.014014014014014,4.024024024024024,4.034034034034034,4.044044044044044,4.054054054054054,4.064064064064064,4.074074074074074,4.084084084084084,4.094094094094094,4.104104104104104,4.114114114114114,4.124124124124124,4.134134134134134,4.1441441441441444,4.1541541541541545,4.1641641641641645,4.1741741741741745,4.1841841841841845,4.1941941941941945,4.2042042042042045,4.2142142142142145,4.2242242242242245,4.2342342342342345,4.2442442442442445,4.2542542542542545,4.2642642642642645,4.2742742742742745,4.2842842842842845,4.2942942942942945,4.3043043043043046,4.314314314314315,4.324324324324325,4.334334334334335,4.344344344344345,4.354354354354355,4.364364364364365,4.374374374374375,4.384384384384385,4.394394394394395,4.404404404404405,4.414414414414415,4.424424424424425,4.434434434434435,4.444444444444445,4.454454454454455,4.464464464464465,4.474474474474475,4.484484484484485,4.494494494494495,4.504504504504505,4.514514514514515,4.524524524524525,4.534534534534535,4.544544544544545,4.554554554554555,4.564564564564565,4.574574574574575,4.584584584584585,4.594594594594595,4.604604604604605,4.614614614614615,4.624624624624625,4.634634634634635,4.644644644644645,4.654654654654655,4.664664664664665,4.674674674674675,4.684684684684685,4.694694694694695,4.704704704704705,4.714714714714715,4.724724724724725,4.734734734734735,4.744744744744745,4.754754754754755,4.764764764764765,4.774774774774775,4.784784784784785,4.794794794794795,4.804804804804805,4.814814814814815,4.824824824824825,4.834834834834835,4.844844844844845,4.854854854854855,4.864864864864865,4.874874874874875,4.884884884884885,4.894894894894895,4.904904904904905,4.914914914914915,4.924924924924925,4.934934934934935,4.944944944944945,4.954954954954955,4.964964964964965,4.974974974974975,4.984984984984985,4.994994994994995,5.005005005005005,5.015015015015015,5.025025025025025,5.035035035035035,5.045045045045045,5.055055055055055,5.065065065065065,5.075075075075075,5.085085085085085,5.095095095095095,5.105105105105105,5.115115115115115,5.125125125125125,5.135135135135135,5.145145145145145,5.155155155155155,5.165165165165165,5.175175175175175,5.185185185185185,5.195195195195195,5.205205205205205,5.215215215215215,5.225225225225225,5.235235235235235,5.245245245245245,5.255255255255255,5.265265265265265,5.275275275275275,5.285285285285285,5.295295295295295,5.305305305305305,5.315315315315315,5.325325325325325,5.335335335335335,5.345345345345345,5.355355355355355,5.365365365365365,5.375375375375375,5.385385385385385,5.395395395395395,5.405405405405405,5.415415415415415,5.425425425425425,5.435435435435435,5.445445445445445,5.455455455455455,5.465465465465465,5.475475475475475,5.485485485485485,5.495495495495495,5.505505505505505,5.515515515515515,5.525525525525525,5.535535535535535,5.545545545545545,5.555555555555555,5.565565565565565,5.575575575575575,5.585585585585585,5.595595595595595,5.605605605605605,5.615615615615615,5.625625625625625,5.635635635635635,5.645645645645645,5.655655655655655,5.665665665665665,5.675675675675675,5.685685685685685,5.6956956956956954,5.7057057057057055,5.7157157157157155,5.7257257257257255,5.7357357357357355,5.7457457457457455,5.7557557557557555,5.7657657657657655,5.7757757757757755,5.7857857857857855,5.7957957957957955,5.8058058058058055,5.8158158158158155,5.8258258258258255,5.8358358358358355,5.8458458458458455,5.8558558558558556,5.865865865865866,5.875875875875876,5.885885885885886,5.895895895895896,5.905905905905906,5.915915915915916,5.925925925925926,5.935935935935936,5.945945945945946,5.955955955955956,5.965965965965966,5.975975975975976,5.985985985985986,5.995995995995996,6.006006006006006,6.016016016016016,6.026026026026026,6.036036036036036,6.046046046046046,6.056056056056056,6.066066066066066,6.076076076076076,6.086086086086086,6.096096096096096,6.106106106106106,6.116116116116116,6.126126126126126,6.136136136136136,6.146146146146146,6.156156156156156,6.166166166166166,6.176176176176176,6.186186186186186,6.196196196196196,6.206206206206206,6.216216216216216,6.226226226226226,6.236236236236236,6.246246246246246,6.256256256256256,6.266266266266266,6.276276276276276,6.286286286286286,6.296296296296296,6.306306306306306,6.316316316316316,6.326326326326326,6.336336336336336,6.346346346346346,6.356356356356356,6.366366366366366,6.376376376376376,6.386386386386386,6.396396396396396,6.406406406406406,6.416416416416417,6.426426426426427,6.436436436436437,6.446446446446447,6.456456456456457,6.466466466466467,6.476476476476477,6.486486486486487,6.496496496496497,6.506506506506507,6.516516516516517,6.526526526526527,6.536536536536537,6.546546546546547,6.556556556556557,6.566566566566567,6.576576576576577,6.586586586586587,6.596596596596597,6.606606606606607,6.616616616616617,6.626626626626627,6.636636636636637,6.646646646646647,6.656656656656657,6.666666666666667,6.676676676676677,6.686686686686687,6.696696696696697,6.706706706706707,6.716716716716717,6.726726726726727,6.736736736736737,6.746746746746747,6.756756756756757,6.766766766766767,6.776776776776777,6.786786786786787,6.796796796796797,6.806806806806807,6.816816816816817,6.826826826826827,6.836836836836837,6.846846846846847,6.856856856856857,6.866866866866867,6.876876876876877,6.886886886886887,6.896896896896897,6.906906906906907,6.916916916916917,6.926926926926927,6.936936936936937,6.946946946946947,6.956956956956957,6.966966966966967,6.976976976976977,6.986986986986987,6.996996996996997,7.007007007007007,7.017017017017017,7.027027027027027,7.037037037037037,7.047047047047047,7.057057057057057,7.067067067067067,7.077077077077077,7.087087087087087,7.097097097097097,7.107107107107107,7.117117117117117,7.127127127127127,7.137137137137137,7.147147147147147,7.157157157157157,7.167167167167167,7.177177177177177,7.187187187187187,7.197197197197197,7.207207207207207,7.217217217217217,7.227227227227227,7.237237237237237,7.247247247247247,7.257257257257257,7.267267267267267,7.277277277277277,7.287287287287287,7.297297297297297,7.307307307307307,7.317317317317317,7.327327327327327,7.337337337337337,7.347347347347347,7.357357357357357,7.367367367367367,7.377377377377377],\"y\":[0.0,0.0,0.0,0.0,0.0,0.0,0.0,0.0,0.0,0.0,0.0,0.0,0.0,0.0,0.0,0.0,0.0,0.0,0.0,0.0,0.0,0.0,0.0,0.0,0.0,0.0,0.0,0.0,0.0,0.0,0.0,0.0,0.0,0.0,0.0,0.0,0.0,0.0,0.0,0.0,0.0,0.0,0.0,0.0,0.0,9.376483886935087e-19,4.1652816721532134e-17,7.353235757346063e-16,6.8076956211060624e-15,4.099567350376011e-14,1.8364216758065328e-13,6.644129497492391e-13,2.0467642586777128e-12,5.56310611206265e-12,1.367903572842506e-11,3.098855813114347e-11,6.556886689527801e-11,1.3095302708583914e-10,2.489117846876502e-10,4.532717221689859e-10,7.950360881178581e-10,1.3491168499002513e-09,2.2230318516033665e-09,3.5679694044717147e-09,5.592674192550095e-09,8.580663040664838e-09,1.2911336862713314e-08,1.908561598182738e-08,2.7756789985028045e-08,3.976734033598787e-08,5.6192564109968354e-08,7.83919004204854e-08,1.080689373582155e-07,1.4734115653287817e-07,1.988205545636258e-07,2.6570636605737723e-07,3.518912006885869e-07,4.62081997872353e-07,6.019372961089684e-07,7.78222410249938e-07,9.989842085399687e-07,1.273747282135724e-06,1.6137334026541978e-06,2.03210626787105e-06,2.5442436416176763e-06,3.168039100783701e-06,3.924235709598338e-06,4.836794048412761e-06,5.9332971302871204e-06,7.245394842907067e-06,8.809290654658309e-06,1.066627342082529e-05,1.2863297217385384e-05,1.545361221402801e-05,1.8497449672840606e-05,2.2062764222252612e-05,2.622603660463779e-05,3.107314012736207e-05,3.670027405750059e-05,4.321496718590421e-05,5.0737154742198505e-05,5.940033176346749e-05,6.93527858999842e-05,8.075891247486365e-05,9.380061439364557e-05,0.00010867878921648003,0.00012561490535086992,0.0001448526688870426,0.00016665978207032735,0.0001913297937738937,0.00021918404158851213,0.0002505736842705181,0.0002858818222711253,0.0003255257028953435,0.00036995900529243386,0.00041967419894744395,0.00047520496761063405,0.0005371286886550022,0.0006060689556794786,0.0006826981297664941,0.0007677399021501646,0.0008619718481516226,0.0009662279490922716,0.0010814010555111558,0.0012084452614039203,0.0013483781553915951,0.0015022829107518869,0.0016713101721502527,0.0018566796927532933,0.0020596816712691135,0.0022816777344317613,0.002524101506641776,0.002788458705023901,0.003076326695217829,0.0033893534409497723,0.003729255779031553,0.004097816951105694,0.004496883324418143,0.004928360236380431,0.0053942069019061786,0.0058964303286904865,0.006437078193943517,0.007018230646758599,0.007641991013412674,0.00831047539852473,0.009025801193122435,0.009790074521183738,0.010605376678919323,0.011473749645617159,0.012397180770831134,0.013377586769483647,0.014416797183364128,0.015516537493725991,0.016678412094302972,0.01790388735610531,0.01919427503380995,0.020550716277433424,0.02197416652134137,0.023465381524692505,0.02502490483249403,0.02665305691413996,0.028349926216456402,0.03011536234102926,0.03194897152139572,0.03385011453531217,0.035817907141837246,0.03785122308371935,0.03994869964409037,0.042108745694415355,0.04432955211976403,0.04660910445945867,0.04894519755760655,0.051335451980346475,0.053777331925971124,0.056268164331266815,0.05880515886293532,0.06138542847697264,0.06400601023117976,0.06666388604605854,0.06935600312642139,0.0720792937791186,0.07483069439021695,0.077607163356511,0.08040569780016052,0.08322334893029973,0.08605723595052235,0.08890455844519676,0.09176260720974863,0.09462877351967089,0.0975005568595673,0.10037557115665766,0.10325154958268554,0.1061263480040293,0.1089979471721042,0.11186445375503871,0.11472410031736727,0.11757524435741798,0.12041636651253217,0.12324606804059504,0.1260630676829459,0.12886619800892135,0.13165440133639603,0.1344267253160221,0.13718231825969995,0.1399204242863716,0.1426403783507134,0.14534160121288048,0.1480235944002536,0.15068593520526066,0.15332827175686886,0.15595031819731686,0.1585518499901161,0.16113269938030858,0.16369275102342862,0.16623193779556775,0.16875023679336829,0.17124766552964737,0.17372427832765097,0.17618016291462632,0.17861543721344741,0.18103024632939915,0.1834247597278887,0.1857991685977761,0.1881536833941691,0.1904885315538818,0.1928039553762871,0.19510021006197367,0.19737756190142772,0.1996362866058791,0.2018766677724604,0.20409899547591337,0.2063035649792225,0.20849067555575174,0.21066062941569247,0.21281373072989457,0.2149502847444353,0.21707059697957937,0.21917497250708973,0.22126371530016054,0.2233371276505539,0.22539550964783067,0.22743915871586712,0.22946836920214506,0.23148343201558694,0.23348463430898347,0.23547225920232423,0.23744658554359335,0.23940788770383212,0.24135643540349672,0.24329249356735475,0.24521632220536554,0.24712817631718084,0.24902830581807975,0.25091695548432064,0.25279436491604845,0.2546607685160419,0.25651639548272226,0.258361469815971,0.2601962103344226,0.2620208307030076,0.263835539469623,0.26564054010990085,0.267436031079133,0.26922220587049095,0.2709992530787537,0.27276735646882533,0.2745266950483871,0.2762774431440884,0.2780197704807331,0.2797538422629686,0.28147981925902965,0.28319785788613167,0.284908110297146,0.2866107244682255,0.2883058442870803,0.2899936096416352,0.2916741565088249,0.29334761704331036,0.2950141196659213,0.29667378915165077,0.2983267467170477,0.2999731101068696,0.3016129936798746,0.30324650849364543,0.3048737623883526,0.306494860069375,0.30810990318870723,0.3097189904250942,0.3113222175628406,0.3129196775692531,0.31451146067067914,0.31609765442711435,0.317678343805355,0.31925361125067936,0.3208235367570457,0.3223881979357992,0.3239476700828846,0.32550202624456503,0.3270513372816502,0.3285956719322405,0.3301350968729963,0.3316696767789438,0.3331994743818307,0.3347245505270467,0.3362449642291273,0.33776077272585664,0.33927203153099117,0.3407787944856237,0.3422811138082091,0.3437790401432745,0.3452726226088367,0.34676190884254965,0.34824694504660675,0.3497277760314212,0.35120444525810945,0.3526769948798022,0.35414546578180733,0.3556098976206499,0.3561058879100343,0.3566170376765185,0.35714339466788564,0.3576849983882593,0.3582418802582959,0.3588140637795065,0.3594015647022992,0.3600043911973473,0.36062254402990035,0.36125601673667124,0.3619047958049442,0.3625688608535635,0.36324818481547594,0.36394273412151523,0.36465246888512803,0.36537734308775655,0.36611730476460547,0.36687229619053396,0.3676422540658264,0.368427109701608,0.36922678920468427,0.3700412136615942,0.37087029932168003,0.3717139577789865,0.37257209615281434,0.37344461726676287,0.3743314198261071,0.37523239859336466,0.3761474445619166,0.3770764451275572,0.3780192842578545,0.3789758426592133,0.37994599794154,0.38092962478041703,0.38192659507670124,0.38293677811346827,0.38396004071023265,0.38499624737437843,0.3860452604497431,0.3871069402623022,0.3881811452629092,0.38926773216704963,0.3903665560915746,0.39147747068838334,0.3926003282750297,0.3937349799622321,0.39488127577827054,0.3960390647902588,0.3972081952222845,0.39838851457041213,0.3995798697145494,0.40078210702718015,0.4019950724789702,0.40321861174125584,0.40445257028542797,0.40569679347922766,0.40695112667997146,0.4082154153247277,0.4094895050174674,0.4107732416132153,0.4120664712992303,0.413369040673244,0.41468079681879116,0.41600158737766557,0.417331260619537,0.4186696655087676,0.4200166517684661,0.42137206994182097,0.4227357714507545,0.4241076086519408,0.42548743489023183,0.4268751045495377,0.4282704731012068,0.4296733971499539,0.4310837344773831,0.43250134408315577,0.4339260862238522,0.4353578224495768,0.43679641563835764,0.4382417300283909,0.4396936312481819,0.44115198634463326,0.4426166638091326,0.4440875336016909,0.44556446717318343,0.4470473374857453,0.4485360190313727,0.4500303878487814,0.45153032153857464,0.45303569927677023,0.45454640182673856,0.4560623115496014,0.45758331241314204,0.4591092899992755,0.4606401315101291,0.46217572577278054,0.46371596324270287,0.4652607360059629,0.46680993778022006,0.46836346391457184,0.46992121138829146,0.47148307880850215,0.4730489664068322,0.47461877603509395,0.47619241116002925,0.47776977685716293,0.479350779803805,0.4809353282712418,0.4825233321161548,0.48411470277130597,0.48570935323552666,0.48730719806304623,0.48890815335219673,0.4905121367335281,0.4921190673573677,0.49372886588085685,0.4953414544544973,0.4969567567082377,0.49857469773713153,0.5001952040865947,0.5018182037372924,0.503443626089682,0.5050714019482396,0.5067014635053956,0.5083337443252038,0.5099681793267701,0.5116047047674619,0.5132432582259228,0.5148837785849122,0.5165262060139935,0.5181704819520881,0.5198165490899171,0.5214643513523474,0.523113833880661,0.5247649430147658,0.5264176262753612,0.5280718323460774,0.529727511055602,0.5313846133598084,0.533043091323899,0.5347028981045789,0.5363639879322684,0.5380263160933699,0.5396898389125995,0.5413545137353912,0.5430202989103892,0.5446871537720315,0.5463550386232401,0.5480239147182212,0.5496937442453866,0.5513644903104026,0.5530361169193736,0.5547085889621673,0.5563818721958879,0.5580559332285012,0.5597307395026209,0.5614062592794565,0.563082461622931,0.5647593163839699,0.5664367941849684,0.5681148664044366,0.5697935051618299,0.5714726833025636,0.5731523743832183,0.5748325526569346,0.5765131930590018,0.5781942711926419,0.5798757633149885,0.5815576463232652,0.5832398977411618,0.58492249570541,0.5866054189525599,0.5882886468059568,0.5899721591629188,0.5916559364821158,0.5933399597711491,0.5950242105743311,0.5967086709606663,0.5983933235120303,0.6000781513115495,0.6017631379321768,0.6034482674254659,0.6051335243105403,0.6068188935632588,0.6085043606055721,0.6101899112950734,0.6118755319147385,0.6135612091628555,0.6152469301431415,0.6169326823550448,0.618618453684232,0.620304232393255,0.6219900071124012,0.6236757668307182,0.6253615008872183,0.6270471989622542,0.6287328510690687,0.6304184475455131,0.6321039790459339,0.6337894365332248,0.6354748112710431,0.6371600948161853,0.6388452790111235,0.6405303559766974,0.642215318104961,0.6439001580521815,0.6455848687319875,0.6472694433086658,0.6489538751906018,0.6506381580238647,0.6523222856859316,0.6540062522795513,0.6556900521267433,0.6573736797629306,0.6590571299312051,0.6607403975767208,0.6624234778412146,0.6641063660576522,0.6657890577449963,0.667471548603095,0.6691538345076884,0.6708359115055317,0.6725177758096311,0.6741994237945927,0.67588085199208,0.6775620570863794,0.679243035910071,0.6809237854398029,0.6826043027921669,0.6842845852196732,0.6859646301068231,0.6876444349662768,0.6893239974351149,0.6910033152711913,0.6926823863495762,0.6943612086590867,0.6960397802989035,0.6977180994752722,0.699396164498287,0.7010739737787549,0.7027515258251392,0.7044288192405804,0.7061058527199927,0.7077826250472345,0.7094591350923517,0.7111353818088912,0.7128113642312845,0.7144870814722983,0.716162532720552,0.7178377172380995,0.719512634358075,0.7211872834823996,0.7228616640795492,0.7245357756823817,0.7262096178860212,0.7278831903457992,0.7295564927752504,0.7312295249441633,0.7329022866766821,0.7345747778494611,0.7362469983898686,0.7379189482742398,0.7395906275261775,0.7412620362149005,0.7429331744536353,0.7446040423980544,0.7462746402447573,0.7479449682297932,0.7496150266272256,0.7512848157477374,0.7529543359372749,0.7546235875757299,0.7562925710756601,0.7579612868810448,0.7596297354660775,0.7612979173339919,0.7629658330159225,0.764633483069798,0.7663008680792665,0.7679679886526528,0.7696348454219454,0.7713014390418134,0.7729677701886529,0.7746338395596614,0.7762996478719391,0.777965195861618,0.779630484283017,0.7812955139078209,0.7829602855242869,0.7846247999364724,0.7862890579634886,0.7879530604387754,0.7896168082093996,0.7912803021353738,0.7929435430889976,0.7946065319542183,0.796269269626012,0.7979317570097846,0.799593995020791,0.801255984583573,0.8029177266314156,0.8045792221058197,0.8062404719559928,0.8079014771383559,0.8095622386160662,0.8112227573585555,0.8128830343410841,0.814543070544309,0.8162028669538668,0.8178624245599705,0.8195217443570195,0.8211808273432235,0.8228396745202385,0.8244982868928159,0.8261566654684627,0.8278148112571148,0.8294727252708207,0.8311304085234369,0.8327878620303334,0.8344450868081105,0.836102083874325,0.8377588542472273,0.8394153989455064,0.8410717189880463,0.8427278153936897,0.8443836891810113,0.8460393413680996,0.8476947729723467,0.8493499850102466,0.8510049784972004,0.8526597544473297,0.8543143138732978,0.8559686577861367,0.8576227871950822,0.8592767031074149,0.860930406528308,0.8625838984606815,0.8642371799050624,0.8658902518594508,0.867543115319191,0.86919577127685,0.8708482207220991,0.8725004646416026,0.8741525040189103,0.8758043398343555,0.8774559730649574,0.8791074046843286,0.8807586356625865,0.8824096669662691,0.8840604995582552,0.8857111343976882,0.8873615724399045,0.889011814636365,0.8906618619345903,0.8923117152780999,0.8939613756063544,0.8956108438547008,0.8972601209543221,0.8989092078321883,0.9005581054110118,0.9022068146092047,0.9038553363408399,0.9055036715156137,0.907151821038812,0.9087997858112783,0.9104475667293846,0.9120951646850046,0.9137425805654884,0.9153898152536406,0.9170368696276996,0.918683744561319,0.9203304409235513,0.9219769595788336,0.9236233013869743,0.9252694672031423,0.9269154578778576,0.9285612742569834,0.9302069171817203,0.9318523874886013,0.9334976860094885,0.9351428135715711,0.9367877709973655,0.9384325591047153,0.9400771787067936,0.9417216306121062,0.9433659156244957,0.9450100345431469,0.9466539881625934,0.9482977772727246,0.9499414026587946,0.9515848651014309,0.9532281653766453,0.9548713042558441,0.9565142825058405,0.9581571008888667,0.959799760162588,0.9614422610801157,0.9630846043900227,0.9647267908363588,0.966368821158666,0.9680106960919954,0.9696524163669246,0.9712939827095746,0.9729353958416285,0.9745766564803496,0.976217765338601,0.9778587231248644,0.9794995305432604,0.9811401882935685,0.9827806970712478,0.9844210575674579,0.98606127046908,0.9877013364587388,0.9893412562148239,0.9909810304115122,0.99262065971879,0.9942601448024758,0.9958994863242429,0.9975386849416421,0.9991777413081258]}},\"id\":\"56cdd75e-7320-403c-85d0-450bfb4d7080\",\"type\":\"ColumnDataSource\"},{\"attributes\":{\"callback\":null},\"id\":\"da2e3177-64fe-492a-8835-b24b9404da54\",\"type\":\"DataRange1d\"},{\"attributes\":{\"plot\":{\"id\":\"15db995a-4818-4ecb-99ea-29c513a2cdfd\",\"subtype\":\"Figure\",\"type\":\"Plot\"}},\"id\":\"b2ce46e6-da97-4615-bc21-8b6e4f9e3f35\",\"type\":\"HelpTool\"},{\"attributes\":{\"bottom_units\":\"screen\",\"fill_alpha\":{\"value\":0.5},\"fill_color\":{\"value\":\"lightgrey\"},\"left_units\":\"screen\",\"level\":\"overlay\",\"line_alpha\":{\"value\":1.0},\"line_color\":{\"value\":\"black\"},\"line_dash\":[4,4],\"line_width\":{\"value\":2},\"plot\":null,\"render_mode\":\"css\",\"right_units\":\"screen\",\"top_units\":\"screen\"},\"id\":\"cd09597d-fd74-414e-9c36-b35cfbcfb505\",\"type\":\"BoxAnnotation\"},{\"attributes\":{\"active_drag\":\"auto\",\"active_scroll\":\"auto\",\"active_tap\":\"auto\",\"tools\":[{\"id\":\"ee1d7d83-e2f8-45d2-b29e-afe326357ecf\",\"type\":\"PanTool\"},{\"id\":\"c83f7a52-1c07-4174-b774-1c832b9e9543\",\"type\":\"WheelZoomTool\"},{\"id\":\"b08053b6-53c1-4e35-a623-af5b4f8e55a2\",\"type\":\"BoxZoomTool\"},{\"id\":\"2f87ff1d-a40f-431c-b16d-f10ad0fd393b\",\"type\":\"SaveTool\"},{\"id\":\"ba2af7ee-067b-45f2-ba0c-fa23a86ac20d\",\"type\":\"ResetTool\"},{\"id\":\"b2ce46e6-da97-4615-bc21-8b6e4f9e3f35\",\"type\":\"HelpTool\"}]},\"id\":\"6b94bfd1-6461-44e8-987d-3c3830d5c892\",\"type\":\"Toolbar\"},{\"attributes\":{},\"id\":\"0d979b60-6ecb-4359-91ae-8dc2578d360f\",\"type\":\"ToolEvents\"},{\"attributes\":{\"plot\":{\"id\":\"15db995a-4818-4ecb-99ea-29c513a2cdfd\",\"subtype\":\"Figure\",\"type\":\"Plot\"},\"ticker\":{\"id\":\"4b4ca224-6b00-4200-af45-a4d60e15b0af\",\"type\":\"BasicTicker\"}},\"id\":\"416f58f6-4314-4bd6-bdbd-5eccb69cedae\",\"type\":\"Grid\"},{\"attributes\":{\"axis_label\":\"fs\",\"formatter\":{\"id\":\"6eb8f5e0-196b-41a6-937b-447095d51a81\",\"type\":\"BasicTickFormatter\"},\"plot\":{\"id\":\"15db995a-4818-4ecb-99ea-29c513a2cdfd\",\"subtype\":\"Figure\",\"type\":\"Plot\"},\"ticker\":{\"id\":\"23b99916-83e9-427f-b52a-ac41621b26d7\",\"type\":\"BasicTicker\"}},\"id\":\"34e0b75a-54ce-4c61-b12d-2cb73dd71d42\",\"type\":\"LinearAxis\"},{\"attributes\":{},\"id\":\"6eb8f5e0-196b-41a6-937b-447095d51a81\",\"type\":\"BasicTickFormatter\"},{\"attributes\":{\"line_alpha\":{\"value\":0.1},\"line_color\":{\"value\":\"#1f77b4\"},\"x\":{\"field\":\"x\"},\"y\":{\"field\":\"y\"}},\"id\":\"f19d6445-cd2e-4f2e-9547-37406e0af490\",\"type\":\"Line\"},{\"attributes\":{},\"id\":\"363fa4a9-10a3-4154-9410-0686ee04a9e8\",\"type\":\"BasicTickFormatter\"},{\"attributes\":{\"plot\":{\"id\":\"15db995a-4818-4ecb-99ea-29c513a2cdfd\",\"subtype\":\"Figure\",\"type\":\"Plot\"}},\"id\":\"ba2af7ee-067b-45f2-ba0c-fa23a86ac20d\",\"type\":\"ResetTool\"}],\"root_ids\":[\"15db995a-4818-4ecb-99ea-29c513a2cdfd\"]},\"title\":\"Bokeh Application\",\"version\":\"0.12.2\"}};\n",
       "            var render_items = [{\"docid\":\"49b33431-2757-4a5b-a378-706b03a0a4bf\",\"elementid\":\"3559a6e8-942e-40d0-acbc-fb391e441a27\",\"modelid\":\"15db995a-4818-4ecb-99ea-29c513a2cdfd\"}];\n",
       "            \n",
       "            Bokeh.embed.embed_items(docs_json, render_items);\n",
       "        });\n",
       "      },\n",
       "      function(Bokeh) {\n",
       "      }\n",
       "    ];\n",
       "  \n",
       "    function run_inline_js() {\n",
       "      \n",
       "      if ((window.Bokeh !== undefined) || (force === \"1\")) {\n",
       "        for (var i = 0; i < inline_js.length; i++) {\n",
       "          inline_js[i](window.Bokeh);\n",
       "        }if (force === \"1\") {\n",
       "          display_loaded();\n",
       "        }} else if (Date.now() < window._bokeh_timeout) {\n",
       "        setTimeout(run_inline_js, 100);\n",
       "      } else if (!window._bokeh_failed_load) {\n",
       "        console.log(\"Bokeh: BokehJS failed to load within specified timeout.\");\n",
       "        window._bokeh_failed_load = true;\n",
       "      } else if (!force) {\n",
       "        var cell = $(\"#3559a6e8-942e-40d0-acbc-fb391e441a27\").parents('.cell').data().cell;\n",
       "        cell.output_area.append_execute_result(NB_LOAD_WARNING)\n",
       "      }\n",
       "  \n",
       "    }\n",
       "  \n",
       "    if (window._bokeh_is_loading === 0) {\n",
       "      console.log(\"Bokeh: BokehJS loaded, going straight to plotting\");\n",
       "      run_inline_js();\n",
       "    } else {\n",
       "      load_libs(js_urls, function() {\n",
       "        console.log(\"Bokeh: BokehJS plotting callback run at\", now());\n",
       "        run_inline_js();\n",
       "      });\n",
       "    }\n",
       "  }(this));\n",
       "</script>"
      ]
     },
     "metadata": {},
     "output_type": "display_data"
    }
   ],
   "source": [
    "f=bkp.figure(title=\"Evolution of fs dendrite growth\", x_axis_label=\"Time,s\", y_axis_label=\"fs\")\n",
    "\n",
    "\n",
    "f.line(time[0:n],fs_arr[0:n], color=\"red\", legend=\"fraction of solid\")\n",
    "\n",
    "bkp.show(f)"
   ]
  },
  {
   "cell_type": "code",
   "execution_count": 539,
   "metadata": {
    "collapsed": false
   },
   "outputs": [
    {
     "data": {
      "text/html": [
       "\n",
       "\n",
       "    <div class=\"bk-root\">\n",
       "        <div class=\"plotdiv\" id=\"3da2bfd5-adce-4a80-8253-8c189afd3f94\"></div>\n",
       "    </div>\n",
       "<script type=\"text/javascript\">\n",
       "  \n",
       "  (function(global) {\n",
       "    function now() {\n",
       "      return new Date();\n",
       "    }\n",
       "  \n",
       "    var force = \"\";\n",
       "  \n",
       "    if (typeof (window._bokeh_onload_callbacks) === \"undefined\" || force !== \"\") {\n",
       "      window._bokeh_onload_callbacks = [];\n",
       "      window._bokeh_is_loading = undefined;\n",
       "    }\n",
       "  \n",
       "  \n",
       "    \n",
       "    if (typeof (window._bokeh_timeout) === \"undefined\" || force !== \"\") {\n",
       "      window._bokeh_timeout = Date.now() + 0;\n",
       "      window._bokeh_failed_load = false;\n",
       "    }\n",
       "  \n",
       "    var NB_LOAD_WARNING = {'data': {'text/html':\n",
       "       \"<div style='background-color: #fdd'>\\n\"+\n",
       "       \"<p>\\n\"+\n",
       "       \"BokehJS does not appear to have successfully loaded. If loading BokehJS from CDN, this \\n\"+\n",
       "       \"may be due to a slow or bad network connection. Possible fixes:\\n\"+\n",
       "       \"</p>\\n\"+\n",
       "       \"<ul>\\n\"+\n",
       "       \"<li>re-rerun `output_notebook()` to attempt to load from CDN again, or</li>\\n\"+\n",
       "       \"<li>use INLINE resources instead, as so:</li>\\n\"+\n",
       "       \"</ul>\\n\"+\n",
       "       \"<code>\\n\"+\n",
       "       \"from bokeh.resources import INLINE\\n\"+\n",
       "       \"output_notebook(resources=INLINE)\\n\"+\n",
       "       \"</code>\\n\"+\n",
       "       \"</div>\"}};\n",
       "  \n",
       "    function display_loaded() {\n",
       "      if (window.Bokeh !== undefined) {\n",
       "        Bokeh.$(\"#3da2bfd5-adce-4a80-8253-8c189afd3f94\").text(\"BokehJS successfully loaded.\");\n",
       "      } else if (Date.now() < window._bokeh_timeout) {\n",
       "        setTimeout(display_loaded, 100)\n",
       "      }\n",
       "    }\n",
       "  \n",
       "    function run_callbacks() {\n",
       "      window._bokeh_onload_callbacks.forEach(function(callback) { callback() });\n",
       "      delete window._bokeh_onload_callbacks\n",
       "      console.info(\"Bokeh: all callbacks have finished\");\n",
       "    }\n",
       "  \n",
       "    function load_libs(js_urls, callback) {\n",
       "      window._bokeh_onload_callbacks.push(callback);\n",
       "      if (window._bokeh_is_loading > 0) {\n",
       "        console.log(\"Bokeh: BokehJS is being loaded, scheduling callback at\", now());\n",
       "        return null;\n",
       "      }\n",
       "      if (js_urls == null || js_urls.length === 0) {\n",
       "        run_callbacks();\n",
       "        return null;\n",
       "      }\n",
       "      console.log(\"Bokeh: BokehJS not loaded, scheduling load and callback at\", now());\n",
       "      window._bokeh_is_loading = js_urls.length;\n",
       "      for (var i = 0; i < js_urls.length; i++) {\n",
       "        var url = js_urls[i];\n",
       "        var s = document.createElement('script');\n",
       "        s.src = url;\n",
       "        s.async = false;\n",
       "        s.onreadystatechange = s.onload = function() {\n",
       "          window._bokeh_is_loading--;\n",
       "          if (window._bokeh_is_loading === 0) {\n",
       "            console.log(\"Bokeh: all BokehJS libraries loaded\");\n",
       "            run_callbacks()\n",
       "          }\n",
       "        };\n",
       "        s.onerror = function() {\n",
       "          console.warn(\"failed to load library \" + url);\n",
       "        };\n",
       "        console.log(\"Bokeh: injecting script tag for BokehJS library: \", url);\n",
       "        document.getElementsByTagName(\"head\")[0].appendChild(s);\n",
       "      }\n",
       "    };var element = document.getElementById(\"3da2bfd5-adce-4a80-8253-8c189afd3f94\");\n",
       "    if (element == null) {\n",
       "      console.log(\"Bokeh: ERROR: autoload.js configured with elementid '3da2bfd5-adce-4a80-8253-8c189afd3f94' but no matching script tag was found. \")\n",
       "      return false;\n",
       "    }\n",
       "  \n",
       "    var js_urls = [];\n",
       "  \n",
       "    var inline_js = [\n",
       "      function(Bokeh) {\n",
       "        Bokeh.$(function() {\n",
       "            var docs_json = {\"7ce4307e-4e7e-4673-84a3-200b83d45b54\":{\"roots\":{\"references\":[{\"attributes\":{},\"id\":\"e9b0b0f0-2682-438c-a4c4-b27eb6476c7f\",\"type\":\"BasicTicker\"},{\"attributes\":{\"overlay\":{\"id\":\"8db56ea3-6a32-467c-94f3-b0a6498c9b54\",\"type\":\"BoxAnnotation\"},\"plot\":{\"id\":\"4fbef0e5-96ab-44e0-90f8-b08f95d313af\",\"subtype\":\"Figure\",\"type\":\"Plot\"}},\"id\":\"70bf41e5-70f4-4b55-b1f6-e48045f1ffce\",\"type\":\"BoxZoomTool\"},{\"attributes\":{\"line_color\":{\"value\":\"red\"},\"x\":{\"field\":\"x\"},\"y\":{\"field\":\"y\"}},\"id\":\"5899f867-7cdb-4dd2-884a-dd335d8c62c5\",\"type\":\"Line\"},{\"attributes\":{},\"id\":\"f9f5a876-0f8e-44a4-85d3-e9a1f5822fff\",\"type\":\"BasicTickFormatter\"},{\"attributes\":{\"axis_label\":\"C_L\",\"formatter\":{\"id\":\"7c57d9a9-582d-464f-b5d1-0cc7ed9db66d\",\"type\":\"BasicTickFormatter\"},\"plot\":{\"id\":\"4fbef0e5-96ab-44e0-90f8-b08f95d313af\",\"subtype\":\"Figure\",\"type\":\"Plot\"},\"ticker\":{\"id\":\"e9b0b0f0-2682-438c-a4c4-b27eb6476c7f\",\"type\":\"BasicTicker\"}},\"id\":\"ae6e75b4-b643-456d-9417-f0d3da9f1c85\",\"type\":\"LinearAxis\"},{\"attributes\":{\"callback\":null},\"id\":\"7a57c066-2fa3-4b6d-8a57-d28ca3fcc9e8\",\"type\":\"DataRange1d\"},{\"attributes\":{\"plot\":{\"id\":\"4fbef0e5-96ab-44e0-90f8-b08f95d313af\",\"subtype\":\"Figure\",\"type\":\"Plot\"}},\"id\":\"ec5898f0-81b3-4c49-b069-92eea01922c4\",\"type\":\"SaveTool\"},{\"attributes\":{},\"id\":\"ac8e4f63-5d76-4fff-9ec9-6baf477f0863\",\"type\":\"BasicTicker\"},{\"attributes\":{\"below\":[{\"id\":\"f6ecf411-25dd-4eb7-9184-41c5f95fbe10\",\"type\":\"LinearAxis\"}],\"left\":[{\"id\":\"ae6e75b4-b643-456d-9417-f0d3da9f1c85\",\"type\":\"LinearAxis\"}],\"renderers\":[{\"id\":\"f6ecf411-25dd-4eb7-9184-41c5f95fbe10\",\"type\":\"LinearAxis\"},{\"id\":\"1958114a-ba9d-4b36-bc57-bd71376b32bd\",\"type\":\"Grid\"},{\"id\":\"ae6e75b4-b643-456d-9417-f0d3da9f1c85\",\"type\":\"LinearAxis\"},{\"id\":\"4e56aed3-cdd8-4de4-a6b1-ea8f3288c317\",\"type\":\"Grid\"},{\"id\":\"8db56ea3-6a32-467c-94f3-b0a6498c9b54\",\"type\":\"BoxAnnotation\"},{\"id\":\"9b06f65a-4fd5-426f-880d-6ceb469b2cb3\",\"type\":\"Legend\"},{\"id\":\"25050249-65e9-47be-8944-0e298653f563\",\"type\":\"GlyphRenderer\"}],\"title\":{\"id\":\"9d024ad8-5473-40e2-afc8-572ac6b0a98d\",\"type\":\"Title\"},\"tool_events\":{\"id\":\"1b6ee8d2-a175-4580-b31f-a97687acf484\",\"type\":\"ToolEvents\"},\"toolbar\":{\"id\":\"53da55ea-2bbb-49d2-ae8a-67245b981e37\",\"type\":\"Toolbar\"},\"x_range\":{\"id\":\"7a57c066-2fa3-4b6d-8a57-d28ca3fcc9e8\",\"type\":\"DataRange1d\"},\"y_range\":{\"id\":\"ea22cb80-0c71-49fc-9fcf-aa1890614663\",\"type\":\"DataRange1d\"}},\"id\":\"4fbef0e5-96ab-44e0-90f8-b08f95d313af\",\"subtype\":\"Figure\",\"type\":\"Plot\"},{\"attributes\":{\"plot\":null,\"text\":\"Liquid concentration\"},\"id\":\"9d024ad8-5473-40e2-afc8-572ac6b0a98d\",\"type\":\"Title\"},{\"attributes\":{\"active_drag\":\"auto\",\"active_scroll\":\"auto\",\"active_tap\":\"auto\",\"tools\":[{\"id\":\"41d40492-529a-4df8-9cd9-3b9315f3fd70\",\"type\":\"PanTool\"},{\"id\":\"1c9670ee-5094-4f3e-a492-043154f7f6ca\",\"type\":\"WheelZoomTool\"},{\"id\":\"70bf41e5-70f4-4b55-b1f6-e48045f1ffce\",\"type\":\"BoxZoomTool\"},{\"id\":\"ec5898f0-81b3-4c49-b069-92eea01922c4\",\"type\":\"SaveTool\"},{\"id\":\"4bded9b3-bb95-4c8b-b1a1-d69d9d94b67b\",\"type\":\"ResetTool\"},{\"id\":\"ebbb482e-5308-4d69-bd64-f8e0b5120022\",\"type\":\"HelpTool\"}]},\"id\":\"53da55ea-2bbb-49d2-ae8a-67245b981e37\",\"type\":\"Toolbar\"},{\"attributes\":{},\"id\":\"1b6ee8d2-a175-4580-b31f-a97687acf484\",\"type\":\"ToolEvents\"},{\"attributes\":{\"line_alpha\":{\"value\":0.1},\"line_color\":{\"value\":\"#1f77b4\"},\"x\":{\"field\":\"x\"},\"y\":{\"field\":\"y\"}},\"id\":\"c91090c3-e7e9-4e45-95f6-6d1db7e23c5f\",\"type\":\"Line\"},{\"attributes\":{\"callback\":null,\"column_names\":[\"y\",\"x\"],\"data\":{\"x\":[0.0,0.01001001001001001,0.02002002002002002,0.03003003003003003,0.04004004004004004,0.050050050050050046,0.06006006006006006,0.07007007007007007,0.08008008008008008,0.09009009009009009,0.10010010010010009,0.11011011011011011,0.12012012012012012,0.13013013013013014,0.14014014014014015,0.15015015015015015,0.16016016016016016,0.17017017017017017,0.18018018018018017,0.19019019019019018,0.20020020020020018,0.21021021021021022,0.22022022022022023,0.23023023023023023,0.24024024024024024,0.2502502502502503,0.2602602602602603,0.2702702702702703,0.2802802802802803,0.2902902902902903,0.3003003003003003,0.3103103103103103,0.3203203203203203,0.3303303303303303,0.34034034034034033,0.35035035035035034,0.36036036036036034,0.37037037037037035,0.38038038038038036,0.39039039039039036,0.40040040040040037,0.41041041041041043,0.42042042042042044,0.43043043043043044,0.44044044044044045,0.45045045045045046,0.46046046046046046,0.47047047047047047,0.4804804804804805,0.4904904904904905,0.5005005005005005,0.5105105105105106,0.5205205205205206,0.5305305305305306,0.5405405405405406,0.5505505505505506,0.5605605605605606,0.5705705705705706,0.5805805805805806,0.5905905905905906,0.6006006006006006,0.6106106106106106,0.6206206206206206,0.6306306306306306,0.6406406406406406,0.6506506506506506,0.6606606606606606,0.6706706706706707,0.6806806806806807,0.6906906906906907,0.7007007007007007,0.7107107107107107,0.7207207207207207,0.7307307307307307,0.7407407407407407,0.7507507507507507,0.7607607607607607,0.7707707707707707,0.7807807807807807,0.7907907907907907,0.8008008008008007,0.8108108108108109,0.8208208208208209,0.8308308308308309,0.8408408408408409,0.8508508508508509,0.8608608608608609,0.8708708708708709,0.8808808808808809,0.8908908908908909,0.9009009009009009,0.9109109109109109,0.9209209209209209,0.9309309309309309,0.9409409409409409,0.950950950950951,0.960960960960961,0.970970970970971,0.980980980980981,0.990990990990991,1.001001001001001,1.011011011011011,1.021021021021021,1.031031031031031,1.0410410410410411,1.0510510510510511,1.0610610610610611,1.0710710710710711,1.0810810810810811,1.0910910910910911,1.1011011011011012,1.1111111111111112,1.1211211211211212,1.1311311311311312,1.1411411411411412,1.1511511511511512,1.1611611611611612,1.1711711711711712,1.1811811811811812,1.1911911911911912,1.2012012012012012,1.2112112112112112,1.2212212212212212,1.2312312312312312,1.2412412412412412,1.2512512512512513,1.2612612612612613,1.2712712712712713,1.2812812812812813,1.2912912912912913,1.3013013013013013,1.3113113113113113,1.3213213213213213,1.3313313313313313,1.3413413413413413,1.3513513513513513,1.3613613613613613,1.3713713713713713,1.3813813813813813,1.3913913913913913,1.4014014014014013,1.4114114114114114,1.4214214214214214,1.4314314314314314,1.4414414414414414,1.4514514514514514,1.4614614614614614,1.4714714714714714,1.4814814814814814,1.4914914914914914,1.5015015015015014,1.5115115115115114,1.5215215215215214,1.5315315315315314,1.5415415415415414,1.5515515515515514,1.5615615615615615,1.5715715715715715,1.5815815815815815,1.5915915915915915,1.6016016016016015,1.6116116116116117,1.6216216216216217,1.6316316316316317,1.6416416416416417,1.6516516516516517,1.6616616616616617,1.6716716716716717,1.6816816816816818,1.6916916916916918,1.7017017017017018,1.7117117117117118,1.7217217217217218,1.7317317317317318,1.7417417417417418,1.7517517517517518,1.7617617617617618,1.7717717717717718,1.7817817817817818,1.7917917917917918,1.8018018018018018,1.8118118118118118,1.8218218218218218,1.8318318318318318,1.8418418418418419,1.8518518518518519,1.8618618618618619,1.8718718718718719,1.8818818818818819,1.8918918918918919,1.901901901901902,1.911911911911912,1.921921921921922,1.931931931931932,1.941941941941942,1.951951951951952,1.961961961961962,1.971971971971972,1.981981981981982,1.991991991991992,2.002002002002002,2.012012012012012,2.022022022022022,2.032032032032032,2.042042042042042,2.052052052052052,2.062062062062062,2.0720720720720722,2.0820820820820822,2.0920920920920922,2.1021021021021022,2.1121121121121122,2.1221221221221223,2.1321321321321323,2.1421421421421423,2.1521521521521523,2.1621621621621623,2.1721721721721723,2.1821821821821823,2.1921921921921923,2.2022022022022023,2.2122122122122123,2.2222222222222223,2.2322322322322323,2.2422422422422423,2.2522522522522523,2.2622622622622623,2.2722722722722724,2.2822822822822824,2.2922922922922924,2.3023023023023024,2.3123123123123124,2.3223223223223224,2.3323323323323324,2.3423423423423424,2.3523523523523524,2.3623623623623624,2.3723723723723724,2.3823823823823824,2.3923923923923924,2.4024024024024024,2.4124124124124124,2.4224224224224224,2.4324324324324325,2.4424424424424425,2.4524524524524525,2.4624624624624625,2.4724724724724725,2.4824824824824825,2.4924924924924925,2.5025025025025025,2.5125125125125125,2.5225225225225225,2.5325325325325325,2.5425425425425425,2.5525525525525525,2.5625625625625625,2.5725725725725725,2.5825825825825826,2.5925925925925926,2.6026026026026026,2.6126126126126126,2.6226226226226226,2.6326326326326326,2.6426426426426426,2.6526526526526526,2.6626626626626626,2.6726726726726726,2.6826826826826826,2.6926926926926926,2.7027027027027026,2.7127127127127126,2.7227227227227226,2.7327327327327327,2.7427427427427427,2.7527527527527527,2.7627627627627627,2.7727727727727727,2.7827827827827827,2.7927927927927927,2.8028028028028027,2.8128128128128127,2.8228228228228227,2.8328328328328327,2.8428428428428427,2.8528528528528527,2.8628628628628627,2.8728728728728727,2.8828828828828827,2.8928928928928928,2.9029029029029028,2.9129129129129128,2.9229229229229228,2.932932932932933,2.942942942942943,2.952952952952953,2.962962962962963,2.972972972972973,2.982982982982983,2.992992992992993,3.003003003003003,3.013013013013013,3.023023023023023,3.033033033033033,3.043043043043043,3.053053053053053,3.063063063063063,3.073073073073073,3.083083083083083,3.093093093093093,3.103103103103103,3.113113113113113,3.123123123123123,3.133133133133133,3.143143143143143,3.153153153153153,3.163163163163163,3.173173173173173,3.183183183183183,3.193193193193193,3.203203203203203,3.2132132132132134,3.2232232232232234,3.2332332332332334,3.2432432432432434,3.2532532532532534,3.2632632632632634,3.2732732732732734,3.2832832832832834,3.2932932932932935,3.3033033033033035,3.3133133133133135,3.3233233233233235,3.3333333333333335,3.3433433433433435,3.3533533533533535,3.3633633633633635,3.3733733733733735,3.3833833833833835,3.3933933933933935,3.4034034034034035,3.4134134134134135,3.4234234234234235,3.4334334334334335,3.4434434434434436,3.4534534534534536,3.4634634634634636,3.4734734734734736,3.4834834834834836,3.4934934934934936,3.5035035035035036,3.5135135135135136,3.5235235235235236,3.5335335335335336,3.5435435435435436,3.5535535535535536,3.5635635635635636,3.5735735735735736,3.5835835835835836,3.5935935935935936,3.6036036036036037,3.6136136136136137,3.6236236236236237,3.6336336336336337,3.6436436436436437,3.6536536536536537,3.6636636636636637,3.6736736736736737,3.6836836836836837,3.6936936936936937,3.7037037037037037,3.7137137137137137,3.7237237237237237,3.7337337337337337,3.7437437437437437,3.7537537537537538,3.7637637637637638,3.7737737737737738,3.7837837837837838,3.793793793793794,3.803803803803804,3.813813813813814,3.823823823823824,3.833833833833834,3.843843843843844,3.853853853853854,3.863863863863864,3.873873873873874,3.883883883883884,3.893893893893894,3.903903903903904,3.913913913913914,3.923923923923924,3.933933933933934,3.943943943943944,3.953953953953954,3.963963963963964,3.973973973973974,3.983983983983984,3.993993993993994,4.004004004004004,4.014014014014014,4.024024024024024,4.034034034034034,4.044044044044044,4.054054054054054,4.064064064064064,4.074074074074074,4.084084084084084,4.094094094094094,4.104104104104104,4.114114114114114,4.124124124124124,4.134134134134134,4.1441441441441444,4.1541541541541545,4.1641641641641645,4.1741741741741745,4.1841841841841845,4.1941941941941945,4.2042042042042045,4.2142142142142145,4.2242242242242245,4.2342342342342345,4.2442442442442445,4.2542542542542545,4.2642642642642645,4.2742742742742745,4.2842842842842845,4.2942942942942945,4.3043043043043046,4.314314314314315,4.324324324324325,4.334334334334335,4.344344344344345,4.354354354354355,4.364364364364365,4.374374374374375,4.384384384384385,4.394394394394395,4.404404404404405,4.414414414414415,4.424424424424425,4.434434434434435,4.444444444444445,4.454454454454455,4.464464464464465,4.474474474474475,4.484484484484485,4.494494494494495,4.504504504504505,4.514514514514515,4.524524524524525,4.534534534534535,4.544544544544545,4.554554554554555,4.564564564564565,4.574574574574575,4.584584584584585,4.594594594594595,4.604604604604605,4.614614614614615,4.624624624624625,4.634634634634635,4.644644644644645,4.654654654654655,4.664664664664665,4.674674674674675,4.684684684684685,4.694694694694695,4.704704704704705,4.714714714714715,4.724724724724725,4.734734734734735,4.744744744744745,4.754754754754755,4.764764764764765,4.774774774774775,4.784784784784785,4.794794794794795,4.804804804804805,4.814814814814815,4.824824824824825,4.834834834834835,4.844844844844845,4.854854854854855,4.864864864864865,4.874874874874875,4.884884884884885,4.894894894894895,4.904904904904905,4.914914914914915,4.924924924924925,4.934934934934935,4.944944944944945,4.954954954954955,4.964964964964965,4.974974974974975,4.984984984984985,4.994994994994995,5.005005005005005,5.015015015015015,5.025025025025025,5.035035035035035,5.045045045045045,5.055055055055055,5.065065065065065,5.075075075075075,5.085085085085085,5.095095095095095,5.105105105105105,5.115115115115115,5.125125125125125,5.135135135135135,5.145145145145145,5.155155155155155,5.165165165165165,5.175175175175175,5.185185185185185,5.195195195195195,5.205205205205205,5.215215215215215,5.225225225225225,5.235235235235235,5.245245245245245,5.255255255255255,5.265265265265265,5.275275275275275,5.285285285285285,5.295295295295295,5.305305305305305,5.315315315315315,5.325325325325325,5.335335335335335,5.345345345345345,5.355355355355355,5.365365365365365,5.375375375375375,5.385385385385385,5.395395395395395,5.405405405405405,5.415415415415415,5.425425425425425,5.435435435435435,5.445445445445445,5.455455455455455,5.465465465465465,5.475475475475475,5.485485485485485,5.495495495495495,5.505505505505505,5.515515515515515,5.525525525525525,5.535535535535535,5.545545545545545,5.555555555555555,5.565565565565565,5.575575575575575,5.585585585585585,5.595595595595595,5.605605605605605,5.615615615615615,5.625625625625625,5.635635635635635,5.645645645645645,5.655655655655655,5.665665665665665,5.675675675675675,5.685685685685685,5.6956956956956954,5.7057057057057055,5.7157157157157155,5.7257257257257255,5.7357357357357355,5.7457457457457455,5.7557557557557555,5.7657657657657655,5.7757757757757755,5.7857857857857855,5.7957957957957955,5.8058058058058055,5.8158158158158155,5.8258258258258255,5.8358358358358355,5.8458458458458455,5.8558558558558556,5.865865865865866,5.875875875875876,5.885885885885886,5.895895895895896,5.905905905905906,5.915915915915916,5.925925925925926,5.935935935935936,5.945945945945946,5.955955955955956,5.965965965965966,5.975975975975976,5.985985985985986,5.995995995995996,6.006006006006006,6.016016016016016,6.026026026026026,6.036036036036036,6.046046046046046,6.056056056056056,6.066066066066066,6.076076076076076,6.086086086086086,6.096096096096096,6.106106106106106,6.116116116116116,6.126126126126126,6.136136136136136,6.146146146146146,6.156156156156156,6.166166166166166,6.176176176176176,6.186186186186186,6.196196196196196,6.206206206206206,6.216216216216216,6.226226226226226,6.236236236236236,6.246246246246246,6.256256256256256,6.266266266266266,6.276276276276276,6.286286286286286,6.296296296296296,6.306306306306306,6.316316316316316,6.326326326326326,6.336336336336336,6.346346346346346,6.356356356356356,6.366366366366366,6.376376376376376,6.386386386386386,6.396396396396396,6.406406406406406,6.416416416416417,6.426426426426427,6.436436436436437,6.446446446446447,6.456456456456457,6.466466466466467,6.476476476476477,6.486486486486487,6.496496496496497,6.506506506506507,6.516516516516517,6.526526526526527,6.536536536536537,6.546546546546547,6.556556556556557,6.566566566566567,6.576576576576577,6.586586586586587,6.596596596596597,6.606606606606607,6.616616616616617,6.626626626626627,6.636636636636637,6.646646646646647,6.656656656656657,6.666666666666667,6.676676676676677,6.686686686686687,6.696696696696697,6.706706706706707,6.716716716716717,6.726726726726727,6.736736736736737,6.746746746746747,6.756756756756757,6.766766766766767,6.776776776776777,6.786786786786787,6.796796796796797,6.806806806806807,6.816816816816817,6.826826826826827,6.836836836836837,6.846846846846847,6.856856856856857,6.866866866866867,6.876876876876877,6.886886886886887,6.896896896896897,6.906906906906907,6.916916916916917,6.926926926926927,6.936936936936937,6.946946946946947,6.956956956956957,6.966966966966967,6.976976976976977,6.986986986986987,6.996996996996997,7.007007007007007,7.017017017017017,7.027027027027027,7.037037037037037,7.047047047047047,7.057057057057057,7.067067067067067,7.077077077077077,7.087087087087087,7.097097097097097,7.107107107107107,7.117117117117117,7.127127127127127,7.137137137137137,7.147147147147147,7.157157157157157,7.167167167167167,7.177177177177177,7.187187187187187,7.197197197197197,7.207207207207207,7.217217217217217,7.227227227227227,7.237237237237237,7.247247247247247,7.257257257257257,7.267267267267267,7.277277277277277,7.287287287287287,7.297297297297297,7.307307307307307,7.317317317317317,7.327327327327327,7.337337337337337,7.347347347347347,7.357357357357357,7.367367367367367,7.377377377377377],\"y\":[10.0,10.0,10.0,10.0,10.0,10.0,10.0,10.0,10.0,10.0,10.0,10.0,10.0,10.0,10.0,10.0,10.0,10.0,10.0,10.0,10.0,10.0,10.0,10.0,10.0,10.0,10.0,10.0,10.0,10.0,10.0,10.0,10.0,10.0,10.0,10.0,10.0,10.0,10.0,10.0,10.0,10.0,10.0,10.0,10.0,10.0,10.0,10.0,10.000000000000007,10.000000000000057,10.000000000000346,10.000000000001554,10.000000000005622,10.000000000017318,10.00000000004707,10.000000000115739,10.000000000262194,10.000000000554778,10.000000001107994,10.000000002106042,10.000000003835133,10.000000006726799,10.000000011414878,10.000000018809072,10.00000003018859,10.000000047319617,10.000000072600992,10.000000109242823,10.000000161483399,10.000000234850205,10.00000033647148,10.00000047544531,10.000000663273918,10.00000091437137,10.000001246653694,10.00000168222102,10.000002248142115,10.000002977352416,10.000003909677451,10.000005092994293,10.000006584544543,10.000008452413184,10.000010777188423,10.000013653818659,10.000017193683384,10.000021526896008,10.000026804857216,10.000033203078608,10.000040924297153,10.000050201901962,10.000061303695755,10.000074536014312,10.000090248227952,10.000108837650037,10.000130754878091,10.000156509593939,10.000186676849767,10.000221903867551,10.000262917379636,10.000310531538437,10.000365656423256,10.000429307172015,10.000502613765141,10.000586831488222,10.000683352098704,10.000793715720565,10.000919623488729,10.0010629509625,10.001225762324154,10.001410325374868,10.00161912733569,10.001854891455604,10.002120594422374,10.002419484564287,10.002755100822164,10.003131292461058,10.003552239479596,10.004022473662049,10.004546900203602,10.005130819823176,10.005779951259903,10.006500454029656,10.007298951296006,10.008182552686382,10.009158876858457,10.010236073594418,10.01142284517158,10.012728466727276,10.014162805304164,10.01573633722958,10.017460163449739,10.019346022407063,10.021406300017578,10.023654036275786,10.026102927987967,10.028767327112524,10.031662234169119,10.034803286168296,10.038206738511729,10.04188944032165,10.045868802678157,10.050162759276501,10.054789719064752,10.059768510486757,10.065118317037328,10.070858603936559,10.077009035849006,10.083589385710352,10.090619434878704,10.098118864997986,10.106107142144651,10.11460339402291,10.123626281173372,10.133193863360969,10.143323462503847,10.154031523689639,10.165333475992133,10.177243594942798,10.189774868621182,10.202938869399151,10.216745633400885,10.231203549718932,10.246319261353243,10.262097579714027,10.278541414350906,10.29565171934314,10.313427457513525,10.331865583318681,10.350961044929537,10.370706805657852,10.391093884518519,10.4121114153547,10.433746723604887,10.45598541946844,10.478811505939088,10.502207499931902,10.5261545645353,10.550632650279306,10.575620643227131,10.601096517668555,10.62703749121871,10.653420180200296,10.680220753305962,10.707415081693268,10.734978883850616,10.762887863780247,10.791117841266741,10.819644873228484,10.848445365378609,10.877496173644829,10.906774695009243,10.93625894762525,10.96592764024635,10.995760231158378,11.02573697694156,11.05583897150137,11.0860481758976,11.116347439570598,11.146720513613282,11.177152056769371,11.207627634853903,11.238133714293824,11.268657650476179,11.29918767157136,11.329712858470728,11.36022312144382,11.390709174081653,11.421162505051008,11.451575348141109,11.481940651040162,11.512252043235291,11.542503803386834,11.572690826486507,11.602808591070005,11.632853126717595,11.66282098204216,11.692709193332341,11.722515253989823,11.7522370848734,11.781873005639145,11.811421707144934,11.840882224969116,11.870253914076825,11.899536424653302,11.928729679111393,11.957833850270037,11.986849340691704,12.015776763159476,12.044616922268439,12.073370797101132,12.1020395249531,12.130624386071489,12.159126789367665,12.187548259063155,12.215890422227512,12.244154997166136,12.272343782616232,12.300458647709345,12.328501522659623,12.356474390137862,12.384379277292343,12.412218248378842,12.439993397963399,12.467706844662889,12.495360725389888,12.522957190069812,12.550498396799847,12.5779865074206,12.605423683473003,12.632812082514388,12.660153854769101,12.687451140090396,12.714706065211743,12.741920741266918,12.769097261559502,12.796237699563637,12.823344107139008,12.850418512944042,12.877462921032446,12.904479309619088,12.93146963000223,12.958435805629865,12.985379731298885,13.012303272476466,13.039208264733823,13.066096513283176,13.09296979260938,13.119829846188315,13.146678386284648,13.173517093822142,13.200347618320148,13.22717157789041,13.253990559288704,13.280806118016265,13.307619778466291,13.334433034111218,13.361247347726737,13.388064151648821,13.414884848060357,13.441710809304187,13.468543378219655,13.495383868499939,13.522233565067683,13.549093724466603,13.575965575267027,13.602850318483313,13.629749128001443,13.656663151015106,13.683593508468752,13.710541295506237,13.737507581923813,13.76449341262623,13.791499808084964,13.818527764797528,13.845578255747036,13.872652230861153,13.899750617469742,13.92687432076051,13.954024224232061,13.9812011901438,14.008406059962194,14.03563965480296,14.062902775868745,14.090196204881998,14.117520704512645,14.144877018800377,14.172265873571185,14.199687976848043,14.227144019255508,14.254634674418005,14.282160599351778,14.309722434850334,14.337320805863234,14.364956321868288,14.392629577236928,14.420341151592877,14.44809161016397,14.475881504127168,14.503711370946755,14.503711370946755,14.503711370946755,14.503711370946755,14.503711370946755,14.503711370946755,14.503711370946755,14.503711370946755,14.503711370946755,14.503711370946755,14.503711370946755,14.503711370946755,14.503711370946755,14.503711370946755,14.503711370946755,14.503711370946755,14.503711370946755,14.503711370946755,14.503711370946755,14.503711370946755,14.503711370946755,14.503711370946755,14.503711370946755,14.503711370946755,14.503711370946755,14.503711370946755,14.503711370946755,14.503711370946755,14.503711370946755,14.503711370946755,14.503711370946755,14.503711370946755,14.503711370946755,14.503711370946755,14.503711370946755,14.503711370946755,14.503711370946755,14.503711370946755,14.503711370946755,14.503711370946755,14.503711370946755,14.503711370946755,14.503711370946755,14.503711370946755,14.503711370946755,14.503711370946755,14.503711370946755,14.503711370946755,14.503711370946755,14.503711370946755,14.503711370946755,14.503711370946755,14.503711370946755,14.503711370946755,14.503711370946755,14.503711370946755,14.503711370946755,14.503711370946755,14.503711370946755,14.503711370946755,14.503711370946755,14.503711370946755,14.503711370946755,14.503711370946755,14.503711370946755,14.503711370946755,14.503711370946755,14.503711370946755,14.503711370946755,14.503711370946755,14.503711370946755,14.503711370946755,14.503711370946755,14.503711370946755,14.503711370946755,14.503711370946755,14.503711370946755,14.503711370946755,14.503711370946755,14.503711370946755,14.503711370946755,14.503711370946755,14.503711370946755,14.503711370946755,14.503711370946755,14.503711370946755,14.503711370946755,14.503711370946755,14.503711370946755,14.503711370946755,14.503711370946755,14.503711370946755,14.503711370946755,14.503711370946755,14.503711370946755,14.503711370946755,14.503711370946755,14.503711370946755,14.503711370946755,14.503711370946755,14.503711370946755,14.503711370946755,14.503711370946755,14.503711370946755,14.503711370946755,14.503711370946755,14.503711370946755,14.503711370946755,14.503711370946755,14.503711370946755,14.503711370946755,14.503711370946755,14.503711370946755,14.503711370946755,14.503711370946755,14.503711370946755,14.503711370946755,14.503711370946755,14.503711370946755,14.503711370946755,14.503711370946755,14.503711370946755,14.503711370946755,14.503711370946755,14.503711370946755,14.503711370946755,14.503711370946755,14.503711370946755,14.503711370946755,14.503711370946755,14.503711370946755,14.503711370946755,14.503711370946755,14.503711370946755,14.503711370946755,14.503711370946755,14.503711370946755,14.503711370946755,14.503711370946755,14.503711370946755,14.503711370946755,14.503711370946755,14.503711370946755,14.503711370946755,14.503711370946755,14.503711370946755,14.503711370946755,14.503711370946755,14.503711370946755,14.503711370946755,14.503711370946755,14.503711370946755,14.503711370946755,14.503711370946755,14.503711370946755,14.503711370946755,14.503711370946755,14.503711370946755,14.503711370946755,14.503711370946755,14.503711370946755,14.503711370946755,14.503711370946755,14.503711370946755,14.503711370946755,14.503711370946755,14.503711370946755,14.503711370946755,14.503711370946755,14.503711370946755,14.503711370946755,14.503711370946755,14.503711370946755,14.503711370946755,14.503711370946755,14.503711370946755,14.503711370946755,14.503711370946755,14.503711370946755,14.503711370946755,14.503711370946755,14.503711370946755,14.503711370946755,14.503711370946755,14.503711370946755,14.503711370946755,14.503711370946755,14.503711370946755,14.503711370946755,14.503711370946755,14.503711370946755,14.503711370946755,14.503711370946755,14.503711370946755,14.503711370946755,14.503711370946755,14.503711370946755,14.503711370946755,14.503711370946755,14.503711370946755,14.503711370946755,14.503711370946755,14.503711370946755,14.503711370946755,14.503711370946755,14.503711370946755,14.503711370946755,14.503711370946755,14.503711370946755,14.503711370946755,14.503711370946755,14.503711370946755,14.503711370946755,14.503711370946755,14.503711370946755,14.503711370946755,14.503711370946755,14.503711370946755,14.503711370946755,14.503711370946755,14.503711370946755,14.503711370946755,14.503711370946755,14.503711370946755,14.503711370946755,14.503711370946755,14.503711370946755,14.503711370946755,14.503711370946755,14.503711370946755,14.503711370946755,14.503711370946755,14.503711370946755,14.503711370946755,14.503711370946755,14.503711370946755,14.503711370946755,14.503711370946755,14.503711370946755,14.503711370946755,14.503711370946755,14.503711370946755,14.503711370946755,14.503711370946755,14.503711370946755,14.503711370946755,14.503711370946755,14.503711370946755,14.503711370946755,14.503711370946755,14.503711370946755,14.503711370946755,14.503711370946755,14.503711370946755,14.503711370946755,14.503711370946755,14.503711370946755,14.503711370946755,14.503711370946755,14.503711370946755,14.503711370946755,14.503711370946755,14.503711370946755,14.503711370946755,14.503711370946755,14.503711370946755,14.503711370946755,14.503711370946755,14.503711370946755,14.503711370946755,14.503711370946755,14.503711370946755,14.503711370946755,14.503711370946755,14.503711370946755,14.503711370946755,14.503711370946755,14.503711370946755,14.503711370946755,14.503711370946755,14.503711370946755,14.503711370946755,14.503711370946755,14.503711370946755,14.503711370946755,14.503711370946755,14.503711370946755,14.503711370946755,14.503711370946755,14.503711370946755,14.503711370946755,14.503711370946755,14.503711370946755,14.503711370946755,14.503711370946755,14.503711370946755,14.503711370946755,14.503711370946755,14.503711370946755,14.503711370946755,14.503711370946755,14.503711370946755,14.503711370946755,14.503711370946755,14.503711370946755,14.503711370946755,14.503711370946755,14.503711370946755,14.503711370946755,14.503711370946755,14.503711370946755,14.503711370946755,14.503711370946755,14.503711370946755,14.503711370946755,14.503711370946755,14.503711370946755,14.503711370946755,14.503711370946755,14.503711370946755,14.503711370946755,14.503711370946755,14.503711370946755,14.503711370946755,14.503711370946755,14.503711370946755,14.503711370946755,14.503711370946755,14.503711370946755,14.503711370946755,14.503711370946755,14.503711370946755,14.503711370946755,14.503711370946755,14.503711370946755,14.503711370946755,14.503711370946755,14.503711370946755,14.503711370946755,14.503711370946755,14.503711370946755,14.503711370946755,14.503711370946755,14.503711370946755,14.503711370946755,14.503711370946755,14.503711370946755,14.503711370946755,14.503711370946755,14.503711370946755,14.503711370946755,14.503711370946755,14.503711370946755,14.503711370946755,14.503711370946755,14.503711370946755,14.503711370946755,14.503711370946755,14.503711370946755,14.503711370946755,14.503711370946755,14.503711370946755,14.503711370946755,14.503711370946755,14.503711370946755,14.503711370946755,14.503711370946755,14.503711370946755,14.503711370946755,14.503711370946755,14.503711370946755,14.503711370946755,14.503711370946755,14.503711370946755,14.503711370946755,14.503711370946755,14.503711370946755,14.503711370946755,14.503711370946755,14.503711370946755,14.503711370946755,14.503711370946755,14.503711370946755,14.503711370946755,14.503711370946755,14.503711370946755,14.503711370946755,14.503711370946755,14.503711370946755,14.503711370946755,14.503711370946755,14.503711370946755,14.503711370946755,14.503711370946755,14.503711370946755,14.503711370946755,14.503711370946755,14.503711370946755,14.503711370946755,14.503711370946755,14.503711370946755,14.503711370946755,14.503711370946755,14.503711370946755,14.503711370946755,14.503711370946755,14.503711370946755,14.503711370946755,14.503711370946755,14.503711370946755,14.503711370946755,14.503711370946755,14.503711370946755,14.503711370946755,14.503711370946755,14.503711370946755,14.503711370946755,14.503711370946755,14.503711370946755,14.503711370946755]}},\"id\":\"2a064019-3e6d-4785-9bda-fcf70951c94f\",\"type\":\"ColumnDataSource\"},{\"attributes\":{\"plot\":{\"id\":\"4fbef0e5-96ab-44e0-90f8-b08f95d313af\",\"subtype\":\"Figure\",\"type\":\"Plot\"}},\"id\":\"1c9670ee-5094-4f3e-a492-043154f7f6ca\",\"type\":\"WheelZoomTool\"},{\"attributes\":{\"dimension\":1,\"plot\":{\"id\":\"4fbef0e5-96ab-44e0-90f8-b08f95d313af\",\"subtype\":\"Figure\",\"type\":\"Plot\"},\"ticker\":{\"id\":\"e9b0b0f0-2682-438c-a4c4-b27eb6476c7f\",\"type\":\"BasicTicker\"}},\"id\":\"4e56aed3-cdd8-4de4-a6b1-ea8f3288c317\",\"type\":\"Grid\"},{\"attributes\":{\"plot\":{\"id\":\"4fbef0e5-96ab-44e0-90f8-b08f95d313af\",\"subtype\":\"Figure\",\"type\":\"Plot\"}},\"id\":\"4bded9b3-bb95-4c8b-b1a1-d69d9d94b67b\",\"type\":\"ResetTool\"},{\"attributes\":{\"callback\":null},\"id\":\"ea22cb80-0c71-49fc-9fcf-aa1890614663\",\"type\":\"DataRange1d\"},{\"attributes\":{\"plot\":{\"id\":\"4fbef0e5-96ab-44e0-90f8-b08f95d313af\",\"subtype\":\"Figure\",\"type\":\"Plot\"}},\"id\":\"41d40492-529a-4df8-9cd9-3b9315f3fd70\",\"type\":\"PanTool\"},{\"attributes\":{\"plot\":{\"id\":\"4fbef0e5-96ab-44e0-90f8-b08f95d313af\",\"subtype\":\"Figure\",\"type\":\"Plot\"},\"ticker\":{\"id\":\"ac8e4f63-5d76-4fff-9ec9-6baf477f0863\",\"type\":\"BasicTicker\"}},\"id\":\"1958114a-ba9d-4b36-bc57-bd71376b32bd\",\"type\":\"Grid\"},{\"attributes\":{},\"id\":\"7c57d9a9-582d-464f-b5d1-0cc7ed9db66d\",\"type\":\"BasicTickFormatter\"},{\"attributes\":{\"data_source\":{\"id\":\"2a064019-3e6d-4785-9bda-fcf70951c94f\",\"type\":\"ColumnDataSource\"},\"glyph\":{\"id\":\"5899f867-7cdb-4dd2-884a-dd335d8c62c5\",\"type\":\"Line\"},\"hover_glyph\":null,\"nonselection_glyph\":{\"id\":\"c91090c3-e7e9-4e45-95f6-6d1db7e23c5f\",\"type\":\"Line\"},\"selection_glyph\":null},\"id\":\"25050249-65e9-47be-8944-0e298653f563\",\"type\":\"GlyphRenderer\"},{\"attributes\":{\"legends\":[[\"Liquid concentration\",[{\"id\":\"25050249-65e9-47be-8944-0e298653f563\",\"type\":\"GlyphRenderer\"}]]],\"plot\":{\"id\":\"4fbef0e5-96ab-44e0-90f8-b08f95d313af\",\"subtype\":\"Figure\",\"type\":\"Plot\"}},\"id\":\"9b06f65a-4fd5-426f-880d-6ceb469b2cb3\",\"type\":\"Legend\"},{\"attributes\":{\"bottom_units\":\"screen\",\"fill_alpha\":{\"value\":0.5},\"fill_color\":{\"value\":\"lightgrey\"},\"left_units\":\"screen\",\"level\":\"overlay\",\"line_alpha\":{\"value\":1.0},\"line_color\":{\"value\":\"black\"},\"line_dash\":[4,4],\"line_width\":{\"value\":2},\"plot\":null,\"render_mode\":\"css\",\"right_units\":\"screen\",\"top_units\":\"screen\"},\"id\":\"8db56ea3-6a32-467c-94f3-b0a6498c9b54\",\"type\":\"BoxAnnotation\"},{\"attributes\":{\"axis_label\":\"Time,s\",\"formatter\":{\"id\":\"f9f5a876-0f8e-44a4-85d3-e9a1f5822fff\",\"type\":\"BasicTickFormatter\"},\"plot\":{\"id\":\"4fbef0e5-96ab-44e0-90f8-b08f95d313af\",\"subtype\":\"Figure\",\"type\":\"Plot\"},\"ticker\":{\"id\":\"ac8e4f63-5d76-4fff-9ec9-6baf477f0863\",\"type\":\"BasicTicker\"}},\"id\":\"f6ecf411-25dd-4eb7-9184-41c5f95fbe10\",\"type\":\"LinearAxis\"},{\"attributes\":{\"plot\":{\"id\":\"4fbef0e5-96ab-44e0-90f8-b08f95d313af\",\"subtype\":\"Figure\",\"type\":\"Plot\"}},\"id\":\"ebbb482e-5308-4d69-bd64-f8e0b5120022\",\"type\":\"HelpTool\"}],\"root_ids\":[\"4fbef0e5-96ab-44e0-90f8-b08f95d313af\"]},\"title\":\"Bokeh Application\",\"version\":\"0.12.2\"}};\n",
       "            var render_items = [{\"docid\":\"7ce4307e-4e7e-4673-84a3-200b83d45b54\",\"elementid\":\"3da2bfd5-adce-4a80-8253-8c189afd3f94\",\"modelid\":\"4fbef0e5-96ab-44e0-90f8-b08f95d313af\"}];\n",
       "            \n",
       "            Bokeh.embed.embed_items(docs_json, render_items);\n",
       "        });\n",
       "      },\n",
       "      function(Bokeh) {\n",
       "      }\n",
       "    ];\n",
       "  \n",
       "    function run_inline_js() {\n",
       "      \n",
       "      if ((window.Bokeh !== undefined) || (force === \"1\")) {\n",
       "        for (var i = 0; i < inline_js.length; i++) {\n",
       "          inline_js[i](window.Bokeh);\n",
       "        }if (force === \"1\") {\n",
       "          display_loaded();\n",
       "        }} else if (Date.now() < window._bokeh_timeout) {\n",
       "        setTimeout(run_inline_js, 100);\n",
       "      } else if (!window._bokeh_failed_load) {\n",
       "        console.log(\"Bokeh: BokehJS failed to load within specified timeout.\");\n",
       "        window._bokeh_failed_load = true;\n",
       "      } else if (!force) {\n",
       "        var cell = $(\"#3da2bfd5-adce-4a80-8253-8c189afd3f94\").parents('.cell').data().cell;\n",
       "        cell.output_area.append_execute_result(NB_LOAD_WARNING)\n",
       "      }\n",
       "  \n",
       "    }\n",
       "  \n",
       "    if (window._bokeh_is_loading === 0) {\n",
       "      console.log(\"Bokeh: BokehJS loaded, going straight to plotting\");\n",
       "      run_inline_js();\n",
       "    } else {\n",
       "      load_libs(js_urls, function() {\n",
       "        console.log(\"Bokeh: BokehJS plotting callback run at\", now());\n",
       "        run_inline_js();\n",
       "      });\n",
       "    }\n",
       "  }(this));\n",
       "</script>"
      ]
     },
     "metadata": {},
     "output_type": "display_data"
    }
   ],
   "source": [
    "f=bkp.figure(title=\"Liquid concentration\", x_axis_label=\"Time,s\", y_axis_label=\"C_L\")\n",
    "\n",
    "f.line(time[0:n],C_L_arr[0:n], color=\"red\", legend=\"Liquid concentration\")\n",
    "\n",
    "bkp.show(f)"
   ]
  },
  {
   "cell_type": "markdown",
   "metadata": {},
   "source": [
    "## Cooling rate:"
   ]
  },
  {
   "cell_type": "code",
   "execution_count": 50,
   "metadata": {
    "collapsed": false
   },
   "outputs": [
    {
     "name": "stdout",
     "output_type": "stream",
     "text": [
      "[  1.2   1.7   2.8  10.   25. ]\n"
     ]
    }
   ],
   "source": [
    "#Cooling rate, K/S\n",
    "cooling_rate=np.array([1.2,1.7,2.8,10,25])\n",
    "print(cooling_rate)"
   ]
  },
  {
   "cell_type": "markdown",
   "metadata": {},
   "source": [
    "## Rf:"
   ]
  },
  {
   "cell_type": "code",
   "execution_count": 9,
   "metadata": {
    "collapsed": false
   },
   "outputs": [
    {
     "name": "stdout",
     "output_type": "stream",
     "text": [
      "[  1.94935887e-05   1.70293864e-05   1.54919334e-05   1.53297097e-05\n",
      "   1.56524758e-05]\n"
     ]
    }
   ],
   "source": [
    "#Sludge area, um^2\n",
    "sludge_area=np.array([380,290,240,235,245])\n",
    "#Sludge area, m^2\n",
    "sludge_area=sludge_area*10**(-12)\n",
    "#Sludge radius, m\n",
    "sludge_radius=np.sqrt(sludge_area)\n",
    "print(sludge_radius)"
   ]
  },
  {
   "cell_type": "markdown",
   "metadata": {},
   "source": [
    "## Intermetallic growth:"
   ]
  },
  {
   "cell_type": "code",
   "execution_count": 25,
   "metadata": {
    "collapsed": false,
    "scrolled": false
   },
   "outputs": [
    {
     "ename": "IndentationError",
     "evalue": "expected an indented block (<ipython-input-25-bcbb1d9cfaa0>, line 34)",
     "output_type": "error",
     "traceback": [
      "\u001b[1;36m  File \u001b[1;32m\"<ipython-input-25-bcbb1d9cfaa0>\"\u001b[1;36m, line \u001b[1;32m34\u001b[0m\n\u001b[1;33m    C_l=np.zeros(t_f)\u001b[0m\n\u001b[1;37m      ^\u001b[0m\n\u001b[1;31mIndentationError\u001b[0m\u001b[1;31m:\u001b[0m expected an indented block\n"
     ]
    }
   ],
   "source": [
    "cr=cooling_rate[0]\n",
    "R_f=sludge_radius[0]\n",
    "t_f=20\n",
    "C_0=10.127\n",
    "k=0.1539\n",
    "N_beta=5\n",
    "v_l=3/4*np.pi*R_f**3\n",
    "D_L=2.69*10**(-9)\n",
    "delta_t=1\n",
    "pct_Fe_beta=18.15\n",
    "rho_beta=2300\n",
    "rho_eut=2300\n",
    "\n",
    "R_D=(3/(4*np.pi))*(v_l/N_beta)**(1/3)\n",
    "\n",
    "\n",
    "def sphere_volume(R):\n",
    "    return (3/4*np.pi*R**3)\n",
    "\n",
    "def sol_sup_sat(C_l):\n",
    "    return (C_l-C_0)/(C_l-C_l/k)\n",
    "    \n",
    "def phi(R_beta,A_beta):\n",
    "    return (4*np.pi*R_beta/A_beta)\n",
    "\n",
    "def V_calc(C_l,R_beta,A_beta):\n",
    "    return sol_sup_sat(C_l)/phi(R_beta,A_beta)*D_L/(R_D-R_beta)\n",
    "\n",
    "def Q(R_beta):\n",
    "    return sphere_colume(R_beta)/v_l*(rho_beta/rho_eut)\n",
    "\n",
    "def I_S():\n",
    "\n",
    "C_l=np.zeros(t_f)\n",
    "V_beta=np.zeros(t_f)\n",
    "R_beta=np.zeros(t_f)\n",
    "A_beta=np.zeros(t_f)\n",
    "f_s=np.zeros(t_f)\n",
    "\n",
    "C_l[0]=C_0\n",
    "\n",
    "\n",
    "V_beta[0]=V_calc(C_l[0],R_beta[0],A_beta[0])\n",
    "\n",
    "R_beta[1]=R_beta[0]+V_beta[0]*delta_t\n",
    "f_s[1]=(R_beta[1]/R_f)**3\n",
    "\n",
    "\n",
    "\n",
    "\n",
    "\n",
    "\n",
    "    \n",
    "\n",
    "for i in range(0,t_f,1):\n",
    "    break\n",
    "    \n",
    "print(C_l_star)\n",
    "    "
   ]
  },
  {
   "cell_type": "markdown",
   "metadata": {
    "collapsed": true
   },
   "source": []
  },
  {
   "cell_type": "code",
   "execution_count": null,
   "metadata": {
    "collapsed": true
   },
   "outputs": [],
   "source": []
  }
 ],
 "metadata": {
  "anaconda-cloud": {},
  "kernelspec": {
   "display_name": "Python [Root]",
   "language": "python",
   "name": "Python [Root]"
  },
  "language_info": {
   "codemirror_mode": {
    "name": "ipython",
    "version": 3
   },
   "file_extension": ".py",
   "mimetype": "text/x-python",
   "name": "python",
   "nbconvert_exporter": "python",
   "pygments_lexer": "ipython3",
   "version": "3.5.2"
  }
 },
 "nbformat": 4,
 "nbformat_minor": 0
}
