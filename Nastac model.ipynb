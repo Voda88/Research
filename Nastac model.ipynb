{
 "cells": [
  {
   "cell_type": "code",
   "execution_count": 51,
   "metadata": {
    "collapsed": false
   },
   "outputs": [
    {
     "data": {
      "text/html": [
       "\n",
       "    <div class=\"bk-root\">\n",
       "        <a href=\"http://bokeh.pydata.org\" target=\"_blank\" class=\"bk-logo bk-logo-small bk-logo-notebook\"></a>\n",
       "        <span id=\"9e288ded-18a2-4d0a-a1c3-bff90aee389c\">Loading BokehJS ...</span>\n",
       "    </div>"
      ]
     },
     "metadata": {},
     "output_type": "display_data"
    },
    {
     "data": {
      "application/javascript": [
       "\n",
       "(function(global) {\n",
       "  function now() {\n",
       "    return new Date();\n",
       "  }\n",
       "\n",
       "  var force = \"1\";\n",
       "\n",
       "  if (typeof (window._bokeh_onload_callbacks) === \"undefined\" || force !== \"\") {\n",
       "    window._bokeh_onload_callbacks = [];\n",
       "    window._bokeh_is_loading = undefined;\n",
       "  }\n",
       "\n",
       "\n",
       "  \n",
       "  if (typeof (window._bokeh_timeout) === \"undefined\" || force !== \"\") {\n",
       "    window._bokeh_timeout = Date.now() + 5000;\n",
       "    window._bokeh_failed_load = false;\n",
       "  }\n",
       "\n",
       "  var NB_LOAD_WARNING = {'data': {'text/html':\n",
       "     \"<div style='background-color: #fdd'>\\n\"+\n",
       "     \"<p>\\n\"+\n",
       "     \"BokehJS does not appear to have successfully loaded. If loading BokehJS from CDN, this \\n\"+\n",
       "     \"may be due to a slow or bad network connection. Possible fixes:\\n\"+\n",
       "     \"</p>\\n\"+\n",
       "     \"<ul>\\n\"+\n",
       "     \"<li>re-rerun `output_notebook()` to attempt to load from CDN again, or</li>\\n\"+\n",
       "     \"<li>use INLINE resources instead, as so:</li>\\n\"+\n",
       "     \"</ul>\\n\"+\n",
       "     \"<code>\\n\"+\n",
       "     \"from bokeh.resources import INLINE\\n\"+\n",
       "     \"output_notebook(resources=INLINE)\\n\"+\n",
       "     \"</code>\\n\"+\n",
       "     \"</div>\"}};\n",
       "\n",
       "  function display_loaded() {\n",
       "    if (window.Bokeh !== undefined) {\n",
       "      Bokeh.$(\"#9e288ded-18a2-4d0a-a1c3-bff90aee389c\").text(\"BokehJS successfully loaded.\");\n",
       "    } else if (Date.now() < window._bokeh_timeout) {\n",
       "      setTimeout(display_loaded, 100)\n",
       "    }\n",
       "  }\n",
       "\n",
       "  function run_callbacks() {\n",
       "    window._bokeh_onload_callbacks.forEach(function(callback) { callback() });\n",
       "    delete window._bokeh_onload_callbacks\n",
       "    console.info(\"Bokeh: all callbacks have finished\");\n",
       "  }\n",
       "\n",
       "  function load_libs(js_urls, callback) {\n",
       "    window._bokeh_onload_callbacks.push(callback);\n",
       "    if (window._bokeh_is_loading > 0) {\n",
       "      console.log(\"Bokeh: BokehJS is being loaded, scheduling callback at\", now());\n",
       "      return null;\n",
       "    }\n",
       "    if (js_urls == null || js_urls.length === 0) {\n",
       "      run_callbacks();\n",
       "      return null;\n",
       "    }\n",
       "    console.log(\"Bokeh: BokehJS not loaded, scheduling load and callback at\", now());\n",
       "    window._bokeh_is_loading = js_urls.length;\n",
       "    for (var i = 0; i < js_urls.length; i++) {\n",
       "      var url = js_urls[i];\n",
       "      var s = document.createElement('script');\n",
       "      s.src = url;\n",
       "      s.async = false;\n",
       "      s.onreadystatechange = s.onload = function() {\n",
       "        window._bokeh_is_loading--;\n",
       "        if (window._bokeh_is_loading === 0) {\n",
       "          console.log(\"Bokeh: all BokehJS libraries loaded\");\n",
       "          run_callbacks()\n",
       "        }\n",
       "      };\n",
       "      s.onerror = function() {\n",
       "        console.warn(\"failed to load library \" + url);\n",
       "      };\n",
       "      console.log(\"Bokeh: injecting script tag for BokehJS library: \", url);\n",
       "      document.getElementsByTagName(\"head\")[0].appendChild(s);\n",
       "    }\n",
       "  };var element = document.getElementById(\"9e288ded-18a2-4d0a-a1c3-bff90aee389c\");\n",
       "  if (element == null) {\n",
       "    console.log(\"Bokeh: ERROR: autoload.js configured with elementid '9e288ded-18a2-4d0a-a1c3-bff90aee389c' but no matching script tag was found. \")\n",
       "    return false;\n",
       "  }\n",
       "\n",
       "  var js_urls = ['https://cdn.pydata.org/bokeh/release/bokeh-0.12.2.min.js', 'https://cdn.pydata.org/bokeh/release/bokeh-widgets-0.12.2.min.js', 'https://cdn.pydata.org/bokeh/release/bokeh-compiler-0.12.2.min.js'];\n",
       "\n",
       "  var inline_js = [\n",
       "    function(Bokeh) {\n",
       "      Bokeh.set_log_level(\"info\");\n",
       "    },\n",
       "    \n",
       "    function(Bokeh) {\n",
       "      \n",
       "      Bokeh.$(\"#9e288ded-18a2-4d0a-a1c3-bff90aee389c\").text(\"BokehJS is loading...\");\n",
       "    },\n",
       "    function(Bokeh) {\n",
       "      console.log(\"Bokeh: injecting CSS: https://cdn.pydata.org/bokeh/release/bokeh-0.12.2.min.css\");\n",
       "      Bokeh.embed.inject_css(\"https://cdn.pydata.org/bokeh/release/bokeh-0.12.2.min.css\");\n",
       "      console.log(\"Bokeh: injecting CSS: https://cdn.pydata.org/bokeh/release/bokeh-widgets-0.12.2.min.css\");\n",
       "      Bokeh.embed.inject_css(\"https://cdn.pydata.org/bokeh/release/bokeh-widgets-0.12.2.min.css\");\n",
       "    }\n",
       "  ];\n",
       "\n",
       "  function run_inline_js() {\n",
       "    \n",
       "    if ((window.Bokeh !== undefined) || (force === \"1\")) {\n",
       "      for (var i = 0; i < inline_js.length; i++) {\n",
       "        inline_js[i](window.Bokeh);\n",
       "      }if (force === \"1\") {\n",
       "        display_loaded();\n",
       "      }} else if (Date.now() < window._bokeh_timeout) {\n",
       "      setTimeout(run_inline_js, 100);\n",
       "    } else if (!window._bokeh_failed_load) {\n",
       "      console.log(\"Bokeh: BokehJS failed to load within specified timeout.\");\n",
       "      window._bokeh_failed_load = true;\n",
       "    } else if (!force) {\n",
       "      var cell = $(\"#9e288ded-18a2-4d0a-a1c3-bff90aee389c\").parents('.cell').data().cell;\n",
       "      cell.output_area.append_execute_result(NB_LOAD_WARNING)\n",
       "    }\n",
       "\n",
       "  }\n",
       "\n",
       "  if (window._bokeh_is_loading === 0) {\n",
       "    console.log(\"Bokeh: BokehJS loaded, going straight to plotting\");\n",
       "    run_inline_js();\n",
       "  } else {\n",
       "    load_libs(js_urls, function() {\n",
       "      console.log(\"Bokeh: BokehJS plotting callback run at\", now());\n",
       "      run_inline_js();\n",
       "    });\n",
       "  }\n",
       "}(this));"
      ]
     },
     "metadata": {},
     "output_type": "display_data"
    }
   ],
   "source": [
    "import numpy as np\n",
    "import bokeh as bk\n",
    "from bokeh.io import push_notebook\n",
    "import bokeh.plotting as bkp\n",
    "import bokeh.models as bkm\n",
    "from bokeh.io import push_notebook\n",
    "from ipywidgets import interact\n",
    "import ipywidgets as widgets\n",
    "bkp.output_notebook()"
   ]
  },
  {
   "cell_type": "markdown",
   "metadata": {},
   "source": [
    "# Analytical model for spherical sludge growth in Al-Fe system"
   ]
  },
  {
   "cell_type": "markdown",
   "metadata": {},
   "source": [
    "## References:\n",
    "\n",
    "1. An Analytical Solidification Model for Solute Redistribution during of Planar, Columnar, or Equiaxed Morphology L. Nastac and D.M. Stefanescu: Metall. Trans. A, 1993, vol. 24A, pp. 2107-18\n",
    "\n",
    "2. Computational Modeling of NbC/Laves Formation In INCONEL 718 Equiaxed Castings L. Nastac and D.M. Stefanescu: Metall. Mater. Trans. A, 1997, vol. 28A, pp. 1582-1587"
   ]
  },
  {
   "cell_type": "markdown",
   "metadata": {},
   "source": [
    "# Introduction:\n",
    "\n",
    "## Goal: \n",
    "\n",
    "Application of Nastac-Stefanescu model for morphology of sludge ($ \\beta $ aluminum) particles\n",
    "\n",
    "## Assumptions:\n",
    "\n",
    "<ul>\n",
    "    <li>Instantaneous nucleation</li>\n",
    "    <li>Sludge growth only in liquid</li>\n",
    "    <li>negligible interference between growing\n",
    "sludge</li>\n",
    "    <li>volume diffusion limited growth of sludge.</li>\n",
    "    <li>Constant growth velocity</li>\n",
    "    \n",
    "</ul>\n",
    "\n",
    "## Schematic:\n",
    "\n",
    "<img src=\"https://dev-plebbit.s3.amazonaws.com/uploads/topic/picture/22/nucleus.png\" /img>\n",
    "\n",
    "<strong> Figure 1. Schematic of volume element (from ref.1 ) </strong>"
   ]
  },
  {
   "cell_type": "markdown",
   "metadata": {},
   "source": [
    "# Calculation strategy:"
   ]
  },
  {
   "cell_type": "markdown",
   "metadata": {},
   "source": [
    "<ol>\n",
    "    <li> Determine the material properties of Al </li>\n",
    "    <li> Determine the material properties of Fe in Al </li>\n",
    "    <li> Heat transfer: Nova </li>\n",
    "    <li> Determine final solidification time </li>\n",
    "    <li> Experimentally determine final sludge particle radius as function of cooling rate </li>\n",
    "    <li> calculate interface growth velocity: </li>\n",
    "    <li> $$ V_{\\beta} = \\frac{\\Omega_{Fe}}{\\Phi_{\\beta}} \\frac{D_L}{R_D-R_f} $$ </li>\n",
    "    <li> $$ \\Phi_{\\beta} = \\frac{4 \\pi R_{\\beta}}{A_s} $$ </li>\n",
    "    <li> $$ R_D = \\frac{3}{4\\pi} \\Bigg( \\frac{v_l}{N_{\\beta}} \\Bigg)^{1/3} $$ </li>\n",
    "    <li> $$ \\Omega_{Fe} = \\frac{C_L^* - C_0}{C_L^*-C_S^*} $$ </li>\n",
    "    <li> Calculate interface radius: </li>\n",
    "    <li> $$ R^* = V_{\\beta}t $$ </li>\n",
    "    <li> calculate f raction of solid: </li>\n",
    "    <li> $$ f_s=(R^*/Rf)^3 $$</li>\n",
    "    <li> Calculate interface liquid iron concentration as function of fraction of solid: </li>\n",
    "    <li> $$ C_L^*= \\frac{C_0\\big( kI_S +I_L -\\frac{1}{3} \\big) + Q }{kI_S + I_L - \\frac{1}{3} + \\frac{1-k f_S}{3}} $$</li>\n",
    "    <li> $$ Q= \\frac{v_{\\beta}}{v_{\\Omega}}\\frac{\\rho_{\\beta}}{\\rho_{eu}} pct \\; Fe_\\beta  $$ </li>\n",
    "    <li> $$ I_S = \\frac{2f_S}{\\pi^2} \\sum_{n=1}^{\\infty} \\frac{1}{n^2} \\Bigg[-\\big( \\frac{n \\pi}{f_s^{1/3}} \\big) \\frac{D_St}{R^2_f} \\Bigg]  $$ </li>\n",
    "    <li> $$ I_L = 2f_s^{2/3}(1-f_s^{1/3}) \\sum_{n=1}^{\\infty} \\frac{1}{\\alpha^2_n} exp \\Bigg[ -\\Big( \\frac{\\alpha_n}{1/f_s^{1/3}} \\Big)^2 \\frac{D_L t}{R^2_f} \\Bigg] $$ </li>\n",
    "    <li> $$ \\alpha_n R_f  \\cot {\\alpha_n} = R_f - R^* $$ </li>\n",
    "    <li> Calculate sludge content (wt%) as function of fraction of solid </li>\n",
    "</ol>"
   ]
  },
  {
   "cell_type": "markdown",
   "metadata": {},
   "source": [
    "# Implementation:\n",
    "\n",
    "## Experimental sludge size:"
   ]
  },
  {
   "cell_type": "markdown",
   "metadata": {
    "collapsed": true
   },
   "source": [
    "<img src=\"https://dev-plebbit.s3.amazonaws.com/uploads/topic/picture/24/sludge.png\" />"
   ]
  },
  {
   "cell_type": "markdown",
   "metadata": {},
   "source": [
    "# Heat transfer model (1D):"
   ]
  },
  {
   "cell_type": "markdown",
   "metadata": {},
   "source": [
    "    1. A 383 as Al-Si system with Si-equivalent \n",
    "    2. Use chvorinov for primary phase\n",
    "    3. Use kolmogorov for eutectic"
   ]
  },
  {
   "cell_type": "markdown",
   "metadata": {},
   "source": [
    "$$ T^{n+1} = T^{n} - \\frac{A}{v \\rho_s} \\frac{T^n-T_m}{\\Delta H_f/\\Delta T_0 + c_s} \\sqrt{\\frac{k_m \\rho_m c_m}{\\pi t^{n+1}}} \\Delta t $$"
   ]
  },
  {
   "cell_type": "markdown",
   "metadata": {},
   "source": [
    "Data taken from Nova database:\n",
    "\n",
    "<table>\n",
    "    <tr>\n",
    "        <th>Material property</th>\n",
    "        <td>$ \\rho_s $</td>\n",
    "        <td> $ c_s $ </td>\n",
    "        <td> $ k_s $ </td>\n",
    "        <td> $ v $</td>\n",
    "        <td> $ A $</td>\n",
    "        <td> $ \\Delta H_{FP} $ </td>\n",
    "        <td> $ \\Delta H_{FE} $ </td>\n",
    "        <td> $  T_L $ </td>\n",
    "        <td> $  T_S $ </td>\n",
    "        <td> $ \\Delta T_0 $ </td>\n",
    "        <td> $ T_E $ </td>\n",
    "    </tr>\n",
    "    <tr>\n",
    "        <th>value</th>\n",
    "        <td> 2485 </td>\n",
    "        <td> 964.3 </td>\n",
    "        <td> 96 </td>\n",
    "        <td> 4.029×10^-5 m^3 </td>\n",
    "        <td> 0.001089 m^2 </td>\n",
    "        <td> 340 000 </td>\n",
    "        <td> 508 497 </td>\n",
    "        <td> 867 K </td>\n",
    "        <td> 812 K </td>\n",
    "        <td> 55 K </td>\n",
    "        <td> 803 K </td>\n",
    "    </tr>\n",
    "</table>"
   ]
  },
  {
   "cell_type": "markdown",
   "metadata": {},
   "source": [
    "Mold properties:\n",
    "\n",
    "<table>\n",
    "    <tr>\n",
    "        <th>Material property</th>\n",
    "        <td> $ \\rho_m $ </td>\n",
    "        <td> $ k_m $ </td>\n",
    "        <td> $ c_m $ </td>\n",
    "    </tr>\n",
    "    <tr>\n",
    "        <th>value</th>\n",
    "        <td>1600</td>\n",
    "        <td>0.52</td>\n",
    "        <td>1170</td>\n",
    "    </tr>\n",
    "</table> "
   ]
  },
  {
   "cell_type": "code",
   "execution_count": 52,
   "metadata": {
    "collapsed": false,
    "scrolled": false
   },
   "outputs": [
    {
     "data": {
      "text/html": [
       "\n",
       "\n",
       "    <div class=\"bk-root\">\n",
       "        <div class=\"plotdiv\" id=\"44a8664c-09da-4436-801d-34bdc59f09f7\"></div>\n",
       "    </div>\n",
       "<script type=\"text/javascript\">\n",
       "  \n",
       "  (function(global) {\n",
       "    function now() {\n",
       "      return new Date();\n",
       "    }\n",
       "  \n",
       "    var force = \"\";\n",
       "  \n",
       "    if (typeof (window._bokeh_onload_callbacks) === \"undefined\" || force !== \"\") {\n",
       "      window._bokeh_onload_callbacks = [];\n",
       "      window._bokeh_is_loading = undefined;\n",
       "    }\n",
       "  \n",
       "  \n",
       "    \n",
       "    if (typeof (window._bokeh_timeout) === \"undefined\" || force !== \"\") {\n",
       "      window._bokeh_timeout = Date.now() + 0;\n",
       "      window._bokeh_failed_load = false;\n",
       "    }\n",
       "  \n",
       "    var NB_LOAD_WARNING = {'data': {'text/html':\n",
       "       \"<div style='background-color: #fdd'>\\n\"+\n",
       "       \"<p>\\n\"+\n",
       "       \"BokehJS does not appear to have successfully loaded. If loading BokehJS from CDN, this \\n\"+\n",
       "       \"may be due to a slow or bad network connection. Possible fixes:\\n\"+\n",
       "       \"</p>\\n\"+\n",
       "       \"<ul>\\n\"+\n",
       "       \"<li>re-rerun `output_notebook()` to attempt to load from CDN again, or</li>\\n\"+\n",
       "       \"<li>use INLINE resources instead, as so:</li>\\n\"+\n",
       "       \"</ul>\\n\"+\n",
       "       \"<code>\\n\"+\n",
       "       \"from bokeh.resources import INLINE\\n\"+\n",
       "       \"output_notebook(resources=INLINE)\\n\"+\n",
       "       \"</code>\\n\"+\n",
       "       \"</div>\"}};\n",
       "  \n",
       "    function display_loaded() {\n",
       "      if (window.Bokeh !== undefined) {\n",
       "        Bokeh.$(\"#44a8664c-09da-4436-801d-34bdc59f09f7\").text(\"BokehJS successfully loaded.\");\n",
       "      } else if (Date.now() < window._bokeh_timeout) {\n",
       "        setTimeout(display_loaded, 100)\n",
       "      }\n",
       "    }\n",
       "  \n",
       "    function run_callbacks() {\n",
       "      window._bokeh_onload_callbacks.forEach(function(callback) { callback() });\n",
       "      delete window._bokeh_onload_callbacks\n",
       "      console.info(\"Bokeh: all callbacks have finished\");\n",
       "    }\n",
       "  \n",
       "    function load_libs(js_urls, callback) {\n",
       "      window._bokeh_onload_callbacks.push(callback);\n",
       "      if (window._bokeh_is_loading > 0) {\n",
       "        console.log(\"Bokeh: BokehJS is being loaded, scheduling callback at\", now());\n",
       "        return null;\n",
       "      }\n",
       "      if (js_urls == null || js_urls.length === 0) {\n",
       "        run_callbacks();\n",
       "        return null;\n",
       "      }\n",
       "      console.log(\"Bokeh: BokehJS not loaded, scheduling load and callback at\", now());\n",
       "      window._bokeh_is_loading = js_urls.length;\n",
       "      for (var i = 0; i < js_urls.length; i++) {\n",
       "        var url = js_urls[i];\n",
       "        var s = document.createElement('script');\n",
       "        s.src = url;\n",
       "        s.async = false;\n",
       "        s.onreadystatechange = s.onload = function() {\n",
       "          window._bokeh_is_loading--;\n",
       "          if (window._bokeh_is_loading === 0) {\n",
       "            console.log(\"Bokeh: all BokehJS libraries loaded\");\n",
       "            run_callbacks()\n",
       "          }\n",
       "        };\n",
       "        s.onerror = function() {\n",
       "          console.warn(\"failed to load library \" + url);\n",
       "        };\n",
       "        console.log(\"Bokeh: injecting script tag for BokehJS library: \", url);\n",
       "        document.getElementsByTagName(\"head\")[0].appendChild(s);\n",
       "      }\n",
       "    };var element = document.getElementById(\"44a8664c-09da-4436-801d-34bdc59f09f7\");\n",
       "    if (element == null) {\n",
       "      console.log(\"Bokeh: ERROR: autoload.js configured with elementid '44a8664c-09da-4436-801d-34bdc59f09f7' but no matching script tag was found. \")\n",
       "      return false;\n",
       "    }\n",
       "  \n",
       "    var js_urls = [];\n",
       "  \n",
       "    var inline_js = [\n",
       "      function(Bokeh) {\n",
       "        Bokeh.$(function() {\n",
       "            var docs_json = {\"e73ec2d6-abfb-45b8-ac02-61b769b2c0cc\":{\"roots\":{\"references\":[{\"attributes\":{\"plot\":{\"id\":\"3b3ea1e7-5504-4188-9736-e3c029b7b997\",\"subtype\":\"Figure\",\"type\":\"Plot\"},\"ticker\":{\"id\":\"e45f97d5-a281-45fd-8b09-44692d4338b2\",\"type\":\"BasicTicker\"}},\"id\":\"50d50cd9-d6ab-4f54-8408-333097cb1131\",\"type\":\"Grid\"},{\"attributes\":{\"legends\":[[\"Silica sand mold\",[{\"id\":\"4a7b6ecf-046f-4090-95d2-e61a936cf6f3\",\"type\":\"GlyphRenderer\"}]]],\"plot\":{\"id\":\"3b3ea1e7-5504-4188-9736-e3c029b7b997\",\"subtype\":\"Figure\",\"type\":\"Plot\"}},\"id\":\"e37eaa62-9ab7-4830-92ba-42db1a57ca00\",\"type\":\"Legend\"},{\"attributes\":{\"plot\":{\"id\":\"3b3ea1e7-5504-4188-9736-e3c029b7b997\",\"subtype\":\"Figure\",\"type\":\"Plot\"}},\"id\":\"f4f78654-1690-471c-8764-e86f36a15692\",\"type\":\"PanTool\"},{\"attributes\":{\"plot\":{\"id\":\"3b3ea1e7-5504-4188-9736-e3c029b7b997\",\"subtype\":\"Figure\",\"type\":\"Plot\"}},\"id\":\"4bd30b83-b0ae-46d6-b51e-ca931e431b29\",\"type\":\"ResetTool\"},{\"attributes\":{\"line_color\":{\"value\":\"red\"},\"x\":{\"field\":\"x\"},\"y\":{\"field\":\"y\"}},\"id\":\"2114310f-6f5f-49af-be4d-030af591043f\",\"type\":\"Line\"},{\"attributes\":{},\"id\":\"c2c4c316-617d-4ff6-ad68-663c92217ad7\",\"type\":\"BasicTicker\"},{\"attributes\":{},\"id\":\"9ceccdce-08c8-4eb2-8d0f-ab2368d1f869\",\"type\":\"BasicTickFormatter\"},{\"attributes\":{},\"id\":\"e45f97d5-a281-45fd-8b09-44692d4338b2\",\"type\":\"BasicTicker\"},{\"attributes\":{\"plot\":null,\"text\":\"Cooling curve of A 383 casting\"},\"id\":\"c088a11f-3325-49bd-8113-a9244cb70b65\",\"type\":\"Title\"},{\"attributes\":{\"axis_label\":\"time (s)\",\"formatter\":{\"id\":\"9ceccdce-08c8-4eb2-8d0f-ab2368d1f869\",\"type\":\"BasicTickFormatter\"},\"plot\":{\"id\":\"3b3ea1e7-5504-4188-9736-e3c029b7b997\",\"subtype\":\"Figure\",\"type\":\"Plot\"},\"ticker\":{\"id\":\"e45f97d5-a281-45fd-8b09-44692d4338b2\",\"type\":\"BasicTicker\"}},\"id\":\"841a741e-5ef3-4611-b27a-42ff87d2d364\",\"type\":\"LinearAxis\"},{\"attributes\":{\"callback\":null,\"column_names\":[\"x\",\"y\"],\"data\":{\"x\":[0.0,1.0050251256281406,2.0100502512562812,3.015075376884422,4.0201005025125625,5.025125628140703,6.030150753768844,7.035175879396984,8.040201005025125,9.045226130653266,10.050251256281406,11.055276381909547,12.060301507537687,13.065326633165828,14.070351758793969,15.07537688442211,16.08040201005025,17.08542713567839,18.09045226130653,19.09547738693467,20.100502512562812,21.105527638190953,22.110552763819094,23.115577889447234,24.120603015075375,25.125628140703515,26.130653266331656,27.135678391959797,28.140703517587937,29.145728643216078,30.15075376884422,31.15577889447236,32.1608040201005,33.16582914572864,34.17085427135678,35.175879396984925,36.18090452261306,37.1859296482412,38.19095477386934,39.19597989949749,40.201005025125625,41.20603015075376,42.211055276381906,43.21608040201005,44.22110552763819,45.226130653266324,46.23115577889447,47.23618090452261,48.24120603015075,49.24623115577889,50.25125628140703,51.256281407035175,52.26130653266331,53.26633165829145,54.27135678391959,55.27638190954774,56.281407035175874,57.28643216080401,58.291457286432156,59.2964824120603,60.30150753768844,61.306532663316574,62.31155778894472,63.31658291457286,64.321608040201,65.32663316582914,66.33165829145727,67.33668341708542,68.34170854271356,69.3467336683417,70.35175879396985,71.35678391959799,72.36180904522612,73.36683417085426,74.3718592964824,75.37688442211055,76.38190954773869,77.38693467336682,78.39195979899498,79.39698492462311,80.40201005025125,81.40703517587939,82.41206030150752,83.41708542713567,84.42211055276381,85.42713567839195,86.4321608040201,87.43718592964824,88.44221105527637,89.44723618090451,90.45226130653265,91.4572864321608,92.46231155778894,93.46733668341707,94.47236180904522,95.47738693467336,96.4824120603015,97.48743718592964,98.49246231155777,99.49748743718592,100.50251256281406,101.5075376884422,102.51256281407035,103.51758793969849,104.52261306532662,105.52763819095476,106.5326633165829,107.53768844221105,108.54271356783919,109.54773869346732,110.55276381909547,111.55778894472361,112.56281407035175,113.56783919597989,114.57286432160802,115.57788944723617,116.58291457286431,117.58793969849245,118.5929648241206,119.59798994974874,120.60301507537687,121.60804020100501,122.61306532663315,123.6180904522613,124.62311557788944,125.62814070351757,126.63316582914572,127.63819095477386,128.643216080402,129.64824120603015,130.65326633165827,131.65829145728642,132.66331658291455,133.6683417085427,134.67336683417085,135.67839195979897,136.68341708542712,137.68844221105527,138.6934673366834,139.69849246231155,140.7035175879397,141.70854271356782,142.71356783919597,143.7185929648241,144.72361809045225,145.7286432160804,146.73366834170852,147.73869346733667,148.7437185929648,149.74874371859295,150.7537688442211,151.75879396984922,152.76381909547737,153.76884422110552,154.77386934673365,155.7788944723618,156.78391959798995,157.78894472361807,158.79396984924622,159.79899497487435,160.8040201005025,161.80904522613065,162.81407035175877,163.81909547738692,164.82412060301505,165.8291457286432,166.83417085427135,167.83919597989947,168.84422110552762,169.84924623115577,170.8542713567839,171.85929648241205,172.8643216080402,173.86934673366832,174.87437185929647,175.8793969849246,176.88442211055275,177.8894472361809,178.89447236180902,179.89949748743717,180.9045226130653,181.90954773869345,182.9145728643216,183.91959798994972,184.92462311557787,185.92964824120602,186.93467336683415,187.9396984924623,188.94472361809045,189.94974874371857,190.95477386934672,191.95979899497485,192.964824120603,193.96984924623115,194.97487437185927,195.97989949748742,196.98492462311555,197.9899497487437,198.99497487437185,200.0],\"y\":[900.0,872.2355219966847,853.5087533795007,851.8149775878886,850.3525984445929,849.0480615354927,847.8600010645457,846.7624428978487,845.7378211084242,844.773602623568,843.8604753651159,842.9912970649563,842.1604476422872,841.3634106260876,840.5964918111034,839.8566238818004,839.1412269354366,838.4481065231056,837.7753775685766,837.1214065653231,836.4847669562425,835.8642041984804,835.2586080620671,834.6669904120862,834.0884672035244,833.5222437519759,832.96760258003,832.4238933094215,831.8905241932337,831.3669549742228,830.8526908239645,830.3472771694038,829.8502952530077,829.3613583032607,828.8801082159938,828.4062126656603,827.9393625803834,827.4792699263111,827.0256657561958,826.5782984846815,826.136932358916,825.7013460981196,825.27133167984,824.8466932540177,824.4272461687882,824.0128160942826,823.6032382326422,823.1983566041007,822.7980234003697,822.4020983977318,822.010448423238,821.6229468682535,821.2394732443173,820.8599127769031,820.4841560332014,820.1120985805051,819.7436406721771,819.3786869585282,819.0171462202301,818.6589311221542,818.3039579857557,817.9521465783234,817.6034199175921,817.257704090371,816.9149280839795,816.5750236294001,816.237925055171,815.9035691511294,815.5718950412102,815.2428440645706,814.9163596643887,814.592387283735,814.2708742679782,813.9517697732284,813.635024680369,813.3205915142655,813.0084243677746,812.6984788302111,812.3907119199552,812.0850820209123,811.7815488225598,811.4800732633349,811.1806174771405,810.8831447427598,810.5876194359914,810.2940069843254,810.0022738239987,809.7123873592798,809.4243159238405,809.1380287440883,808.8534959043369,808.5706883137047,808.2895776746374,808.0101364529576,807.7323378493533,807.4561557722203,807.1815648117819,806.9085402154116,806.6370578640937,806.3670942499557,806.0986264548153,805.8316321296851,805.5660894751851,805.3019772228122,805.0392746170231,804.7779613980871,804.5180177856681,804.2594244631,804.002162562318,803.7462136494139,803.4915597107848,803.2381831398432,802.9860667242632,802.8117077353259,802.6381751181952,802.4654580488675,802.2935459372379,802.1224284200873,801.9520953543362,801.7825368105546,801.613743066716,801.4457046021839,801.2784120919213,801.111856400911,800.9460285787809,800.7809198546214,800.6165216319894,800.4528254840891,800.2898231491232,800.1275065258059,799.9658676690318,799.8048987856946,799.6445922306473,799.4849405028006,799.3259362413517,799.1675722221397,799.0098413541218,798.8527366759647,798.6962513527483,798.540378672776,798.3851120444875,798.2304449934709,798.0763711595687,797.922884294076,797.7699782570262,797.6176470145608,797.4658846363805,797.3146852932746,797.1640432547257,797.0139528865868,796.8644086488282,796.7154050933515,796.5669368618691,796.4189986838451,796.2715853744976,796.1246918328583,795.9783130398885,795.8324440566491,795.6870800225234,795.542216153489,795.3978477404393,795.2539701475523,795.1105788107042,794.9676692359265,794.8252369979065,794.6832777385283,794.5417871654533,794.400761050739,794.2601952294949,794.1200855985749,793.9804281153029,793.8412187962338,793.7024537159454,793.5641290058628,793.4262408531129,793.2887854994078,793.1517592399586,793.0151584224141,792.8789794458294,792.7432187596579,792.6078728627705,792.4729383024975,792.3384116736956,792.2042896178377,792.0705688221237,791.9372460186149,791.8043179833877,791.6717815357088,791.5396335372296,791.4078708912001,791.2764905417012,791.1454894728952,791.0148647082941,790.884613310045,790.7547323782312,790.625219050191,790.496070499851,790.3672839370747,790.2388566070267,790.1107857895507]}},\"id\":\"971cb5fb-f191-4bb9-8c5c-fade9ab3b9dc\",\"type\":\"ColumnDataSource\"},{\"attributes\":{\"dimension\":1,\"plot\":{\"id\":\"3b3ea1e7-5504-4188-9736-e3c029b7b997\",\"subtype\":\"Figure\",\"type\":\"Plot\"},\"ticker\":{\"id\":\"c2c4c316-617d-4ff6-ad68-663c92217ad7\",\"type\":\"BasicTicker\"}},\"id\":\"ef15ee04-82f0-4bb4-bf1e-cfb38a6cc1d1\",\"type\":\"Grid\"},{\"attributes\":{},\"id\":\"6e5473da-336f-4397-8fc8-6219a6fb0a2a\",\"type\":\"ToolEvents\"},{\"attributes\":{},\"id\":\"81f45a61-e583-4b67-bbb3-6de956cdd611\",\"type\":\"BasicTickFormatter\"},{\"attributes\":{\"line_alpha\":{\"value\":0.1},\"line_color\":{\"value\":\"#1f77b4\"},\"x\":{\"field\":\"x\"},\"y\":{\"field\":\"y\"}},\"id\":\"c2060c62-2981-4e26-b913-617310739241\",\"type\":\"Line\"},{\"attributes\":{\"below\":[{\"id\":\"841a741e-5ef3-4611-b27a-42ff87d2d364\",\"type\":\"LinearAxis\"}],\"left\":[{\"id\":\"280f6415-18a8-4001-b437-903ed14606cf\",\"type\":\"LinearAxis\"}],\"renderers\":[{\"id\":\"841a741e-5ef3-4611-b27a-42ff87d2d364\",\"type\":\"LinearAxis\"},{\"id\":\"50d50cd9-d6ab-4f54-8408-333097cb1131\",\"type\":\"Grid\"},{\"id\":\"280f6415-18a8-4001-b437-903ed14606cf\",\"type\":\"LinearAxis\"},{\"id\":\"ef15ee04-82f0-4bb4-bf1e-cfb38a6cc1d1\",\"type\":\"Grid\"},{\"id\":\"88747472-737e-4669-9d97-5e4cc624fef6\",\"type\":\"BoxAnnotation\"},{\"id\":\"e37eaa62-9ab7-4830-92ba-42db1a57ca00\",\"type\":\"Legend\"},{\"id\":\"4a7b6ecf-046f-4090-95d2-e61a936cf6f3\",\"type\":\"GlyphRenderer\"}],\"title\":{\"id\":\"c088a11f-3325-49bd-8113-a9244cb70b65\",\"type\":\"Title\"},\"tool_events\":{\"id\":\"6e5473da-336f-4397-8fc8-6219a6fb0a2a\",\"type\":\"ToolEvents\"},\"toolbar\":{\"id\":\"e552d860-11d4-43a0-a934-9a8d29140ba9\",\"type\":\"Toolbar\"},\"x_range\":{\"id\":\"57711974-69c4-453e-99ce-6a8f4217fec8\",\"type\":\"DataRange1d\"},\"y_range\":{\"id\":\"08a042eb-8163-4539-b5c2-e3b816b116c2\",\"type\":\"DataRange1d\"}},\"id\":\"3b3ea1e7-5504-4188-9736-e3c029b7b997\",\"subtype\":\"Figure\",\"type\":\"Plot\"},{\"attributes\":{\"plot\":{\"id\":\"3b3ea1e7-5504-4188-9736-e3c029b7b997\",\"subtype\":\"Figure\",\"type\":\"Plot\"}},\"id\":\"4655d603-2023-4570-aec9-90224c051584\",\"type\":\"SaveTool\"},{\"attributes\":{\"bottom_units\":\"screen\",\"fill_alpha\":{\"value\":0.5},\"fill_color\":{\"value\":\"lightgrey\"},\"left_units\":\"screen\",\"level\":\"overlay\",\"line_alpha\":{\"value\":1.0},\"line_color\":{\"value\":\"black\"},\"line_dash\":[4,4],\"line_width\":{\"value\":2},\"plot\":null,\"render_mode\":\"css\",\"right_units\":\"screen\",\"top_units\":\"screen\"},\"id\":\"88747472-737e-4669-9d97-5e4cc624fef6\",\"type\":\"BoxAnnotation\"},{\"attributes\":{\"data_source\":{\"id\":\"971cb5fb-f191-4bb9-8c5c-fade9ab3b9dc\",\"type\":\"ColumnDataSource\"},\"glyph\":{\"id\":\"2114310f-6f5f-49af-be4d-030af591043f\",\"type\":\"Line\"},\"hover_glyph\":null,\"nonselection_glyph\":{\"id\":\"c2060c62-2981-4e26-b913-617310739241\",\"type\":\"Line\"},\"selection_glyph\":null},\"id\":\"4a7b6ecf-046f-4090-95d2-e61a936cf6f3\",\"type\":\"GlyphRenderer\"},{\"attributes\":{\"callback\":null},\"id\":\"08a042eb-8163-4539-b5c2-e3b816b116c2\",\"type\":\"DataRange1d\"},{\"attributes\":{\"callback\":null},\"id\":\"57711974-69c4-453e-99ce-6a8f4217fec8\",\"type\":\"DataRange1d\"},{\"attributes\":{\"axis_label\":\"Temperature (K)\",\"formatter\":{\"id\":\"81f45a61-e583-4b67-bbb3-6de956cdd611\",\"type\":\"BasicTickFormatter\"},\"plot\":{\"id\":\"3b3ea1e7-5504-4188-9736-e3c029b7b997\",\"subtype\":\"Figure\",\"type\":\"Plot\"},\"ticker\":{\"id\":\"c2c4c316-617d-4ff6-ad68-663c92217ad7\",\"type\":\"BasicTicker\"}},\"id\":\"280f6415-18a8-4001-b437-903ed14606cf\",\"type\":\"LinearAxis\"},{\"attributes\":{\"plot\":{\"id\":\"3b3ea1e7-5504-4188-9736-e3c029b7b997\",\"subtype\":\"Figure\",\"type\":\"Plot\"}},\"id\":\"be200ebc-6262-4b66-9613-d1d70da03f30\",\"type\":\"WheelZoomTool\"},{\"attributes\":{\"plot\":{\"id\":\"3b3ea1e7-5504-4188-9736-e3c029b7b997\",\"subtype\":\"Figure\",\"type\":\"Plot\"}},\"id\":\"4b04f4c2-5ad2-4fe9-8cc2-a66053e3c603\",\"type\":\"HelpTool\"},{\"attributes\":{\"active_drag\":\"auto\",\"active_scroll\":\"auto\",\"active_tap\":\"auto\",\"tools\":[{\"id\":\"f4f78654-1690-471c-8764-e86f36a15692\",\"type\":\"PanTool\"},{\"id\":\"be200ebc-6262-4b66-9613-d1d70da03f30\",\"type\":\"WheelZoomTool\"},{\"id\":\"8ee55888-ce85-4bc4-9d2e-fe44512252df\",\"type\":\"BoxZoomTool\"},{\"id\":\"4655d603-2023-4570-aec9-90224c051584\",\"type\":\"SaveTool\"},{\"id\":\"4bd30b83-b0ae-46d6-b51e-ca931e431b29\",\"type\":\"ResetTool\"},{\"id\":\"4b04f4c2-5ad2-4fe9-8cc2-a66053e3c603\",\"type\":\"HelpTool\"}]},\"id\":\"e552d860-11d4-43a0-a934-9a8d29140ba9\",\"type\":\"Toolbar\"},{\"attributes\":{\"overlay\":{\"id\":\"88747472-737e-4669-9d97-5e4cc624fef6\",\"type\":\"BoxAnnotation\"},\"plot\":{\"id\":\"3b3ea1e7-5504-4188-9736-e3c029b7b997\",\"subtype\":\"Figure\",\"type\":\"Plot\"}},\"id\":\"8ee55888-ce85-4bc4-9d2e-fe44512252df\",\"type\":\"BoxZoomTool\"}],\"root_ids\":[\"3b3ea1e7-5504-4188-9736-e3c029b7b997\"]},\"title\":\"Bokeh Application\",\"version\":\"0.12.2\"}};\n",
       "            var render_items = [{\"docid\":\"e73ec2d6-abfb-45b8-ac02-61b769b2c0cc\",\"elementid\":\"44a8664c-09da-4436-801d-34bdc59f09f7\",\"modelid\":\"3b3ea1e7-5504-4188-9736-e3c029b7b997\"}];\n",
       "            \n",
       "            Bokeh.embed.embed_items(docs_json, render_items);\n",
       "        });\n",
       "      },\n",
       "      function(Bokeh) {\n",
       "      }\n",
       "    ];\n",
       "  \n",
       "    function run_inline_js() {\n",
       "      \n",
       "      if ((window.Bokeh !== undefined) || (force === \"1\")) {\n",
       "        for (var i = 0; i < inline_js.length; i++) {\n",
       "          inline_js[i](window.Bokeh);\n",
       "        }if (force === \"1\") {\n",
       "          display_loaded();\n",
       "        }} else if (Date.now() < window._bokeh_timeout) {\n",
       "        setTimeout(run_inline_js, 100);\n",
       "      } else if (!window._bokeh_failed_load) {\n",
       "        console.log(\"Bokeh: BokehJS failed to load within specified timeout.\");\n",
       "        window._bokeh_failed_load = true;\n",
       "      } else if (!force) {\n",
       "        var cell = $(\"#44a8664c-09da-4436-801d-34bdc59f09f7\").parents('.cell').data().cell;\n",
       "        cell.output_area.append_execute_result(NB_LOAD_WARNING)\n",
       "      }\n",
       "  \n",
       "    }\n",
       "  \n",
       "    if (window._bokeh_is_loading === 0) {\n",
       "      console.log(\"Bokeh: BokehJS loaded, going straight to plotting\");\n",
       "      run_inline_js();\n",
       "    } else {\n",
       "      load_libs(js_urls, function() {\n",
       "        console.log(\"Bokeh: BokehJS plotting callback run at\", now());\n",
       "        run_inline_js();\n",
       "      });\n",
       "    }\n",
       "  }(this));\n",
       "</script>"
      ]
     },
     "metadata": {},
     "output_type": "display_data"
    }
   ],
   "source": [
    "Delta_t=1\n",
    "T_i= 900\n",
    "Delta_T_0=64\n",
    "v=4.029*10**(-5)\n",
    "A=0.001089\n",
    "Delta_H_FP=340000\n",
    "Delta_H_FE=508497\n",
    "rho_s=2485\n",
    "c_s=964\n",
    "T_L=867\n",
    "T_S=812\n",
    "T_m=298.15\n",
    "T_E=803\n",
    "\n",
    "#cast iron mold:\n",
    "\n",
    "rho_m=7050\n",
    "k_m=40\n",
    "c_m=794\n",
    "\n",
    "\n",
    "#simulation parameters:\n",
    "\n",
    "step_count=200\n",
    "\n",
    "temp_values=np.empty(step_count)\n",
    "temp_values[0]=T_i\n",
    "    \n",
    "def calc_temp(rho_m,k_m,c_m,temp_values):\n",
    "    for i in range(1,step_count):\n",
    "        if (temp_values[i-1]>T_L):\n",
    "            temp_values[i]=temp_values[i-1]-A/v*(temp_values[i-1]-T_m)/(rho*(c))*np.sqrt((k_m*rho_m*c_m/(np.pi*(Delta_t*i))))*Delta_t\n",
    "            \n",
    "        elif (temp_values[i-1] > T_E):\n",
    "            temp_values[i]=temp_values[i-1]-A/v*(temp_values[i-1]-T_m)/(rho*(Delta_H_FP/Delta_T_0 + c))*np.sqrt((k_m*rho_m*c_m/(np.pi*(Delta_t*i))))*Delta_t\n",
    "            \n",
    "        else:\n",
    "            temp_values[i]=temp_values[i-1]-A/v*(temp_values[i-1]-T_m)/(rho*(Delta_H_FE/Delta_T_0 + c))*np.sqrt((k_m*rho_m*c_m/(np.pi*(Delta_t*i))))*Delta_t\n",
    "            \n",
    "calc_temp(rho_m,k_m,c_m,temp_values)\n",
    "        \n",
    "f=bkp.figure(title=\"Cooling curve of A 383 casting\", x_axis_label=\"time (s)\", y_axis_label=\"Temperature (K)\")\n",
    "time_series=np.linspace(0,step_count*Delta_t,step_count)\n",
    "time_series_h=np.linspace(Delta_t,step_count*Delta_t,step_count)\n",
    "\n",
    "f.line(time_series,temp_values, color=\"red\", legend=\"Silica sand mold\")\n",
    "\n",
    "bkp.show(f)"
   ]
  },
  {
   "cell_type": "code",
   "execution_count": null,
   "metadata": {
    "collapsed": true
   },
   "outputs": [],
   "source": []
  },
  {
   "cell_type": "markdown",
   "metadata": {},
   "source": [
    "## Cooling rate:"
   ]
  },
  {
   "cell_type": "code",
   "execution_count": 50,
   "metadata": {
    "collapsed": false
   },
   "outputs": [
    {
     "name": "stdout",
     "output_type": "stream",
     "text": [
      "[  1.2   1.7   2.8  10.   25. ]\n"
     ]
    }
   ],
   "source": [
    "#Cooling rate, K/S\n",
    "cooling_rate=np.array([1.2,1.7,2.8,10,25])\n",
    "print(cooling_rate)"
   ]
  },
  {
   "cell_type": "markdown",
   "metadata": {},
   "source": [
    "## Rf:"
   ]
  },
  {
   "cell_type": "code",
   "execution_count": 9,
   "metadata": {
    "collapsed": false
   },
   "outputs": [
    {
     "name": "stdout",
     "output_type": "stream",
     "text": [
      "[  1.94935887e-05   1.70293864e-05   1.54919334e-05   1.53297097e-05\n",
      "   1.56524758e-05]\n"
     ]
    }
   ],
   "source": [
    "#Sludge area, um^2\n",
    "sludge_area=np.array([380,290,240,235,245])\n",
    "#Sludge area, m^2\n",
    "sludge_area=sludge_area*10**(-12)\n",
    "#Sludge radius, m\n",
    "sludge_radius=np.sqrt(sludge_area)\n",
    "print(sludge_radius)"
   ]
  },
  {
   "cell_type": "markdown",
   "metadata": {},
   "source": [
    "## Intermetallic growth:"
   ]
  },
  {
   "cell_type": "code",
   "execution_count": 25,
   "metadata": {
    "collapsed": false
   },
   "outputs": [
    {
     "ename": "IndentationError",
     "evalue": "expected an indented block (<ipython-input-25-bcbb1d9cfaa0>, line 34)",
     "output_type": "error",
     "traceback": [
      "\u001b[1;36m  File \u001b[1;32m\"<ipython-input-25-bcbb1d9cfaa0>\"\u001b[1;36m, line \u001b[1;32m34\u001b[0m\n\u001b[1;33m    C_l=np.zeros(t_f)\u001b[0m\n\u001b[1;37m      ^\u001b[0m\n\u001b[1;31mIndentationError\u001b[0m\u001b[1;31m:\u001b[0m expected an indented block\n"
     ]
    }
   ],
   "source": [
    "cr=cooling_rate[0]\n",
    "R_f=sludge_radius[0]\n",
    "t_f=20\n",
    "C_0=10.127\n",
    "k=0.1539\n",
    "N_beta=5\n",
    "v_l=3/4*np.pi*R_f**3\n",
    "D_L=2.69*10**(-9)\n",
    "delta_t=1\n",
    "pct_Fe_beta=18.15\n",
    "rho_beta=2300\n",
    "rho_eut=2300\n",
    "\n",
    "R_D=(3/(4*np.pi))*(v_l/N_beta)**(1/3)\n",
    "\n",
    "\n",
    "def sphere_volume(R):\n",
    "    return (3/4*np.pi*R**3)\n",
    "\n",
    "def sol_sup_sat(C_l):\n",
    "    return (C_l-C_0)/(C_l-C_l/k)\n",
    "    \n",
    "def phi(R_beta,A_beta):\n",
    "    return (4*np.pi*R_beta/A_beta)\n",
    "\n",
    "def V_calc(C_l,R_beta,A_beta):\n",
    "    return sol_sup_sat(C_l)/phi(R_beta,A_beta)*D_L/(R_D-R_beta)\n",
    "\n",
    "def Q(R_beta):\n",
    "    return sphere_colume(R_beta)/v_l*(rho_beta/rho_eut)\n",
    "\n",
    "def I_S():\n",
    "\n",
    "C_l=np.zeros(t_f)\n",
    "V_beta=np.zeros(t_f)\n",
    "R_beta=np.zeros(t_f)\n",
    "A_beta=np.zeros(t_f)\n",
    "f_s=np.zeros(t_f)\n",
    "\n",
    "C_l[0]=C_0\n",
    "\n",
    "\n",
    "V_beta[0]=V_calc(C_l[0],R_beta[0],A_beta[0])\n",
    "\n",
    "R_beta[1]=R_beta[0]+V_beta[0]*delta_t\n",
    "f_s[1]=(R_beta[1]/R_f)**3\n",
    "\n",
    "\n",
    "\n",
    "\n",
    "\n",
    "\n",
    "    \n",
    "\n",
    "for i in range(0,t_f,1):\n",
    "    break\n",
    "    \n",
    "print(C_l_star)\n",
    "    "
   ]
  },
  {
   "cell_type": "markdown",
   "metadata": {
    "collapsed": true
   },
   "source": []
  },
  {
   "cell_type": "code",
   "execution_count": null,
   "metadata": {
    "collapsed": true
   },
   "outputs": [],
   "source": []
  }
 ],
 "metadata": {
  "anaconda-cloud": {},
  "kernelspec": {
   "display_name": "Python [Root]",
   "language": "python",
   "name": "Python [Root]"
  },
  "language_info": {
   "codemirror_mode": {
    "name": "ipython",
    "version": 3
   },
   "file_extension": ".py",
   "mimetype": "text/x-python",
   "name": "python",
   "nbconvert_exporter": "python",
   "pygments_lexer": "ipython3",
   "version": "3.5.2"
  }
 },
 "nbformat": 4,
 "nbformat_minor": 0
}
